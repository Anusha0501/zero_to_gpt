{
 "cells": [
  {
   "cell_type": "code",
   "execution_count": 1,
   "outputs": [],
   "source": [
    "import os\n",
    "import sys\n",
    "import numpy as np\n",
    "import pandas as pd\n",
    "sys.path.append(os.path.abspath(\"../../nnets\"))\n",
    "from graph import Node, Parameter, display_chain, reshape_grad\n",
    "\n",
    "# Read in our data, and fill missing values\n",
    "data = pd.read_csv(\"../../data/clean_weather.csv\", index_col=0)\n",
    "data = data.ffill()\n",
    "\n",
    "x = data[:10][[\"tmax\", \"tmin\", \"rain\"]].to_numpy()\n",
    "y = data[:10][[\"tmax_tomorrow\"]].to_numpy()"
   ],
   "metadata": {
    "collapsed": false
   }
  },
  {
   "cell_type": "code",
   "execution_count": 2,
   "outputs": [],
   "source": [
    "class MatMul(Node):\n",
    "    def forward(self, x, w):\n",
    "        return x @ w\n",
    "\n",
    "    def backward(self, grad):\n",
    "        x, w = self.cache\n",
    "        return grad @ w.T, x.T @ grad\n",
    "\n",
    "class Add(Node):\n",
    "    def forward(self, x, b):\n",
    "        return x + b\n",
    "\n",
    "    def backward(self, grad):\n",
    "        return grad, grad\n",
    "\n",
    "class MSE(Node):\n",
    "    def forward(self, pred, actual):\n",
    "        return pred, (pred - actual) ** 2\n",
    "\n",
    "    def backward(self, grad):\n",
    "        pred, actual = self.cache\n",
    "        return 2 * (pred - actual)\n",
    "\n",
    "class Pow(Node):\n",
    "    def forward(self, x, exponent):\n",
    "        return x ** exponent\n",
    "\n",
    "    def backward(self, grad):\n",
    "        x, exponent = self.cache\n",
    "        return grad * exponent * x ** (exponent - 1)\n",
    "\n",
    "class Subtract(Node):\n",
    "    def forward(self, x, y):\n",
    "        return x - y\n",
    "\n",
    "    def backward(self, grad):\n",
    "        return grad, -grad\n",
    "\n",
    "class Relu(Node):\n",
    "    def forward(self, x):\n",
    "        return np.maximum(x, 0)\n",
    "\n",
    "    def backward(self, grad):\n",
    "        x = self.cache[0]\n",
    "        grad[x < 0] = 0\n",
    "        return grad"
   ],
   "metadata": {
    "collapsed": false
   }
  },
  {
   "cell_type": "code",
   "execution_count": 3,
   "outputs": [],
   "source": [
    "w1 = np.random.rand(3, 3)\n",
    "b1 = np.random.rand(3)\n",
    "w2 = np.random.rand(3,1)\n",
    "b2 = np.random.rand(1)\n",
    "\n",
    "l1 = x @ w1 + b1\n",
    "l1_activated = np.maximum(l1, 0)\n",
    "l2 = l1_activated @ w2 + b2\n",
    "\n",
    "loss = 2 * (l2 - y)\n",
    "\n",
    "l2_w_grad = l1_activated.T @ loss\n",
    "l2_b_grad = loss.sum(axis=0)\n",
    "\n",
    "l1_grad = loss @ w2.T\n",
    "l1_grad[l1 < 0] = 0\n",
    "\n",
    "l1_w_grad = x.T @ l1_grad\n",
    "l1_b_grad = l1_grad.sum(axis=0)"
   ],
   "metadata": {
    "collapsed": false
   }
  },
  {
   "cell_type": "code",
   "execution_count": 4,
   "outputs": [
    {
     "data": {
      "text/plain": "array([[5.84405065e+03, 2.35229698e+04, 2.84577548e+02],\n       [4.55485139e+03, 1.83337959e+04, 2.21799659e+02],\n       [8.92341412e+00, 3.59177587e+01, 4.34527944e-01]])"
     },
     "execution_count": 4,
     "metadata": {},
     "output_type": "execute_result"
    }
   ],
   "source": [
    "l1_w_grad"
   ],
   "metadata": {
    "collapsed": false
   }
  },
  {
   "cell_type": "code",
   "execution_count": 5,
   "outputs": [],
   "source": [
    "X = Parameter(x, desc=\"X\", needs_grad=False)\n",
    "Y = Parameter(y, desc=\"y\", needs_grad=False)\n",
    "\n",
    "w1_param = Parameter(w1, desc=\"W1\")\n",
    "b1_param = Parameter(b1, desc=\"b1\")\n",
    "\n",
    "matmul1 = MatMul(X, w1_param, out=\"X @ W1\")\n",
    "add1 = Add(matmul1, b1_param, out=\"Z1\")\n",
    "\n",
    "layer1 = Relu(add1, out=\"A1\")\n",
    "\n",
    "w2_param = Parameter(w2, desc=\"W2\")\n",
    "b2_param = Parameter(b2, desc=\"b2\")\n",
    "matmul2 = MatMul(layer1, w2_param, out=\"Z1 @ W2\")\n",
    "add2 = Add(matmul2, b2_param, out=\"Z2\")\n",
    "\n",
    "sub = Subtract(add2, Y, out=\"p - y\")\n",
    "square = Parameter(2, desc=\"2\", needs_grad=False)\n",
    "pow = Pow(sub, square, out=\"L\")\n",
    "loss = pow.apply_fwd()"
   ],
   "metadata": {
    "collapsed": false
   }
  },
  {
   "cell_type": "code",
   "execution_count": 6,
   "outputs": [
    {
     "data": {
      "text/plain": "True"
     },
     "execution_count": 6,
     "metadata": {},
     "output_type": "execute_result"
    }
   ],
   "source": [
    "mse = MSE(add2, Y, out=\"L\")\n",
    "pred, loss_mse = mse.apply_fwd()\n",
    "\n",
    "np.allclose(loss, loss_mse)"
   ],
   "metadata": {
    "collapsed": false
   }
  },
  {
   "cell_type": "code",
   "execution_count": 7,
   "outputs": [
    {
     "data": {
      "text/plain": "True"
     },
     "execution_count": 7,
     "metadata": {},
     "output_type": "execute_result"
    }
   ],
   "source": [
    "np.allclose(l2, pred)"
   ],
   "metadata": {
    "collapsed": false
   }
  },
  {
   "cell_type": "code",
   "execution_count": 8,
   "outputs": [
    {
     "data": {
      "image/svg+xml": "<?xml version=\"1.0\" encoding=\"UTF-8\" standalone=\"no\"?>\n<!DOCTYPE svg PUBLIC \"-//W3C//DTD SVG 1.1//EN\"\n \"http://www.w3.org/Graphics/SVG/1.1/DTD/svg11.dtd\">\n<!-- Generated by graphviz version 7.0.6 (20230106.0513)\n -->\n<!-- Title: fwd_pass Pages: 1 -->\n<svg width=\"838pt\" height=\"222pt\"\n viewBox=\"0.00 0.00 838.28 222.00\" xmlns=\"http://www.w3.org/2000/svg\" xmlns:xlink=\"http://www.w3.org/1999/xlink\">\n<g id=\"graph0\" class=\"graph\" transform=\"scale(1 1) rotate(0) translate(4 218)\">\n<title>fwd_pass</title>\n<polygon fill=\"white\" stroke=\"none\" points=\"-4,4 -4,-218 834.28,-218 834.28,4 -4,4\"/>\n<!-- 4887337600 -->\n<g id=\"node1\" class=\"node\">\n<title>4887337600</title>\n<ellipse fill=\"none\" stroke=\"black\" cx=\"801.03\" cy=\"-37\" rx=\"29.5\" ry=\"18\"/>\n<text text-anchor=\"middle\" x=\"801.03\" y=\"-33.3\" font-family=\"Times,serif\" font-size=\"14.00\">MSE</text>\n</g>\n<!-- 4887337264 -->\n<g id=\"node2\" class=\"node\">\n<title>4887337264</title>\n<ellipse fill=\"none\" stroke=\"black\" cx=\"692.78\" cy=\"-72\" rx=\"27\" ry=\"18\"/>\n<text text-anchor=\"middle\" x=\"692.78\" y=\"-68.3\" font-family=\"Times,serif\" font-size=\"14.00\">Add</text>\n</g>\n<!-- 4887337264&#45;&gt;4887337600 -->\n<g id=\"edge10\" class=\"edge\">\n<title>4887337264&#45;&gt;4887337600</title>\n<path fill=\"none\" stroke=\"black\" d=\"M717.62,-64.15C731.21,-59.67 748.52,-53.97 763.76,-48.95\"/>\n<polygon fill=\"black\" stroke=\"black\" points=\"764.57,-52.37 772.97,-45.91 762.38,-45.72 764.57,-52.37\"/>\n<text text-anchor=\"middle\" x=\"745.78\" y=\"-59.8\" font-family=\"Times,serif\" font-size=\"14.00\">Z2</text>\n</g>\n<!-- 4887337360 -->\n<g id=\"node3\" class=\"node\">\n<title>4887337360</title>\n<ellipse fill=\"none\" stroke=\"black\" cx=\"534.48\" cy=\"-103\" rx=\"40.09\" ry=\"18\"/>\n<text text-anchor=\"middle\" x=\"534.48\" y=\"-99.3\" font-family=\"Times,serif\" font-size=\"14.00\">MatMul</text>\n</g>\n<!-- 4887337360&#45;&gt;4887337264 -->\n<g id=\"edge8\" class=\"edge\">\n<title>4887337360&#45;&gt;4887337264</title>\n<path fill=\"none\" stroke=\"black\" d=\"M571.73,-95.81C596.8,-90.84 630.04,-84.25 655.18,-79.26\"/>\n<polygon fill=\"black\" stroke=\"black\" points=\"655.84,-82.7 664.97,-77.32 654.48,-75.83 655.84,-82.7\"/>\n<text text-anchor=\"middle\" x=\"620.28\" y=\"-94.8\" font-family=\"Times,serif\" font-size=\"14.00\">Z1 @ W2</text>\n</g>\n<!-- 4887333520 -->\n<g id=\"node4\" class=\"node\">\n<title>4887333520</title>\n<ellipse fill=\"none\" stroke=\"black\" cx=\"409.89\" cy=\"-134\" rx=\"27.1\" ry=\"18\"/>\n<text text-anchor=\"middle\" x=\"409.89\" y=\"-130.3\" font-family=\"Times,serif\" font-size=\"14.00\">Relu</text>\n</g>\n<!-- 4887333520&#45;&gt;4887337360 -->\n<g id=\"edge6\" class=\"edge\">\n<title>4887333520&#45;&gt;4887337360</title>\n<path fill=\"none\" stroke=\"black\" d=\"M435.7,-127.73C450.69,-123.94 470.27,-118.99 487.96,-114.51\"/>\n<polygon fill=\"black\" stroke=\"black\" points=\"488.65,-117.95 497.49,-112.1 486.94,-111.16 488.65,-117.95\"/>\n<text text-anchor=\"middle\" x=\"465.69\" y=\"-125.8\" font-family=\"Times,serif\" font-size=\"14.00\">A1</text>\n</g>\n<!-- 4887331696 -->\n<g id=\"node5\" class=\"node\">\n<title>4887331696</title>\n<ellipse fill=\"none\" stroke=\"black\" cx=\"303.59\" cy=\"-134\" rx=\"27\" ry=\"18\"/>\n<text text-anchor=\"middle\" x=\"303.59\" y=\"-130.3\" font-family=\"Times,serif\" font-size=\"14.00\">Add</text>\n</g>\n<!-- 4887331696&#45;&gt;4887333520 -->\n<g id=\"edge5\" class=\"edge\">\n<title>4887331696&#45;&gt;4887333520</title>\n<path fill=\"none\" stroke=\"black\" d=\"M330.91,-134C343.14,-134 357.9,-134 371.28,-134\"/>\n<polygon fill=\"black\" stroke=\"black\" points=\"371.07,-137.5 381.07,-134 371.07,-130.5 371.07,-137.5\"/>\n<text text-anchor=\"middle\" x=\"356.59\" y=\"-137.8\" font-family=\"Times,serif\" font-size=\"14.00\">Z1</text>\n</g>\n<!-- 4887338032 -->\n<g id=\"node6\" class=\"node\">\n<title>4887338032</title>\n<ellipse fill=\"none\" stroke=\"black\" cx=\"151.3\" cy=\"-169\" rx=\"40.09\" ry=\"18\"/>\n<text text-anchor=\"middle\" x=\"151.3\" y=\"-165.3\" font-family=\"Times,serif\" font-size=\"14.00\">MatMul</text>\n</g>\n<!-- 4887338032&#45;&gt;4887331696 -->\n<g id=\"edge3\" class=\"edge\">\n<title>4887338032&#45;&gt;4887331696</title>\n<path fill=\"none\" stroke=\"black\" d=\"M187.53,-160.79C211.39,-155.24 242.82,-147.92 266.79,-142.34\"/>\n<polygon fill=\"black\" stroke=\"black\" points=\"267.48,-145.77 276.43,-140.09 265.89,-138.95 267.48,-145.77\"/>\n<text text-anchor=\"middle\" x=\"234.09\" y=\"-157.8\" font-family=\"Times,serif\" font-size=\"14.00\">X @ W1</text>\n</g>\n<!-- 4887343744 -->\n<g id=\"node7\" class=\"node\">\n<title>4887343744</title>\n<ellipse fill=\"none\" stroke=\"black\" cx=\"27\" cy=\"-196\" rx=\"27\" ry=\"18\"/>\n<text text-anchor=\"middle\" x=\"27\" y=\"-192.3\" font-family=\"Times,serif\" font-size=\"14.00\">X</text>\n</g>\n<!-- 4887343744&#45;&gt;4887338032 -->\n<g id=\"edge1\" class=\"edge\">\n<title>4887343744&#45;&gt;4887338032</title>\n<path fill=\"none\" stroke=\"black\" d=\"M53.04,-190.47C67.6,-187.26 86.42,-183.1 103.62,-179.31\"/>\n<polygon fill=\"black\" stroke=\"black\" points=\"104.13,-182.78 113.14,-177.2 102.62,-175.94 104.13,-182.78\"/>\n<text text-anchor=\"middle\" x=\"82.5\" y=\"-188.8\" font-family=\"Times,serif\" font-size=\"14.00\">X</text>\n</g>\n<!-- 4887337984 -->\n<g id=\"node8\" class=\"node\">\n<title>4887337984</title>\n<ellipse fill=\"none\" stroke=\"black\" cx=\"27\" cy=\"-142\" rx=\"27\" ry=\"18\"/>\n<text text-anchor=\"middle\" x=\"27\" y=\"-138.3\" font-family=\"Times,serif\" font-size=\"14.00\">W1</text>\n</g>\n<!-- 4887337984&#45;&gt;4887338032 -->\n<g id=\"edge2\" class=\"edge\">\n<title>4887337984&#45;&gt;4887338032</title>\n<path fill=\"none\" stroke=\"black\" d=\"M53.04,-147.53C67.6,-150.74 86.42,-154.9 103.62,-158.69\"/>\n<polygon fill=\"black\" stroke=\"black\" points=\"102.62,-162.06 113.14,-160.8 104.13,-155.22 102.62,-162.06\"/>\n<text text-anchor=\"middle\" x=\"82.5\" y=\"-159.8\" font-family=\"Times,serif\" font-size=\"14.00\">W1</text>\n</g>\n<!-- 4887343696 -->\n<g id=\"node9\" class=\"node\">\n<title>4887343696</title>\n<ellipse fill=\"none\" stroke=\"black\" cx=\"151.3\" cy=\"-115\" rx=\"27\" ry=\"18\"/>\n<text text-anchor=\"middle\" x=\"151.3\" y=\"-111.3\" font-family=\"Times,serif\" font-size=\"14.00\">b1</text>\n</g>\n<!-- 4887343696&#45;&gt;4887331696 -->\n<g id=\"edge4\" class=\"edge\">\n<title>4887343696&#45;&gt;4887331696</title>\n<path fill=\"none\" stroke=\"black\" d=\"M178.63,-116.21C200.21,-117.45 231.51,-119.8 258.59,-124 261.27,-124.42 264.03,-124.9 266.8,-125.43\"/>\n<polygon fill=\"black\" stroke=\"black\" points=\"266.05,-128.85 276.56,-127.48 267.49,-122 266.05,-128.85\"/>\n<text text-anchor=\"middle\" x=\"234.09\" y=\"-127.8\" font-family=\"Times,serif\" font-size=\"14.00\">b1</text>\n</g>\n<!-- 4887331744 -->\n<g id=\"node10\" class=\"node\">\n<title>4887331744</title>\n<ellipse fill=\"none\" stroke=\"black\" cx=\"409.89\" cy=\"-80\" rx=\"27\" ry=\"18\"/>\n<text text-anchor=\"middle\" x=\"409.89\" y=\"-76.3\" font-family=\"Times,serif\" font-size=\"14.00\">W2</text>\n</g>\n<!-- 4887331744&#45;&gt;4887337360 -->\n<g id=\"edge7\" class=\"edge\">\n<title>4887331744&#45;&gt;4887337360</title>\n<path fill=\"none\" stroke=\"black\" d=\"M436.73,-82.94C448.77,-84.47 463.26,-86.54 476.19,-89 480.03,-89.73 483.99,-90.56 487.96,-91.43\"/>\n<polygon fill=\"black\" stroke=\"black\" points=\"487.06,-94.81 497.59,-93.64 488.63,-87.99 487.06,-94.81\"/>\n<text text-anchor=\"middle\" x=\"465.69\" y=\"-92.8\" font-family=\"Times,serif\" font-size=\"14.00\">W2</text>\n</g>\n<!-- 4887343888 -->\n<g id=\"node11\" class=\"node\">\n<title>4887343888</title>\n<ellipse fill=\"none\" stroke=\"black\" cx=\"534.48\" cy=\"-49\" rx=\"27\" ry=\"18\"/>\n<text text-anchor=\"middle\" x=\"534.48\" y=\"-45.3\" font-family=\"Times,serif\" font-size=\"14.00\">b2</text>\n</g>\n<!-- 4887343888&#45;&gt;4887337264 -->\n<g id=\"edge9\" class=\"edge\">\n<title>4887343888&#45;&gt;4887337264</title>\n<path fill=\"none\" stroke=\"black\" d=\"M561.58,-49.41C584.49,-50.17 618.61,-52.27 647.78,-58 651.13,-58.66 654.59,-59.49 658.02,-60.41\"/>\n<polygon fill=\"black\" stroke=\"black\" points=\"656.71,-63.67 667.3,-63.15 658.7,-56.96 656.71,-63.67\"/>\n<text text-anchor=\"middle\" x=\"620.28\" y=\"-61.8\" font-family=\"Times,serif\" font-size=\"14.00\">b2</text>\n</g>\n<!-- 4887339472 -->\n<g id=\"node12\" class=\"node\">\n<title>4887339472</title>\n<ellipse fill=\"none\" stroke=\"black\" cx=\"692.78\" cy=\"-18\" rx=\"27\" ry=\"18\"/>\n<text text-anchor=\"middle\" x=\"692.78\" y=\"-14.3\" font-family=\"Times,serif\" font-size=\"14.00\">y</text>\n</g>\n<!-- 4887339472&#45;&gt;4887337600 -->\n<g id=\"edge11\" class=\"edge\">\n<title>4887339472&#45;&gt;4887337600</title>\n<path fill=\"none\" stroke=\"black\" d=\"M719.53,-21.49C730.16,-23.03 742.59,-24.95 753.78,-27 756.44,-27.49 759.18,-28.01 761.93,-28.56\"/>\n<polygon fill=\"black\" stroke=\"black\" points=\"761.2,-31.98 771.7,-30.58 762.62,-25.13 761.2,-31.98\"/>\n<text text-anchor=\"middle\" x=\"745.78\" y=\"-30.8\" font-family=\"Times,serif\" font-size=\"14.00\">y</text>\n</g>\n</g>\n</svg>\n",
      "text/plain": "<graphviz.graphs.Digraph at 0x1234edb70>"
     },
     "execution_count": 8,
     "metadata": {},
     "output_type": "execute_result"
    }
   ],
   "source": [
    "mse.generate_graph()"
   ],
   "metadata": {
    "collapsed": false
   }
  },
  {
   "cell_type": "code",
   "execution_count": 9,
   "outputs": [
    {
     "data": {
      "text/plain": "True"
     },
     "execution_count": 9,
     "metadata": {},
     "output_type": "execute_result"
    }
   ],
   "source": [
    "mse.zero_grad()\n",
    "mse.apply_bwd(1)\n",
    "\n",
    "np.allclose(l1_w_grad, w1_param.grad)"
   ],
   "metadata": {
    "collapsed": false
   }
  },
  {
   "cell_type": "code",
   "execution_count": 10,
   "outputs": [
    {
     "data": {
      "image/svg+xml": "<?xml version=\"1.0\" encoding=\"UTF-8\" standalone=\"no\"?>\n<!DOCTYPE svg PUBLIC \"-//W3C//DTD SVG 1.1//EN\"\n \"http://www.w3.org/Graphics/SVG/1.1/DTD/svg11.dtd\">\n<!-- Generated by graphviz version 7.0.6 (20230106.0513)\n -->\n<!-- Title: fwd_pass Pages: 1 -->\n<svg width=\"931pt\" height=\"222pt\"\n viewBox=\"0.00 0.00 931.28 222.00\" xmlns=\"http://www.w3.org/2000/svg\" xmlns:xlink=\"http://www.w3.org/1999/xlink\">\n<g id=\"graph0\" class=\"graph\" transform=\"scale(1 1) rotate(0) translate(4 218)\">\n<title>fwd_pass</title>\n<polygon fill=\"white\" stroke=\"none\" points=\"-4,4 -4,-218 927.28,-218 927.28,4 -4,4\"/>\n<!-- 4887337600 -->\n<g id=\"node1\" class=\"node\">\n<title>4887337600</title>\n<ellipse fill=\"none\" stroke=\"black\" cx=\"29.25\" cy=\"-34\" rx=\"29.5\" ry=\"18\"/>\n<text text-anchor=\"middle\" x=\"29.25\" y=\"-30.3\" font-family=\"Times,serif\" font-size=\"14.00\">MSE</text>\n</g>\n<!-- 4887337264 -->\n<g id=\"node2\" class=\"node\">\n<title>4887337264</title>\n<ellipse fill=\"none\" stroke=\"black\" cx=\"152.49\" cy=\"-72\" rx=\"27\" ry=\"18\"/>\n<text text-anchor=\"middle\" x=\"152.49\" y=\"-68.3\" font-family=\"Times,serif\" font-size=\"14.00\">Add</text>\n</g>\n<!-- 4887337600&#45;&gt;4887337264 -->\n<g id=\"edge10\" class=\"edge\">\n<title>4887337600&#45;&gt;4887337264</title>\n<path fill=\"none\" stroke=\"red\" d=\"M55.96,-42.06C73.63,-47.6 97.29,-55.01 116.65,-61.08\"/>\n<polygon fill=\"red\" stroke=\"red\" points=\"115.43,-64.37 126.02,-64.02 117.53,-57.69 115.43,-64.37\"/>\n<text text-anchor=\"middle\" x=\"91.99\" y=\"-60.8\" font-family=\"Times,serif\" font-size=\"14.00\">d(Z2)</text>\n</g>\n<!-- 4887339472 -->\n<g id=\"node12\" class=\"node\">\n<title>4887339472</title>\n<ellipse fill=\"none\" stroke=\"black\" cx=\"152.49\" cy=\"-18\" rx=\"27\" ry=\"18\"/>\n<text text-anchor=\"middle\" x=\"152.49\" y=\"-14.3\" font-family=\"Times,serif\" font-size=\"14.00\">y</text>\n</g>\n<!-- 4887337600&#45;&gt;4887339472 -->\n<g id=\"edge11\" class=\"edge\">\n<title>4887337600&#45;&gt;4887339472</title>\n<path fill=\"none\" stroke=\"red\" d=\"M58.37,-30.29C75.01,-28.09 96.29,-25.28 114.31,-22.91\"/>\n<polygon fill=\"red\" stroke=\"red\" points=\"114.64,-26.39 124.1,-21.62 113.72,-19.45 114.64,-26.39\"/>\n</g>\n<!-- 4887337360 -->\n<g id=\"node3\" class=\"node\">\n<title>4887337360</title>\n<ellipse fill=\"none\" stroke=\"black\" cx=\"325.79\" cy=\"-103\" rx=\"40.09\" ry=\"18\"/>\n<text text-anchor=\"middle\" x=\"325.79\" y=\"-99.3\" font-family=\"Times,serif\" font-size=\"14.00\">MatMul</text>\n</g>\n<!-- 4887337264&#45;&gt;4887337360 -->\n<g id=\"edge8\" class=\"edge\">\n<title>4887337264&#45;&gt;4887337360</title>\n<path fill=\"none\" stroke=\"red\" d=\"M178.77,-76.57C204.46,-81.22 244.91,-88.54 276.72,-94.3\"/>\n<polygon fill=\"red\" stroke=\"red\" points=\"276.06,-97.74 286.52,-96.07 277.3,-90.85 276.06,-97.74\"/>\n<text text-anchor=\"middle\" x=\"232.49\" y=\"-95.8\" font-family=\"Times,serif\" font-size=\"14.00\">d(Z1 @ W2)</text>\n</g>\n<!-- 4887343888 -->\n<g id=\"node11\" class=\"node\">\n<title>4887343888</title>\n<ellipse fill=\"none\" stroke=\"black\" cx=\"325.79\" cy=\"-49\" rx=\"27\" ry=\"18\"/>\n<text text-anchor=\"middle\" x=\"325.79\" y=\"-45.3\" font-family=\"Times,serif\" font-size=\"14.00\">b2</text>\n</g>\n<!-- 4887337264&#45;&gt;4887343888 -->\n<g id=\"edge9\" class=\"edge\">\n<title>4887337264&#45;&gt;4887343888</title>\n<path fill=\"none\" stroke=\"red\" d=\"M176.52,-63.54C183.2,-61.4 190.57,-59.33 197.49,-58 227.36,-52.28 261.8,-50.1 287.32,-49.32\"/>\n<polygon fill=\"red\" stroke=\"red\" points=\"287.29,-52.82 297.2,-49.08 287.12,-45.82 287.29,-52.82\"/>\n<text text-anchor=\"middle\" x=\"232.49\" y=\"-61.8\" font-family=\"Times,serif\" font-size=\"14.00\">d(b2)</text>\n</g>\n<!-- 4887333520 -->\n<g id=\"node4\" class=\"node\">\n<title>4887333520</title>\n<ellipse fill=\"none\" stroke=\"black\" cx=\"466.39\" cy=\"-134\" rx=\"27.1\" ry=\"18\"/>\n<text text-anchor=\"middle\" x=\"466.39\" y=\"-130.3\" font-family=\"Times,serif\" font-size=\"14.00\">Relu</text>\n</g>\n<!-- 4887337360&#45;&gt;4887333520 -->\n<g id=\"edge6\" class=\"edge\">\n<title>4887337360&#45;&gt;4887333520</title>\n<path fill=\"none\" stroke=\"red\" d=\"M362.12,-110.9C382.6,-115.48 408.33,-121.24 428.99,-125.86\"/>\n<polygon fill=\"red\" stroke=\"red\" points=\"428.18,-129.26 438.7,-128.03 429.7,-122.43 428.18,-129.26\"/>\n<text text-anchor=\"middle\" x=\"402.59\" y=\"-126.8\" font-family=\"Times,serif\" font-size=\"14.00\">d(A1)</text>\n</g>\n<!-- 4887331744 -->\n<g id=\"node10\" class=\"node\">\n<title>4887331744</title>\n<ellipse fill=\"none\" stroke=\"black\" cx=\"466.39\" cy=\"-80\" rx=\"27\" ry=\"18\"/>\n<text text-anchor=\"middle\" x=\"466.39\" y=\"-76.3\" font-family=\"Times,serif\" font-size=\"14.00\">W2</text>\n</g>\n<!-- 4887337360&#45;&gt;4887331744 -->\n<g id=\"edge7\" class=\"edge\">\n<title>4887337360&#45;&gt;4887331744</title>\n<path fill=\"none\" stroke=\"red\" d=\"M360.87,-93.91C368.48,-92.09 376.52,-90.34 384.09,-89 398.4,-86.47 414.26,-84.52 428.15,-83.1\"/>\n<polygon fill=\"red\" stroke=\"red\" points=\"428.14,-86.62 437.76,-82.17 427.47,-79.65 428.14,-86.62\"/>\n<text text-anchor=\"middle\" x=\"402.59\" y=\"-92.8\" font-family=\"Times,serif\" font-size=\"14.00\">d(W2)</text>\n</g>\n<!-- 4887331696 -->\n<g id=\"node5\" class=\"node\">\n<title>4887331696</title>\n<ellipse fill=\"none\" stroke=\"black\" cx=\"587.68\" cy=\"-134\" rx=\"27\" ry=\"18\"/>\n<text text-anchor=\"middle\" x=\"587.68\" y=\"-130.3\" font-family=\"Times,serif\" font-size=\"14.00\">Add</text>\n</g>\n<!-- 4887333520&#45;&gt;4887331696 -->\n<g id=\"edge5\" class=\"edge\">\n<title>4887333520&#45;&gt;4887331696</title>\n<path fill=\"none\" stroke=\"red\" d=\"M493.86,-134C510,-134 530.89,-134 548.77,-134\"/>\n<polygon fill=\"red\" stroke=\"red\" points=\"548.77,-137.5 558.77,-134 548.77,-130.5 548.77,-137.5\"/>\n<text text-anchor=\"middle\" x=\"527.18\" y=\"-137.8\" font-family=\"Times,serif\" font-size=\"14.00\">d(Z1)</text>\n</g>\n<!-- 4887338032 -->\n<g id=\"node6\" class=\"node\">\n<title>4887338032</title>\n<ellipse fill=\"none\" stroke=\"black\" cx=\"755.98\" cy=\"-169\" rx=\"40.09\" ry=\"18\"/>\n<text text-anchor=\"middle\" x=\"755.98\" y=\"-165.3\" font-family=\"Times,serif\" font-size=\"14.00\">MatMul</text>\n</g>\n<!-- 4887331696&#45;&gt;4887338032 -->\n<g id=\"edge3\" class=\"edge\">\n<title>4887331696&#45;&gt;4887338032</title>\n<path fill=\"none\" stroke=\"red\" d=\"M613.94,-139.32C638.75,-144.54 677.23,-152.64 707.73,-159.05\"/>\n<polygon fill=\"red\" stroke=\"red\" points=\"706.99,-162.48 717.5,-161.11 708.43,-155.63 706.99,-162.48\"/>\n<text text-anchor=\"middle\" x=\"665.18\" y=\"-159.8\" font-family=\"Times,serif\" font-size=\"14.00\">d(X @ W1)</text>\n</g>\n<!-- 4887343696 -->\n<g id=\"node9\" class=\"node\">\n<title>4887343696</title>\n<ellipse fill=\"none\" stroke=\"black\" cx=\"755.98\" cy=\"-115\" rx=\"27\" ry=\"18\"/>\n<text text-anchor=\"middle\" x=\"755.98\" y=\"-111.3\" font-family=\"Times,serif\" font-size=\"14.00\">b1</text>\n</g>\n<!-- 4887331696&#45;&gt;4887343696 -->\n<g id=\"edge4\" class=\"edge\">\n<title>4887331696&#45;&gt;4887343696</title>\n<path fill=\"none\" stroke=\"red\" d=\"M613.23,-127.74C619.53,-126.32 626.33,-124.95 632.68,-124 660.91,-119.78 693.11,-117.51 717.38,-116.31\"/>\n<polygon fill=\"red\" stroke=\"red\" points=\"717.27,-119.82 727.1,-115.87 716.95,-112.82 717.27,-119.82\"/>\n<text text-anchor=\"middle\" x=\"665.18\" y=\"-127.8\" font-family=\"Times,serif\" font-size=\"14.00\">d(b1)</text>\n</g>\n<!-- 4887343744 -->\n<g id=\"node7\" class=\"node\">\n<title>4887343744</title>\n<ellipse fill=\"none\" stroke=\"black\" cx=\"896.28\" cy=\"-196\" rx=\"27\" ry=\"18\"/>\n<text text-anchor=\"middle\" x=\"896.28\" y=\"-192.3\" font-family=\"Times,serif\" font-size=\"14.00\">X</text>\n</g>\n<!-- 4887338032&#45;&gt;4887343744 -->\n<g id=\"edge1\" class=\"edge\">\n<title>4887338032&#45;&gt;4887343744</title>\n<path fill=\"none\" stroke=\"red\" d=\"M793.31,-176.09C813.52,-180.04 838.59,-184.93 858.81,-188.88\"/>\n<polygon fill=\"red\" stroke=\"red\" points=\"858.11,-192.31 868.6,-190.79 859.46,-185.44 858.11,-192.31\"/>\n</g>\n<!-- 4887337984 -->\n<g id=\"node8\" class=\"node\">\n<title>4887337984</title>\n<ellipse fill=\"none\" stroke=\"black\" cx=\"896.28\" cy=\"-142\" rx=\"27\" ry=\"18\"/>\n<text text-anchor=\"middle\" x=\"896.28\" y=\"-138.3\" font-family=\"Times,serif\" font-size=\"14.00\">W1</text>\n</g>\n<!-- 4887338032&#45;&gt;4887337984 -->\n<g id=\"edge2\" class=\"edge\">\n<title>4887338032&#45;&gt;4887337984</title>\n<path fill=\"none\" stroke=\"red\" d=\"M793.31,-161.91C813.52,-157.96 838.59,-153.07 858.81,-149.12\"/>\n<polygon fill=\"red\" stroke=\"red\" points=\"859.46,-152.56 868.6,-147.21 858.11,-145.69 859.46,-152.56\"/>\n<text text-anchor=\"middle\" x=\"832.78\" y=\"-160.8\" font-family=\"Times,serif\" font-size=\"14.00\">d(W1)</text>\n</g>\n</g>\n</svg>\n",
      "text/plain": "<graphviz.graphs.Digraph at 0x1234ec520>"
     },
     "execution_count": 10,
     "metadata": {},
     "output_type": "execute_result"
    }
   ],
   "source": [
    "mse.generate_graph(backward=True)"
   ],
   "metadata": {
    "collapsed": false
   }
  },
  {
   "cell_type": "code",
   "execution_count": 11,
   "outputs": [
    {
     "data": {
      "text/plain": "<IPython.core.display.Latex object>",
      "text/latex": "$\\frac{\\partial L}{\\partial b1} = \\frac{\\partial L}{\\partial Z2}*\\frac{\\partial Z2}{\\partial Z1 @ W2}*\\frac{\\partial Z1 @ W2}{\\partial A1}*\\frac{\\partial A1}{\\partial Z1}*\\frac{\\partial Z1}{\\partial b1}$"
     },
     "execution_count": 11,
     "metadata": {},
     "output_type": "execute_result"
    }
   ],
   "source": [
    "mse.generate_derivative_chains()\n",
    "display_chain(b1_param.display_partial_derivative())"
   ],
   "metadata": {
    "collapsed": false
   }
  },
  {
   "cell_type": "code",
   "execution_count": 25,
   "outputs": [],
   "source": [
    "class Exp(Node):\n",
    "    def forward(self, x):\n",
    "        return np.exp(x)\n",
    "\n",
    "    def backward(self, grad):\n",
    "        x = self.cache[0]\n",
    "        return np.exp(x) * grad\n",
    "\n",
    "class Max(Node):\n",
    "    def forward(self, x):\n",
    "        return np.max(x, axis=-1).reshape(-1,1)\n",
    "\n",
    "    def backward(self, grad):\n",
    "        x = self.cache[0]\n",
    "        max = np.max(x, axis=-1).reshape(-1,1)\n",
    "        grad[x < max] = 0\n",
    "        return grad\n",
    "\n",
    "class Sum(Node):\n",
    "    def forward(self, x):\n",
    "        return np.sum(x, axis=-1).reshape(-1,1)\n",
    "\n",
    "    def backward(self, grad):\n",
    "        x = self.cache[0]\n",
    "        return np.ones_like(x) * grad.reshape(-1,1) / x.shape[1]\n",
    "\n",
    "class Multiply(Node):\n",
    "    def forward(self, x, y):\n",
    "        return x * y\n",
    "\n",
    "    def backward(self, grad):\n",
    "        x, y = self.cache\n",
    "        x_grad = reshape_grad(x, y * grad)\n",
    "        y_grad = reshape_grad(y, x * grad)\n",
    "        return x_grad, y_grad"
   ],
   "metadata": {
    "collapsed": false
   }
  },
  {
   "cell_type": "code",
   "execution_count": 26,
   "outputs": [
    {
     "data": {
      "text/plain": "array([[0.42962479, 0.33459212, 0.23578308],\n       [0.40442997, 0.35512811, 0.24044193],\n       [0.41014109, 0.34602161, 0.2438373 ],\n       [0.4111386 , 0.34686317, 0.24199822],\n       [0.41014109, 0.34602161, 0.2438373 ],\n       [0.40105058, 0.35569995, 0.24324947],\n       [0.39865228, 0.36434075, 0.23700697],\n       [0.39920551, 0.37221675, 0.22857774],\n       [0.39279252, 0.3773909 , 0.22981658],\n       [0.4003332 , 0.3732682 , 0.22639861]])"
     },
     "execution_count": 26,
     "metadata": {},
     "output_type": "execute_result"
    }
   ],
   "source": [
    "X = Parameter(x / 100, desc=\"X\", needs_grad=True)\n",
    "\n",
    "max = Max(X, out=\"max(e^X)\")\n",
    "normalized = Subtract(X, max, out=\"e^X - max(e^X)\")\n",
    "raised = Exp(normalized, out=\"e^X\")\n",
    "summed = Sum(raised, out=\"sum(e^X)\")\n",
    "\n",
    "negative_one = Parameter(-1, desc=\"-1\", needs_grad=False)\n",
    "inverted = Pow(summed, negative_one, out=\"1 / sum(e^X)\")\n",
    "softmax = Multiply(raised, inverted, out=\"softmax(X)\")\n",
    "\n",
    "output = softmax.apply_fwd()\n",
    "output"
   ],
   "metadata": {
    "collapsed": false
   }
  },
  {
   "cell_type": "code",
   "execution_count": 27,
   "outputs": [
    {
     "data": {
      "image/svg+xml": "<?xml version=\"1.0\" encoding=\"UTF-8\" standalone=\"no\"?>\n<!DOCTYPE svg PUBLIC \"-//W3C//DTD SVG 1.1//EN\"\n \"http://www.w3.org/Graphics/SVG/1.1/DTD/svg11.dtd\">\n<!-- Generated by graphviz version 7.0.6 (20230106.0513)\n -->\n<!-- Title: fwd_pass Pages: 1 -->\n<svg width=\"968pt\" height=\"161pt\"\n viewBox=\"0.00 0.00 968.28 161.00\" xmlns=\"http://www.w3.org/2000/svg\" xmlns:xlink=\"http://www.w3.org/1999/xlink\">\n<g id=\"graph0\" class=\"graph\" transform=\"scale(1 1) rotate(0) translate(4 157)\">\n<title>fwd_pass</title>\n<polygon fill=\"white\" stroke=\"none\" points=\"-4,4 -4,-157 964.28,-157 964.28,4 -4,4\"/>\n<!-- 4896138976 -->\n<g id=\"node1\" class=\"node\">\n<title>4896138976</title>\n<ellipse fill=\"none\" stroke=\"black\" cx=\"918.03\" cy=\"-51\" rx=\"42.49\" ry=\"18\"/>\n<text text-anchor=\"middle\" x=\"918.03\" y=\"-47.3\" font-family=\"Times,serif\" font-size=\"14.00\">Multiply</text>\n</g>\n<!-- 4896139120 -->\n<g id=\"node2\" class=\"node\">\n<title>4896139120</title>\n<ellipse fill=\"none\" stroke=\"black\" cx=\"481.19\" cy=\"-51\" rx=\"27\" ry=\"18\"/>\n<text text-anchor=\"middle\" x=\"481.19\" y=\"-47.3\" font-family=\"Times,serif\" font-size=\"14.00\">Exp</text>\n</g>\n<!-- 4896139120&#45;&gt;4896138976 -->\n<g id=\"edge5\" class=\"edge\">\n<title>4896139120&#45;&gt;4896138976</title>\n<path fill=\"none\" stroke=\"black\" d=\"M508.41,-51C578.23,-51 769.71,-51 863.64,-51\"/>\n<polygon fill=\"black\" stroke=\"black\" points=\"863.63,-54.5 873.63,-51 863.63,-47.5 863.63,-54.5\"/>\n<text text-anchor=\"middle\" x=\"667.28\" y=\"-54.8\" font-family=\"Times,serif\" font-size=\"14.00\">e^X</text>\n</g>\n<!-- 4896139360 -->\n<g id=\"node7\" class=\"node\">\n<title>4896139360</title>\n<ellipse fill=\"none\" stroke=\"black\" cx=\"594.49\" cy=\"-135\" rx=\"27.1\" ry=\"18\"/>\n<text text-anchor=\"middle\" x=\"594.49\" y=\"-131.3\" font-family=\"Times,serif\" font-size=\"14.00\">Sum</text>\n</g>\n<!-- 4896139120&#45;&gt;4896139360 -->\n<g id=\"edge6\" class=\"edge\">\n<title>4896139120&#45;&gt;4896139360</title>\n<path fill=\"none\" stroke=\"black\" d=\"M499.58,-64.12C517.6,-77.73 546.01,-99.17 566.86,-114.91\"/>\n<polygon fill=\"black\" stroke=\"black\" points=\"564.55,-117.55 574.64,-120.78 568.77,-111.96 564.55,-117.55\"/>\n<text text-anchor=\"middle\" x=\"537.69\" y=\"-103.8\" font-family=\"Times,serif\" font-size=\"14.00\">e^X</text>\n</g>\n<!-- 4896144352 -->\n<g id=\"node3\" class=\"node\">\n<title>4896144352</title>\n<ellipse fill=\"none\" stroke=\"black\" cx=\"286.89\" cy=\"-51\" rx=\"40.09\" ry=\"18\"/>\n<text text-anchor=\"middle\" x=\"286.89\" y=\"-47.3\" font-family=\"Times,serif\" font-size=\"14.00\">Subtract</text>\n</g>\n<!-- 4896144352&#45;&gt;4896139120 -->\n<g id=\"edge4\" class=\"edge\">\n<title>4896144352&#45;&gt;4896139120</title>\n<path fill=\"none\" stroke=\"black\" d=\"M327.27,-51C361.08,-51 409.49,-51 442.73,-51\"/>\n<polygon fill=\"black\" stroke=\"black\" points=\"442.3,-54.5 452.3,-51 442.3,-47.5 442.3,-54.5\"/>\n<text text-anchor=\"middle\" x=\"390.69\" y=\"-54.8\" font-family=\"Times,serif\" font-size=\"14.00\">e^X &#45; max(e^X)</text>\n</g>\n<!-- 4896139312 -->\n<g id=\"node4\" class=\"node\">\n<title>4896139312</title>\n<ellipse fill=\"none\" stroke=\"black\" cx=\"27\" cy=\"-45\" rx=\"27\" ry=\"18\"/>\n<text text-anchor=\"middle\" x=\"27\" y=\"-41.3\" font-family=\"Times,serif\" font-size=\"14.00\">X</text>\n</g>\n<!-- 4896139312&#45;&gt;4896144352 -->\n<g id=\"edge1\" class=\"edge\">\n<title>4896139312&#45;&gt;4896144352</title>\n<path fill=\"none\" stroke=\"black\" d=\"M53.55,-48.82C59.59,-49.63 66.02,-50.41 72,-51 141.32,-57.78 159.04,-60.63 228.6,-57 231.11,-56.87 233.69,-56.71 236.29,-56.52\"/>\n<polygon fill=\"black\" stroke=\"black\" points=\"236.54,-60.01 246.21,-55.68 235.95,-53.03 236.54,-60.01\"/>\n<text text-anchor=\"middle\" x=\"127.3\" y=\"-61.8\" font-family=\"Times,serif\" font-size=\"14.00\">X</text>\n</g>\n<!-- 4896140032 -->\n<g id=\"node5\" class=\"node\">\n<title>4896140032</title>\n<ellipse fill=\"none\" stroke=\"black\" cx=\"127.3\" cy=\"-18\" rx=\"27.1\" ry=\"18\"/>\n<text text-anchor=\"middle\" x=\"127.3\" y=\"-14.3\" font-family=\"Times,serif\" font-size=\"14.00\">Max</text>\n</g>\n<!-- 4896139312&#45;&gt;4896140032 -->\n<g id=\"edge2\" class=\"edge\">\n<title>4896139312&#45;&gt;4896140032</title>\n<path fill=\"none\" stroke=\"black\" d=\"M52.55,-38.26C64.16,-35.07 78.24,-31.2 90.97,-27.7\"/>\n<polygon fill=\"black\" stroke=\"black\" points=\"91.54,-31.18 100.26,-25.15 89.69,-24.43 91.54,-31.18\"/>\n<text text-anchor=\"middle\" x=\"77\" y=\"-35.8\" font-family=\"Times,serif\" font-size=\"14.00\">X</text>\n</g>\n<!-- 4896140032&#45;&gt;4896144352 -->\n<g id=\"edge3\" class=\"edge\">\n<title>4896140032&#45;&gt;4896144352</title>\n<path fill=\"none\" stroke=\"black\" d=\"M153.62,-23.3C176.56,-28.11 210.95,-35.31 238.92,-41.16\"/>\n<polygon fill=\"black\" stroke=\"black\" points=\"238.08,-44.56 248.58,-43.19 239.51,-37.71 238.08,-44.56\"/>\n<text text-anchor=\"middle\" x=\"200.6\" y=\"-41.8\" font-family=\"Times,serif\" font-size=\"14.00\">max(e^X)</text>\n</g>\n<!-- 4896138304 -->\n<g id=\"node6\" class=\"node\">\n<title>4896138304</title>\n<ellipse fill=\"none\" stroke=\"black\" cx=\"739.78\" cy=\"-81\" rx=\"27\" ry=\"18\"/>\n<text text-anchor=\"middle\" x=\"739.78\" y=\"-77.3\" font-family=\"Times,serif\" font-size=\"14.00\">Pow</text>\n</g>\n<!-- 4896138304&#45;&gt;4896138976 -->\n<g id=\"edge9\" class=\"edge\">\n<title>4896138304&#45;&gt;4896138976</title>\n<path fill=\"none\" stroke=\"black\" d=\"M766.41,-76.64C792.63,-72.17 834.05,-65.12 866.83,-59.54\"/>\n<polygon fill=\"black\" stroke=\"black\" points=\"867.26,-63.02 876.53,-57.89 866.09,-56.12 867.26,-63.02\"/>\n<text text-anchor=\"middle\" x=\"821.28\" y=\"-75.8\" font-family=\"Times,serif\" font-size=\"14.00\">1 / sum(e^X)</text>\n</g>\n<!-- 4896139360&#45;&gt;4896138304 -->\n<g id=\"edge7\" class=\"edge\">\n<title>4896139360&#45;&gt;4896138304</title>\n<path fill=\"none\" stroke=\"black\" d=\"M619.33,-127.11C639.55,-120.3 669.25,-110 694.78,-100 698.65,-98.48 702.69,-96.84 706.67,-95.17\"/>\n<polygon fill=\"black\" stroke=\"black\" points=\"707.76,-98.51 715.58,-91.36 705.01,-92.07 707.76,-98.51\"/>\n<text text-anchor=\"middle\" x=\"667.28\" y=\"-122.8\" font-family=\"Times,serif\" font-size=\"14.00\">sum(e^X)</text>\n</g>\n<!-- 4896137824 -->\n<g id=\"node8\" class=\"node\">\n<title>4896137824</title>\n<ellipse fill=\"none\" stroke=\"black\" cx=\"594.49\" cy=\"-81\" rx=\"27\" ry=\"18\"/>\n<text text-anchor=\"middle\" x=\"594.49\" y=\"-77.3\" font-family=\"Times,serif\" font-size=\"14.00\">&#45;1</text>\n</g>\n<!-- 4896137824&#45;&gt;4896138304 -->\n<g id=\"edge8\" class=\"edge\">\n<title>4896137824&#45;&gt;4896138304</title>\n<path fill=\"none\" stroke=\"black\" d=\"M621.77,-81C644.09,-81 676.39,-81 701.4,-81\"/>\n<polygon fill=\"black\" stroke=\"black\" points=\"701.15,-84.5 711.15,-81 701.15,-77.5 701.15,-84.5\"/>\n<text text-anchor=\"middle\" x=\"667.28\" y=\"-84.8\" font-family=\"Times,serif\" font-size=\"14.00\">&#45;1</text>\n</g>\n</g>\n</svg>\n",
      "text/plain": "<graphviz.graphs.Digraph at 0x123d53d00>"
     },
     "execution_count": 27,
     "metadata": {},
     "output_type": "execute_result"
    }
   ],
   "source": [
    "softmax.generate_graph()"
   ],
   "metadata": {
    "collapsed": false
   }
  },
  {
   "cell_type": "code",
   "execution_count": 28,
   "outputs": [],
   "source": [
    "softmax.zero_grad()\n",
    "softmax.apply_bwd(output)"
   ],
   "metadata": {
    "collapsed": false
   }
  },
  {
   "cell_type": "code",
   "execution_count": 29,
   "outputs": [
    {
     "data": {
      "image/svg+xml": "<?xml version=\"1.0\" encoding=\"UTF-8\" standalone=\"no\"?>\n<!DOCTYPE svg PUBLIC \"-//W3C//DTD SVG 1.1//EN\"\n \"http://www.w3.org/Graphics/SVG/1.1/DTD/svg11.dtd\">\n<!-- Generated by graphviz version 7.0.6 (20230106.0513)\n -->\n<!-- Title: fwd_pass Pages: 1 -->\n<svg width=\"1063pt\" height=\"139pt\"\n viewBox=\"0.00 0.00 1063.28 139.00\" xmlns=\"http://www.w3.org/2000/svg\" xmlns:xlink=\"http://www.w3.org/1999/xlink\">\n<g id=\"graph0\" class=\"graph\" transform=\"scale(1 1) rotate(0) translate(4 135)\">\n<title>fwd_pass</title>\n<polygon fill=\"white\" stroke=\"none\" points=\"-4,4 -4,-135 1059.28,-135 1059.28,4 -4,4\"/>\n<!-- 4896138976 -->\n<g id=\"node1\" class=\"node\">\n<title>4896138976</title>\n<ellipse fill=\"none\" stroke=\"black\" cx=\"42.25\" cy=\"-95\" rx=\"42.49\" ry=\"18\"/>\n<text text-anchor=\"middle\" x=\"42.25\" y=\"-91.3\" font-family=\"Times,serif\" font-size=\"14.00\">Multiply</text>\n</g>\n<!-- 4896139120 -->\n<g id=\"node2\" class=\"node\">\n<title>4896139120</title>\n<ellipse fill=\"none\" stroke=\"black\" cx=\"527.09\" cy=\"-95\" rx=\"27\" ry=\"18\"/>\n<text text-anchor=\"middle\" x=\"527.09\" y=\"-91.3\" font-family=\"Times,serif\" font-size=\"14.00\">Exp</text>\n</g>\n<!-- 4896138976&#45;&gt;4896139120 -->\n<g id=\"edge5\" class=\"edge\">\n<title>4896138976&#45;&gt;4896139120</title>\n<path fill=\"none\" stroke=\"red\" d=\"M82.03,-101.75C88.83,-102.69 95.85,-103.5 102.49,-104 270.72,-116.7 314.24,-120.99 482.09,-104 484.61,-103.74 487.2,-103.41 489.8,-103.02\"/>\n<polygon fill=\"red\" stroke=\"red\" points=\"490.36,-106.47 499.6,-101.29 489.15,-99.58 490.36,-106.47\"/>\n<text text-anchor=\"middle\" x=\"316.99\" y=\"-119.8\" font-family=\"Times,serif\" font-size=\"14.00\">d(e^X)</text>\n</g>\n<!-- 4896138304 -->\n<g id=\"node6\" class=\"node\">\n<title>4896138304</title>\n<ellipse fill=\"none\" stroke=\"black\" cx=\"236.49\" cy=\"-72\" rx=\"27\" ry=\"18\"/>\n<text text-anchor=\"middle\" x=\"236.49\" y=\"-68.3\" font-family=\"Times,serif\" font-size=\"14.00\">Pow</text>\n</g>\n<!-- 4896138976&#45;&gt;4896138304 -->\n<g id=\"edge9\" class=\"edge\">\n<title>4896138976&#45;&gt;4896138304</title>\n<path fill=\"none\" stroke=\"red\" d=\"M83.55,-90.18C117.38,-86.13 165.33,-80.39 198.26,-76.45\"/>\n<polygon fill=\"red\" stroke=\"red\" points=\"198.65,-79.93 208.16,-75.27 197.82,-72.98 198.65,-79.93\"/>\n<text text-anchor=\"middle\" x=\"146.99\" y=\"-91.8\" font-family=\"Times,serif\" font-size=\"14.00\">d(1 / sum(e^X))</text>\n</g>\n<!-- 4896144352 -->\n<g id=\"node3\" class=\"node\">\n<title>4896144352</title>\n<ellipse fill=\"none\" stroke=\"black\" cx=\"736.38\" cy=\"-95\" rx=\"40.09\" ry=\"18\"/>\n<text text-anchor=\"middle\" x=\"736.38\" y=\"-91.3\" font-family=\"Times,serif\" font-size=\"14.00\">Subtract</text>\n</g>\n<!-- 4896139120&#45;&gt;4896144352 -->\n<g id=\"edge4\" class=\"edge\">\n<title>4896139120&#45;&gt;4896144352</title>\n<path fill=\"none\" stroke=\"red\" d=\"M554.34,-95C586.94,-95 643.25,-95 684.44,-95\"/>\n<polygon fill=\"red\" stroke=\"red\" points=\"684.38,-98.5 694.38,-95 684.38,-91.5 684.38,-98.5\"/>\n<text text-anchor=\"middle\" x=\"625.09\" y=\"-98.8\" font-family=\"Times,serif\" font-size=\"14.00\">d(e^X &#45; max(e^X))</text>\n</g>\n<!-- 4896139312 -->\n<g id=\"node4\" class=\"node\">\n<title>4896139312</title>\n<ellipse fill=\"none\" stroke=\"black\" cx=\"1028.28\" cy=\"-95\" rx=\"27\" ry=\"18\"/>\n<text text-anchor=\"middle\" x=\"1028.28\" y=\"-91.3\" font-family=\"Times,serif\" font-size=\"14.00\">X</text>\n</g>\n<!-- 4896144352&#45;&gt;4896139312 -->\n<g id=\"edge1\" class=\"edge\">\n<title>4896144352&#45;&gt;4896139312</title>\n<path fill=\"none\" stroke=\"red\" d=\"M773.63,-102.3C780.59,-103.42 787.84,-104.41 794.68,-105 822.49,-107.41 976.34,-103.69 983.28,-103 985.79,-102.75 988.37,-102.44 990.97,-102.08\"/>\n<polygon fill=\"red\" stroke=\"red\" points=\"991.43,-105.55 1000.75,-100.52 990.32,-98.64 991.43,-105.55\"/>\n<text text-anchor=\"middle\" x=\"911.98\" y=\"-109.8\" font-family=\"Times,serif\" font-size=\"14.00\">d(X)</text>\n</g>\n<!-- 4896140032 -->\n<g id=\"node5\" class=\"node\">\n<title>4896140032</title>\n<ellipse fill=\"none\" stroke=\"black\" cx=\"911.98\" cy=\"-68\" rx=\"27.1\" ry=\"18\"/>\n<text text-anchor=\"middle\" x=\"911.98\" y=\"-64.3\" font-family=\"Times,serif\" font-size=\"14.00\">Max</text>\n</g>\n<!-- 4896144352&#45;&gt;4896140032 -->\n<g id=\"edge3\" class=\"edge\">\n<title>4896144352&#45;&gt;4896140032</title>\n<path fill=\"none\" stroke=\"red\" d=\"M774.62,-89.21C804,-84.64 844.76,-78.3 874.06,-73.74\"/>\n<polygon fill=\"red\" stroke=\"red\" points=\"874.22,-77.26 883.57,-72.26 873.15,-70.34 874.22,-77.26\"/>\n<text text-anchor=\"middle\" x=\"830.68\" y=\"-89.8\" font-family=\"Times,serif\" font-size=\"14.00\">d(max(e^X))</text>\n</g>\n<!-- 4896140032&#45;&gt;4896139312 -->\n<g id=\"edge2\" class=\"edge\">\n<title>4896140032&#45;&gt;4896139312</title>\n<path fill=\"none\" stroke=\"red\" d=\"M938.06,-73.93C953.69,-77.62 974.06,-82.43 991.38,-86.52\"/>\n<polygon fill=\"red\" stroke=\"red\" points=\"990.24,-89.85 1000.78,-88.74 991.85,-83.04 990.24,-89.85\"/>\n<text text-anchor=\"middle\" x=\"970.28\" y=\"-87.8\" font-family=\"Times,serif\" font-size=\"14.00\">d(X)</text>\n</g>\n<!-- 4896139360 -->\n<g id=\"node7\" class=\"node\">\n<title>4896139360</title>\n<ellipse fill=\"none\" stroke=\"black\" cx=\"397.79\" cy=\"-72\" rx=\"27.1\" ry=\"18\"/>\n<text text-anchor=\"middle\" x=\"397.79\" y=\"-68.3\" font-family=\"Times,serif\" font-size=\"14.00\">Sum</text>\n</g>\n<!-- 4896138304&#45;&gt;4896139360 -->\n<g id=\"edge7\" class=\"edge\">\n<title>4896138304&#45;&gt;4896139360</title>\n<path fill=\"none\" stroke=\"red\" d=\"M263.8,-72C289.74,-72 329.65,-72 358.99,-72\"/>\n<polygon fill=\"red\" stroke=\"red\" points=\"358.93,-75.5 368.93,-72 358.93,-68.5 358.93,-75.5\"/>\n<text text-anchor=\"middle\" x=\"316.99\" y=\"-75.8\" font-family=\"Times,serif\" font-size=\"14.00\">d(sum(e^X))</text>\n</g>\n<!-- 4896137824 -->\n<g id=\"node8\" class=\"node\">\n<title>4896137824</title>\n<ellipse fill=\"none\" stroke=\"black\" cx=\"397.79\" cy=\"-18\" rx=\"27\" ry=\"18\"/>\n<text text-anchor=\"middle\" x=\"397.79\" y=\"-14.3\" font-family=\"Times,serif\" font-size=\"14.00\">&#45;1</text>\n</g>\n<!-- 4896138304&#45;&gt;4896137824 -->\n<g id=\"edge8\" class=\"edge\">\n<title>4896138304&#45;&gt;4896137824</title>\n<path fill=\"none\" stroke=\"red\" d=\"M261,-64.03C287.82,-54.94 331.93,-39.99 362.57,-29.6\"/>\n<polygon fill=\"red\" stroke=\"red\" points=\"363.41,-33.01 371.76,-26.49 361.16,-26.38 363.41,-33.01\"/>\n</g>\n<!-- 4896139360&#45;&gt;4896139120 -->\n<g id=\"edge6\" class=\"edge\">\n<title>4896139360&#45;&gt;4896139120</title>\n<path fill=\"none\" stroke=\"red\" d=\"M424.24,-76.6C442.98,-79.98 468.72,-84.63 489.63,-88.41\"/>\n<polygon fill=\"red\" stroke=\"red\" points=\"488.72,-91.81 499.19,-90.14 489.97,-84.92 488.72,-91.81\"/>\n<text text-anchor=\"middle\" x=\"462.59\" y=\"-90.8\" font-family=\"Times,serif\" font-size=\"14.00\">d(e^X)</text>\n</g>\n</g>\n</svg>\n",
      "text/plain": "<graphviz.graphs.Digraph at 0x123d51780>"
     },
     "execution_count": 29,
     "metadata": {},
     "output_type": "execute_result"
    }
   ],
   "source": [
    "softmax.generate_graph(backward=True)"
   ],
   "metadata": {
    "collapsed": false
   }
  },
  {
   "cell_type": "code",
   "execution_count": 30,
   "outputs": [
    {
     "data": {
      "text/plain": "<IPython.core.display.Latex object>",
      "text/latex": "$\\frac{\\partial L}{\\partial X} = \\frac{\\partial softmax(X)}{\\partial e^X}*\\frac{\\partial e^X}{\\partial e^X - max(e^X)}*\\frac{\\partial e^X - max(e^X)}{\\partial X} + \\\\\\frac{\\partial softmax(X)}{\\partial e^X}*\\frac{\\partial e^X}{\\partial e^X - max(e^X)}*\\frac{\\partial e^X - max(e^X)}{\\partial max(e^X)}*\\frac{\\partial max(e^X)}{\\partial X} + \\\\\\frac{\\partial softmax(X)}{\\partial 1 / sum(e^X)}*\\frac{\\partial 1 / sum(e^X)}{\\partial sum(e^X)}*\\frac{\\partial sum(e^X)}{\\partial e^X}*\\frac{\\partial e^X}{\\partial e^X - max(e^X)}*\\frac{\\partial e^X - max(e^X)}{\\partial X} + \\\\\\frac{\\partial softmax(X)}{\\partial 1 / sum(e^X)}*\\frac{\\partial 1 / sum(e^X)}{\\partial sum(e^X)}*\\frac{\\partial sum(e^X)}{\\partial e^X}*\\frac{\\partial e^X}{\\partial e^X - max(e^X)}*\\frac{\\partial e^X - max(e^X)}{\\partial max(e^X)}*\\frac{\\partial max(e^X)}{\\partial X}$"
     },
     "execution_count": 30,
     "metadata": {},
     "output_type": "execute_result"
    }
   ],
   "source": [
    "softmax.generate_derivative_chains()\n",
    "display_chain(X.display_partial_derivative())"
   ],
   "metadata": {
    "collapsed": false
   }
  },
  {
   "cell_type": "code",
   "execution_count": 31,
   "outputs": [
    {
     "data": {
      "text/plain": "array([[0.        , 0.07267936, 0.02791878],\n       [0.        , 0.08498126, 0.02996178],\n       [0.        , 0.07966127, 0.03122   ],\n       [0.        , 0.08008809, 0.03049843],\n       [0.        , 0.07966127, 0.03122   ],\n       [0.        , 0.08543504, 0.03107221],\n       [0.        , 0.09050007, 0.02869213],\n       [0.        , 0.0951004 , 0.02556833],\n       [0.        , 0.09845464, 0.02604008],\n       [0.        , 0.09567516, 0.02477885]])"
     },
     "execution_count": 31,
     "metadata": {},
     "output_type": "execute_result"
    }
   ],
   "source": [
    "X.grad"
   ],
   "metadata": {
    "collapsed": false
   }
  },
  {
   "cell_type": "code",
   "execution_count": 19,
   "outputs": [
    {
     "data": {
      "text/plain": "True"
     },
     "execution_count": 19,
     "metadata": {},
     "output_type": "execute_result"
    }
   ],
   "source": [
    "def softmax_grad_func(x):\n",
    "    # Reshape the 1-d softmax to 2-d so that np.dot will do the matrix multiplication\n",
    "    s = x.reshape(-1,1)\n",
    "    flat_deriv = np.diagflat(s) - np.dot(s, s.T)\n",
    "    return np.sum(flat_deriv, axis=-1).reshape(x.shape)\n",
    "\n",
    "def softmax_func(z):\n",
    "    z -= np.max(z)\n",
    "    sm = np.exp(z) / np.sum(np.exp(z), axis=-1).reshape(-1,1)\n",
    "    return sm\n",
    "\n",
    "sm_func_output = softmax_func(x/100)\n",
    "np.allclose(output, sm_func_output)"
   ],
   "metadata": {
    "collapsed": false
   }
  },
  {
   "cell_type": "code",
   "execution_count": 20,
   "outputs": [
    {
     "data": {
      "text/plain": "array([[-3.86662312, -3.01132912, -2.12204776],\n       [-3.63986971, -3.19615296, -2.16397733],\n       [-3.6912698 , -3.11419446, -2.19453574],\n       [-3.70024742, -3.12176856, -2.17798402],\n       [-3.6912698 , -3.11419446, -2.19453574],\n       [-3.60945519, -3.20129957, -2.18924524],\n       [-3.58787051, -3.27906675, -2.13306274],\n       [-3.59284961, -3.34995077, -2.05719962],\n       [-3.53513265, -3.39651811, -2.06834924],\n       [-3.60299876, -3.35941378, -2.03758746]])"
     },
     "execution_count": 20,
     "metadata": {},
     "output_type": "execute_result"
    }
   ],
   "source": [
    "softmax_grad = softmax_grad_func(sm_func_output)\n",
    "\n",
    "softmax_grad"
   ],
   "metadata": {
    "collapsed": false
   }
  },
  {
   "cell_type": "code",
   "execution_count": 20,
   "outputs": [],
   "source": [],
   "metadata": {
    "collapsed": false
   }
  }
 ],
 "metadata": {
  "kernelspec": {
   "display_name": "Python 3",
   "language": "python",
   "name": "python3"
  },
  "language_info": {
   "codemirror_mode": {
    "name": "ipython",
    "version": 2
   },
   "file_extension": ".py",
   "mimetype": "text/x-python",
   "name": "python",
   "nbconvert_exporter": "python",
   "pygments_lexer": "ipython2",
   "version": "2.7.6"
  }
 },
 "nbformat": 4,
 "nbformat_minor": 0
}
