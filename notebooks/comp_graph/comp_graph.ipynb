{
 "cells": [
  {
   "cell_type": "code",
   "execution_count": 321,
   "outputs": [],
   "source": [
    "import os\n",
    "import sys\n",
    "import numpy as np\n",
    "import pandas as pd\n",
    "sys.path.append(os.path.abspath(\"../../nnets\"))\n",
    "from graph import Node, Parameter, display_chain\n",
    "\n",
    "# Read in our data, and fill missing values\n",
    "data = pd.read_csv(\"../../data/clean_weather.csv\", index_col=0)\n",
    "data = data.ffill()\n",
    "\n",
    "x = data[:10][[\"tmax\", \"tmin\", \"rain\"]].to_numpy()\n",
    "y = data[:10][[\"tmax_tomorrow\"]].to_numpy()"
   ],
   "metadata": {
    "collapsed": false
   }
  },
  {
   "cell_type": "code",
   "execution_count": 322,
   "outputs": [],
   "source": [
    "class MatMul(Node):\n",
    "    def forward(self, x, w):\n",
    "        return x @ w\n",
    "\n",
    "    def backward(self, grad):\n",
    "        x, w = self.cache\n",
    "        return grad @ w.T, x.T @ grad\n",
    "\n",
    "class Add(Node):\n",
    "    def forward(self, x, b):\n",
    "        return x + b\n",
    "\n",
    "    def backward(self, grad):\n",
    "        return grad, grad\n",
    "\n",
    "class MSE(Node):\n",
    "    def forward(self, pred, actual):\n",
    "        return pred, (pred - actual) ** 2\n",
    "\n",
    "    def backward(self, grad):\n",
    "        pred, actual = self.cache\n",
    "        return 2 * (pred - actual)\n",
    "\n",
    "class Pow(Node):\n",
    "    def forward(self, x, exponent):\n",
    "        return x ** exponent\n",
    "\n",
    "    def backward(self, grad):\n",
    "        x, exponent = self.cache\n",
    "        return grad * exponent * x ** (exponent - 1)\n",
    "\n",
    "class Subtract(Node):\n",
    "    def forward(self, x, y):\n",
    "        return x - y\n",
    "\n",
    "    def backward(self, grad):\n",
    "        return grad, -grad\n",
    "\n",
    "class Relu(Node):\n",
    "    def forward(self, x):\n",
    "        return np.maximum(x, 0)\n",
    "\n",
    "    def backward(self, grad):\n",
    "        x = self.cache[0]\n",
    "        grad[x < 0] = 0\n",
    "        return grad"
   ],
   "metadata": {
    "collapsed": false
   }
  },
  {
   "cell_type": "code",
   "execution_count": 323,
   "outputs": [],
   "source": [
    "w1 = np.random.rand(3, 3)\n",
    "b1 = np.random.rand(3)\n",
    "w2 = np.random.rand(3,1)\n",
    "b2 = np.random.rand(1)\n",
    "\n",
    "l1 = x @ w1 + b1\n",
    "l1_activated = np.maximum(l1, 0)\n",
    "l2 = l1_activated @ w2 + b2\n",
    "\n",
    "loss = 2 * (l2 - y)\n",
    "\n",
    "l2_w_grad = l1_activated.T @ loss\n",
    "l2_b_grad = loss.sum(axis=0)\n",
    "\n",
    "l1_grad = loss @ w2.T\n",
    "l1_grad[l1 < 0] = 0\n",
    "\n",
    "l1_w_grad = x.T @ l1_grad\n",
    "l1_b_grad = l1_grad.sum(axis=0)"
   ],
   "metadata": {
    "collapsed": false
   }
  },
  {
   "cell_type": "code",
   "execution_count": 324,
   "outputs": [
    {
     "data": {
      "text/plain": "array([[-3.44271499e+03, -7.23866360e+03, -4.17848897e+03],\n       [-2.60222161e+03, -5.47143953e+03, -3.15836610e+03],\n       [-3.55634473e+00, -7.47758186e+00, -4.31640356e+00]])"
     },
     "execution_count": 324,
     "metadata": {},
     "output_type": "execute_result"
    }
   ],
   "source": [
    "l1_w_grad"
   ],
   "metadata": {
    "collapsed": false
   }
  },
  {
   "cell_type": "code",
   "execution_count": 325,
   "outputs": [],
   "source": [
    "X = Parameter(x, desc=\"X\", needs_grad=False)\n",
    "Y = Parameter(y, desc=\"y\", needs_grad=False)\n",
    "\n",
    "w1_param = Parameter(w1, desc=\"W1\")\n",
    "b1_param = Parameter(b1, desc=\"b1\")\n",
    "\n",
    "matmul1 = MatMul(X, w1_param, out=\"X @ W1\")\n",
    "add1 = Add(matmul1, b1_param, out=\"Z1\")\n",
    "\n",
    "layer1 = Relu(add1, out=\"A1\")\n",
    "\n",
    "w2_param = Parameter(w2, desc=\"W2\")\n",
    "b2_param = Parameter(b2, desc=\"b2\")\n",
    "matmul2 = MatMul(layer1, w2_param, out=\"Z1 @ W2\")\n",
    "add2 = Add(matmul2, b2_param, out=\"Z2\")\n",
    "\n",
    "sub = Subtract(add2, Y, out=\"p - y\")\n",
    "square = Parameter(2, desc=\"2\", needs_grad=False)\n",
    "pow = Pow(sub, square, out=\"L\")\n",
    "loss = pow.apply_fwd()"
   ],
   "metadata": {
    "collapsed": false
   }
  },
  {
   "cell_type": "code",
   "execution_count": 326,
   "outputs": [
    {
     "data": {
      "text/plain": "True"
     },
     "execution_count": 326,
     "metadata": {},
     "output_type": "execute_result"
    }
   ],
   "source": [
    "mse = MSE(add2, Y, out=\"L\")\n",
    "pred, loss_mse = mse.apply_fwd()\n",
    "\n",
    "np.allclose(loss, loss_mse)"
   ],
   "metadata": {
    "collapsed": false
   }
  },
  {
   "cell_type": "code",
   "execution_count": 327,
   "outputs": [
    {
     "data": {
      "text/plain": "True"
     },
     "execution_count": 327,
     "metadata": {},
     "output_type": "execute_result"
    }
   ],
   "source": [
    "np.allclose(l2, pred)"
   ],
   "metadata": {
    "collapsed": false
   }
  },
  {
   "cell_type": "code",
   "execution_count": 328,
   "outputs": [
    {
     "data": {
      "image/svg+xml": "<?xml version=\"1.0\" encoding=\"UTF-8\" standalone=\"no\"?>\n<!DOCTYPE svg PUBLIC \"-//W3C//DTD SVG 1.1//EN\"\n \"http://www.w3.org/Graphics/SVG/1.1/DTD/svg11.dtd\">\n<!-- Generated by graphviz version 7.0.6 (20230106.0513)\n -->\n<!-- Title: fwd_pass Pages: 1 -->\n<svg width=\"838pt\" height=\"222pt\"\n viewBox=\"0.00 0.00 838.28 222.00\" xmlns=\"http://www.w3.org/2000/svg\" xmlns:xlink=\"http://www.w3.org/1999/xlink\">\n<g id=\"graph0\" class=\"graph\" transform=\"scale(1 1) rotate(0) translate(4 218)\">\n<title>fwd_pass</title>\n<polygon fill=\"white\" stroke=\"none\" points=\"-4,4 -4,-218 834.28,-218 834.28,4 -4,4\"/>\n<!-- 4907151616 -->\n<g id=\"node1\" class=\"node\">\n<title>4907151616</title>\n<ellipse fill=\"none\" stroke=\"black\" cx=\"801.03\" cy=\"-37\" rx=\"29.5\" ry=\"18\"/>\n<text text-anchor=\"middle\" x=\"801.03\" y=\"-33.3\" font-family=\"Times,serif\" font-size=\"14.00\">MSE</text>\n</g>\n<!-- 4907150416 -->\n<g id=\"node2\" class=\"node\">\n<title>4907150416</title>\n<ellipse fill=\"none\" stroke=\"black\" cx=\"692.78\" cy=\"-72\" rx=\"27\" ry=\"18\"/>\n<text text-anchor=\"middle\" x=\"692.78\" y=\"-68.3\" font-family=\"Times,serif\" font-size=\"14.00\">Add</text>\n</g>\n<!-- 4907150416&#45;&gt;4907151616 -->\n<g id=\"edge10\" class=\"edge\">\n<title>4907150416&#45;&gt;4907151616</title>\n<path fill=\"none\" stroke=\"black\" d=\"M717.62,-64.15C731.21,-59.67 748.52,-53.97 763.76,-48.95\"/>\n<polygon fill=\"black\" stroke=\"black\" points=\"764.57,-52.37 772.97,-45.91 762.38,-45.72 764.57,-52.37\"/>\n<text text-anchor=\"middle\" x=\"745.78\" y=\"-59.8\" font-family=\"Times,serif\" font-size=\"14.00\">Z2</text>\n</g>\n<!-- 4907147008 -->\n<g id=\"node3\" class=\"node\">\n<title>4907147008</title>\n<ellipse fill=\"none\" stroke=\"black\" cx=\"534.48\" cy=\"-103\" rx=\"40.09\" ry=\"18\"/>\n<text text-anchor=\"middle\" x=\"534.48\" y=\"-99.3\" font-family=\"Times,serif\" font-size=\"14.00\">MatMul</text>\n</g>\n<!-- 4907147008&#45;&gt;4907150416 -->\n<g id=\"edge8\" class=\"edge\">\n<title>4907147008&#45;&gt;4907150416</title>\n<path fill=\"none\" stroke=\"black\" d=\"M571.73,-95.81C596.8,-90.84 630.04,-84.25 655.18,-79.26\"/>\n<polygon fill=\"black\" stroke=\"black\" points=\"655.84,-82.7 664.97,-77.32 654.48,-75.83 655.84,-82.7\"/>\n<text text-anchor=\"middle\" x=\"620.28\" y=\"-94.8\" font-family=\"Times,serif\" font-size=\"14.00\">Z1 @ W2</text>\n</g>\n<!-- 4907147872 -->\n<g id=\"node4\" class=\"node\">\n<title>4907147872</title>\n<ellipse fill=\"none\" stroke=\"black\" cx=\"409.89\" cy=\"-134\" rx=\"27.1\" ry=\"18\"/>\n<text text-anchor=\"middle\" x=\"409.89\" y=\"-130.3\" font-family=\"Times,serif\" font-size=\"14.00\">Relu</text>\n</g>\n<!-- 4907147872&#45;&gt;4907147008 -->\n<g id=\"edge6\" class=\"edge\">\n<title>4907147872&#45;&gt;4907147008</title>\n<path fill=\"none\" stroke=\"black\" d=\"M435.7,-127.73C450.69,-123.94 470.27,-118.99 487.96,-114.51\"/>\n<polygon fill=\"black\" stroke=\"black\" points=\"488.65,-117.95 497.49,-112.1 486.94,-111.16 488.65,-117.95\"/>\n<text text-anchor=\"middle\" x=\"465.69\" y=\"-125.8\" font-family=\"Times,serif\" font-size=\"14.00\">A1</text>\n</g>\n<!-- 4907152480 -->\n<g id=\"node5\" class=\"node\">\n<title>4907152480</title>\n<ellipse fill=\"none\" stroke=\"black\" cx=\"303.59\" cy=\"-134\" rx=\"27\" ry=\"18\"/>\n<text text-anchor=\"middle\" x=\"303.59\" y=\"-130.3\" font-family=\"Times,serif\" font-size=\"14.00\">Add</text>\n</g>\n<!-- 4907152480&#45;&gt;4907147872 -->\n<g id=\"edge5\" class=\"edge\">\n<title>4907152480&#45;&gt;4907147872</title>\n<path fill=\"none\" stroke=\"black\" d=\"M330.91,-134C343.14,-134 357.9,-134 371.28,-134\"/>\n<polygon fill=\"black\" stroke=\"black\" points=\"371.07,-137.5 381.07,-134 371.07,-130.5 371.07,-137.5\"/>\n<text text-anchor=\"middle\" x=\"356.59\" y=\"-137.8\" font-family=\"Times,serif\" font-size=\"14.00\">Z1</text>\n</g>\n<!-- 4907141056 -->\n<g id=\"node6\" class=\"node\">\n<title>4907141056</title>\n<ellipse fill=\"none\" stroke=\"black\" cx=\"151.3\" cy=\"-169\" rx=\"40.09\" ry=\"18\"/>\n<text text-anchor=\"middle\" x=\"151.3\" y=\"-165.3\" font-family=\"Times,serif\" font-size=\"14.00\">MatMul</text>\n</g>\n<!-- 4907141056&#45;&gt;4907152480 -->\n<g id=\"edge3\" class=\"edge\">\n<title>4907141056&#45;&gt;4907152480</title>\n<path fill=\"none\" stroke=\"black\" d=\"M187.53,-160.79C211.39,-155.24 242.82,-147.92 266.79,-142.34\"/>\n<polygon fill=\"black\" stroke=\"black\" points=\"267.48,-145.77 276.43,-140.09 265.89,-138.95 267.48,-145.77\"/>\n<text text-anchor=\"middle\" x=\"234.09\" y=\"-157.8\" font-family=\"Times,serif\" font-size=\"14.00\">X @ W1</text>\n</g>\n<!-- 4907140288 -->\n<g id=\"node7\" class=\"node\">\n<title>4907140288</title>\n<ellipse fill=\"none\" stroke=\"black\" cx=\"27\" cy=\"-196\" rx=\"27\" ry=\"18\"/>\n<text text-anchor=\"middle\" x=\"27\" y=\"-192.3\" font-family=\"Times,serif\" font-size=\"14.00\">X</text>\n</g>\n<!-- 4907140288&#45;&gt;4907141056 -->\n<g id=\"edge1\" class=\"edge\">\n<title>4907140288&#45;&gt;4907141056</title>\n<path fill=\"none\" stroke=\"black\" d=\"M53.04,-190.47C67.6,-187.26 86.42,-183.1 103.62,-179.31\"/>\n<polygon fill=\"black\" stroke=\"black\" points=\"104.13,-182.78 113.14,-177.2 102.62,-175.94 104.13,-182.78\"/>\n<text text-anchor=\"middle\" x=\"82.5\" y=\"-188.8\" font-family=\"Times,serif\" font-size=\"14.00\">X</text>\n</g>\n<!-- 4907149216 -->\n<g id=\"node8\" class=\"node\">\n<title>4907149216</title>\n<ellipse fill=\"none\" stroke=\"black\" cx=\"27\" cy=\"-142\" rx=\"27\" ry=\"18\"/>\n<text text-anchor=\"middle\" x=\"27\" y=\"-138.3\" font-family=\"Times,serif\" font-size=\"14.00\">W1</text>\n</g>\n<!-- 4907149216&#45;&gt;4907141056 -->\n<g id=\"edge2\" class=\"edge\">\n<title>4907149216&#45;&gt;4907141056</title>\n<path fill=\"none\" stroke=\"black\" d=\"M53.04,-147.53C67.6,-150.74 86.42,-154.9 103.62,-158.69\"/>\n<polygon fill=\"black\" stroke=\"black\" points=\"102.62,-162.06 113.14,-160.8 104.13,-155.22 102.62,-162.06\"/>\n<text text-anchor=\"middle\" x=\"82.5\" y=\"-159.8\" font-family=\"Times,serif\" font-size=\"14.00\">W1</text>\n</g>\n<!-- 4907149264 -->\n<g id=\"node9\" class=\"node\">\n<title>4907149264</title>\n<ellipse fill=\"none\" stroke=\"black\" cx=\"151.3\" cy=\"-115\" rx=\"27\" ry=\"18\"/>\n<text text-anchor=\"middle\" x=\"151.3\" y=\"-111.3\" font-family=\"Times,serif\" font-size=\"14.00\">b1</text>\n</g>\n<!-- 4907149264&#45;&gt;4907152480 -->\n<g id=\"edge4\" class=\"edge\">\n<title>4907149264&#45;&gt;4907152480</title>\n<path fill=\"none\" stroke=\"black\" d=\"M178.63,-116.21C200.21,-117.45 231.51,-119.8 258.59,-124 261.27,-124.42 264.03,-124.9 266.8,-125.43\"/>\n<polygon fill=\"black\" stroke=\"black\" points=\"266.05,-128.85 276.56,-127.48 267.49,-122 266.05,-128.85\"/>\n<text text-anchor=\"middle\" x=\"234.09\" y=\"-127.8\" font-family=\"Times,serif\" font-size=\"14.00\">b1</text>\n</g>\n<!-- 4907155408 -->\n<g id=\"node10\" class=\"node\">\n<title>4907155408</title>\n<ellipse fill=\"none\" stroke=\"black\" cx=\"409.89\" cy=\"-80\" rx=\"27\" ry=\"18\"/>\n<text text-anchor=\"middle\" x=\"409.89\" y=\"-76.3\" font-family=\"Times,serif\" font-size=\"14.00\">W2</text>\n</g>\n<!-- 4907155408&#45;&gt;4907147008 -->\n<g id=\"edge7\" class=\"edge\">\n<title>4907155408&#45;&gt;4907147008</title>\n<path fill=\"none\" stroke=\"black\" d=\"M436.73,-82.94C448.77,-84.47 463.26,-86.54 476.19,-89 480.03,-89.73 483.99,-90.56 487.96,-91.43\"/>\n<polygon fill=\"black\" stroke=\"black\" points=\"487.06,-94.81 497.59,-93.64 488.63,-87.99 487.06,-94.81\"/>\n<text text-anchor=\"middle\" x=\"465.69\" y=\"-92.8\" font-family=\"Times,serif\" font-size=\"14.00\">W2</text>\n</g>\n<!-- 4907146288 -->\n<g id=\"node11\" class=\"node\">\n<title>4907146288</title>\n<ellipse fill=\"none\" stroke=\"black\" cx=\"534.48\" cy=\"-49\" rx=\"27\" ry=\"18\"/>\n<text text-anchor=\"middle\" x=\"534.48\" y=\"-45.3\" font-family=\"Times,serif\" font-size=\"14.00\">b2</text>\n</g>\n<!-- 4907146288&#45;&gt;4907150416 -->\n<g id=\"edge9\" class=\"edge\">\n<title>4907146288&#45;&gt;4907150416</title>\n<path fill=\"none\" stroke=\"black\" d=\"M561.58,-49.41C584.49,-50.17 618.61,-52.27 647.78,-58 651.13,-58.66 654.59,-59.49 658.02,-60.41\"/>\n<polygon fill=\"black\" stroke=\"black\" points=\"656.71,-63.67 667.3,-63.15 658.7,-56.96 656.71,-63.67\"/>\n<text text-anchor=\"middle\" x=\"620.28\" y=\"-61.8\" font-family=\"Times,serif\" font-size=\"14.00\">b2</text>\n</g>\n<!-- 4907140192 -->\n<g id=\"node12\" class=\"node\">\n<title>4907140192</title>\n<ellipse fill=\"none\" stroke=\"black\" cx=\"692.78\" cy=\"-18\" rx=\"27\" ry=\"18\"/>\n<text text-anchor=\"middle\" x=\"692.78\" y=\"-14.3\" font-family=\"Times,serif\" font-size=\"14.00\">y</text>\n</g>\n<!-- 4907140192&#45;&gt;4907151616 -->\n<g id=\"edge11\" class=\"edge\">\n<title>4907140192&#45;&gt;4907151616</title>\n<path fill=\"none\" stroke=\"black\" d=\"M719.53,-21.49C730.16,-23.03 742.59,-24.95 753.78,-27 756.44,-27.49 759.18,-28.01 761.93,-28.56\"/>\n<polygon fill=\"black\" stroke=\"black\" points=\"761.2,-31.98 771.7,-30.58 762.62,-25.13 761.2,-31.98\"/>\n<text text-anchor=\"middle\" x=\"745.78\" y=\"-30.8\" font-family=\"Times,serif\" font-size=\"14.00\">y</text>\n</g>\n</g>\n</svg>\n",
      "text/plain": "<graphviz.graphs.Digraph at 0x1247d0c10>"
     },
     "execution_count": 328,
     "metadata": {},
     "output_type": "execute_result"
    }
   ],
   "source": [
    "mse.generate_graph()"
   ],
   "metadata": {
    "collapsed": false
   }
  },
  {
   "cell_type": "code",
   "execution_count": 329,
   "outputs": [
    {
     "data": {
      "text/plain": "True"
     },
     "execution_count": 329,
     "metadata": {},
     "output_type": "execute_result"
    }
   ],
   "source": [
    "mse.zero_grad()\n",
    "mse.apply_bwd(1)\n",
    "\n",
    "np.allclose(l1_w_grad, w1_param.grad)"
   ],
   "metadata": {
    "collapsed": false
   }
  },
  {
   "cell_type": "code",
   "execution_count": 330,
   "outputs": [
    {
     "data": {
      "image/svg+xml": "<?xml version=\"1.0\" encoding=\"UTF-8\" standalone=\"no\"?>\n<!DOCTYPE svg PUBLIC \"-//W3C//DTD SVG 1.1//EN\"\n \"http://www.w3.org/Graphics/SVG/1.1/DTD/svg11.dtd\">\n<!-- Generated by graphviz version 7.0.6 (20230106.0513)\n -->\n<!-- Title: fwd_pass Pages: 1 -->\n<svg width=\"1043pt\" height=\"222pt\"\n viewBox=\"0.00 0.00 1043.28 222.00\" xmlns=\"http://www.w3.org/2000/svg\" xmlns:xlink=\"http://www.w3.org/1999/xlink\">\n<g id=\"graph0\" class=\"graph\" transform=\"scale(1 1) rotate(0) translate(4 218)\">\n<title>fwd_pass</title>\n<polygon fill=\"white\" stroke=\"none\" points=\"-4,4 -4,-218 1039.28,-218 1039.28,4 -4,4\"/>\n<!-- 4907151616 -->\n<g id=\"node1\" class=\"node\">\n<title>4907151616</title>\n<ellipse fill=\"none\" stroke=\"black\" cx=\"29.25\" cy=\"-34\" rx=\"29.5\" ry=\"18\"/>\n<text text-anchor=\"middle\" x=\"29.25\" y=\"-30.3\" font-family=\"Times,serif\" font-size=\"14.00\">MSE</text>\n</g>\n<!-- 4907150416 -->\n<g id=\"node2\" class=\"node\">\n<title>4907150416</title>\n<ellipse fill=\"none\" stroke=\"black\" cx=\"171.49\" cy=\"-72\" rx=\"27\" ry=\"18\"/>\n<text text-anchor=\"middle\" x=\"171.49\" y=\"-68.3\" font-family=\"Times,serif\" font-size=\"14.00\">Add</text>\n</g>\n<!-- 4907151616&#45;&gt;4907150416 -->\n<g id=\"edge10\" class=\"edge\">\n<title>4907151616&#45;&gt;4907150416</title>\n<path fill=\"none\" stroke=\"red\" d=\"M56.63,-41.15C78.82,-47.16 110.75,-55.81 135.15,-62.42\"/>\n<polygon fill=\"red\" stroke=\"red\" points=\"134.08,-65.76 144.65,-65 135.91,-59 134.08,-65.76\"/>\n<text text-anchor=\"middle\" x=\"101.49\" y=\"-62.8\" font-family=\"Times,serif\" font-size=\"14.00\">dL/(dZ2)</text>\n</g>\n<!-- 4907140192 -->\n<g id=\"node12\" class=\"node\">\n<title>4907140192</title>\n<ellipse fill=\"none\" stroke=\"black\" cx=\"171.49\" cy=\"-18\" rx=\"27\" ry=\"18\"/>\n<text text-anchor=\"middle\" x=\"171.49\" y=\"-14.3\" font-family=\"Times,serif\" font-size=\"14.00\">y</text>\n</g>\n<!-- 4907151616&#45;&gt;4907140192 -->\n<g id=\"edge11\" class=\"edge\">\n<title>4907151616&#45;&gt;4907140192</title>\n<path fill=\"none\" stroke=\"red\" d=\"M58.63,-30.76C80.13,-28.31 109.86,-24.92 133.27,-22.25\"/>\n<polygon fill=\"red\" stroke=\"red\" points=\"133.48,-25.75 143.02,-21.13 132.68,-18.79 133.48,-25.75\"/>\n</g>\n<!-- 4907147008 -->\n<g id=\"node3\" class=\"node\">\n<title>4907147008</title>\n<ellipse fill=\"none\" stroke=\"black\" cx=\"363.79\" cy=\"-103\" rx=\"40.09\" ry=\"18\"/>\n<text text-anchor=\"middle\" x=\"363.79\" y=\"-99.3\" font-family=\"Times,serif\" font-size=\"14.00\">MatMul</text>\n</g>\n<!-- 4907150416&#45;&gt;4907147008 -->\n<g id=\"edge8\" class=\"edge\">\n<title>4907150416&#45;&gt;4907147008</title>\n<path fill=\"none\" stroke=\"red\" d=\"M198.16,-76.18C227.95,-81.03 277.71,-89.14 314.75,-95.17\"/>\n<polygon fill=\"red\" stroke=\"red\" points=\"313.87,-98.58 324.3,-96.73 315,-91.67 313.87,-98.58\"/>\n<text text-anchor=\"middle\" x=\"260.99\" y=\"-95.8\" font-family=\"Times,serif\" font-size=\"14.00\">dL/(dZ1 @ W2)</text>\n</g>\n<!-- 4907146288 -->\n<g id=\"node11\" class=\"node\">\n<title>4907146288</title>\n<ellipse fill=\"none\" stroke=\"black\" cx=\"363.79\" cy=\"-49\" rx=\"27\" ry=\"18\"/>\n<text text-anchor=\"middle\" x=\"363.79\" y=\"-45.3\" font-family=\"Times,serif\" font-size=\"14.00\">b2</text>\n</g>\n<!-- 4907150416&#45;&gt;4907146288 -->\n<g id=\"edge9\" class=\"edge\">\n<title>4907150416&#45;&gt;4907146288</title>\n<path fill=\"none\" stroke=\"red\" d=\"M195.51,-63.5C202.19,-61.36 209.56,-59.3 216.49,-58 253.04,-51.17 295.52,-49.2 325.26,-48.78\"/>\n<polygon fill=\"red\" stroke=\"red\" points=\"324.91,-52.28 334.88,-48.69 324.85,-45.28 324.91,-52.28\"/>\n<text text-anchor=\"middle\" x=\"260.99\" y=\"-61.8\" font-family=\"Times,serif\" font-size=\"14.00\">dL/(db2)</text>\n</g>\n<!-- 4907147872 -->\n<g id=\"node4\" class=\"node\">\n<title>4907147872</title>\n<ellipse fill=\"none\" stroke=\"black\" cx=\"522.39\" cy=\"-134\" rx=\"27.1\" ry=\"18\"/>\n<text text-anchor=\"middle\" x=\"522.39\" y=\"-130.3\" font-family=\"Times,serif\" font-size=\"14.00\">Relu</text>\n</g>\n<!-- 4907147008&#45;&gt;4907147872 -->\n<g id=\"edge6\" class=\"edge\">\n<title>4907147008&#45;&gt;4907147872</title>\n<path fill=\"none\" stroke=\"red\" d=\"M401.11,-110.19C426.23,-115.16 459.52,-121.75 484.71,-126.74\"/>\n<polygon fill=\"red\" stroke=\"red\" points=\"484.03,-130.17 494.52,-128.68 485.39,-123.31 484.03,-130.17\"/>\n<text text-anchor=\"middle\" x=\"449.59\" y=\"-127.8\" font-family=\"Times,serif\" font-size=\"14.00\">dL/(dA1)</text>\n</g>\n<!-- 4907155408 -->\n<g id=\"node10\" class=\"node\">\n<title>4907155408</title>\n<ellipse fill=\"none\" stroke=\"black\" cx=\"522.39\" cy=\"-80\" rx=\"27\" ry=\"18\"/>\n<text text-anchor=\"middle\" x=\"522.39\" y=\"-76.3\" font-family=\"Times,serif\" font-size=\"14.00\">W2</text>\n</g>\n<!-- 4907147008&#45;&gt;4907155408 -->\n<g id=\"edge7\" class=\"edge\">\n<title>4907147008&#45;&gt;4907155408</title>\n<path fill=\"none\" stroke=\"red\" d=\"M398.85,-93.79C406.46,-91.99 414.51,-90.26 422.09,-89 442.35,-85.63 465.17,-83.45 483.82,-82.08\"/>\n<polygon fill=\"red\" stroke=\"red\" points=\"483.87,-85.58 493.61,-81.41 483.39,-78.6 483.87,-85.58\"/>\n<text text-anchor=\"middle\" x=\"449.59\" y=\"-92.8\" font-family=\"Times,serif\" font-size=\"14.00\">dL/(dW2)</text>\n</g>\n<!-- 4907152480 -->\n<g id=\"node5\" class=\"node\">\n<title>4907152480</title>\n<ellipse fill=\"none\" stroke=\"black\" cx=\"662.68\" cy=\"-134\" rx=\"27\" ry=\"18\"/>\n<text text-anchor=\"middle\" x=\"662.68\" y=\"-130.3\" font-family=\"Times,serif\" font-size=\"14.00\">Add</text>\n</g>\n<!-- 4907147872&#45;&gt;4907152480 -->\n<g id=\"edge5\" class=\"edge\">\n<title>4907147872&#45;&gt;4907152480</title>\n<path fill=\"none\" stroke=\"red\" d=\"M549.72,-134C570.78,-134 600.55,-134 624.11,-134\"/>\n<polygon fill=\"red\" stroke=\"red\" points=\"623.93,-137.5 633.93,-134 623.93,-130.5 623.93,-137.5\"/>\n<text text-anchor=\"middle\" x=\"592.68\" y=\"-137.8\" font-family=\"Times,serif\" font-size=\"14.00\">dL/(dZ1)</text>\n</g>\n<!-- 4907141056 -->\n<g id=\"node6\" class=\"node\">\n<title>4907141056</title>\n<ellipse fill=\"none\" stroke=\"black\" cx=\"849.98\" cy=\"-169\" rx=\"40.09\" ry=\"18\"/>\n<text text-anchor=\"middle\" x=\"849.98\" y=\"-165.3\" font-family=\"Times,serif\" font-size=\"14.00\">MatMul</text>\n</g>\n<!-- 4907152480&#45;&gt;4907141056 -->\n<g id=\"edge3\" class=\"edge\">\n<title>4907152480&#45;&gt;4907141056</title>\n<path fill=\"none\" stroke=\"red\" d=\"M689.06,-138.79C717.86,-144.23 765.47,-153.23 801.27,-159.99\"/>\n<polygon fill=\"red\" stroke=\"red\" points=\"800.48,-163.4 810.95,-161.82 801.78,-156.52 800.48,-163.4\"/>\n<text text-anchor=\"middle\" x=\"749.68\" y=\"-160.8\" font-family=\"Times,serif\" font-size=\"14.00\">dL/(dX @ W1)</text>\n</g>\n<!-- 4907149264 -->\n<g id=\"node9\" class=\"node\">\n<title>4907149264</title>\n<ellipse fill=\"none\" stroke=\"black\" cx=\"849.98\" cy=\"-115\" rx=\"27\" ry=\"18\"/>\n<text text-anchor=\"middle\" x=\"849.98\" y=\"-111.3\" font-family=\"Times,serif\" font-size=\"14.00\">b1</text>\n</g>\n<!-- 4907152480&#45;&gt;4907149264 -->\n<g id=\"edge4\" class=\"edge\">\n<title>4907152480&#45;&gt;4907149264</title>\n<path fill=\"none\" stroke=\"red\" d=\"M688.22,-127.69C694.53,-126.28 701.33,-124.92 707.68,-124 742.49,-118.97 782.52,-116.75 811.06,-115.77\"/>\n<polygon fill=\"red\" stroke=\"red\" points=\"811.15,-119.27 821.03,-115.47 810.93,-112.27 811.15,-119.27\"/>\n<text text-anchor=\"middle\" x=\"749.68\" y=\"-127.8\" font-family=\"Times,serif\" font-size=\"14.00\">dL/(db1)</text>\n</g>\n<!-- 4907140288 -->\n<g id=\"node7\" class=\"node\">\n<title>4907140288</title>\n<ellipse fill=\"none\" stroke=\"black\" cx=\"1008.28\" cy=\"-196\" rx=\"27\" ry=\"18\"/>\n<text text-anchor=\"middle\" x=\"1008.28\" y=\"-192.3\" font-family=\"Times,serif\" font-size=\"14.00\">X</text>\n</g>\n<!-- 4907141056&#45;&gt;4907140288 -->\n<g id=\"edge1\" class=\"edge\">\n<title>4907141056&#45;&gt;4907140288</title>\n<path fill=\"none\" stroke=\"red\" d=\"M888.02,-175.4C912.96,-179.71 945.7,-185.36 970.57,-189.66\"/>\n<polygon fill=\"red\" stroke=\"red\" points=\"969.79,-193.08 980.24,-191.33 970.98,-186.18 969.79,-193.08\"/>\n</g>\n<!-- 4907149216 -->\n<g id=\"node8\" class=\"node\">\n<title>4907149216</title>\n<ellipse fill=\"none\" stroke=\"black\" cx=\"1008.28\" cy=\"-142\" rx=\"27\" ry=\"18\"/>\n<text text-anchor=\"middle\" x=\"1008.28\" y=\"-138.3\" font-family=\"Times,serif\" font-size=\"14.00\">W1</text>\n</g>\n<!-- 4907141056&#45;&gt;4907149216 -->\n<g id=\"edge2\" class=\"edge\">\n<title>4907141056&#45;&gt;4907149216</title>\n<path fill=\"none\" stroke=\"red\" d=\"M888.02,-162.6C912.96,-158.29 945.7,-152.64 970.57,-148.34\"/>\n<polygon fill=\"red\" stroke=\"red\" points=\"970.98,-151.82 980.24,-146.67 969.79,-144.92 970.98,-151.82\"/>\n<text text-anchor=\"middle\" x=\"935.78\" y=\"-161.8\" font-family=\"Times,serif\" font-size=\"14.00\">dL/(dW1)</text>\n</g>\n</g>\n</svg>\n",
      "text/plain": "<graphviz.graphs.Digraph at 0x1247d17e0>"
     },
     "execution_count": 330,
     "metadata": {},
     "output_type": "execute_result"
    }
   ],
   "source": [
    "mse.generate_graph(backward=True)"
   ],
   "metadata": {
    "collapsed": false
   }
  },
  {
   "cell_type": "code",
   "execution_count": 331,
   "outputs": [],
   "source": [
    "mse.generate_derivative_chains()"
   ],
   "metadata": {
    "collapsed": false
   }
  },
  {
   "cell_type": "code",
   "execution_count": 332,
   "outputs": [
    {
     "data": {
      "text/plain": "<IPython.core.display.Latex object>",
      "text/latex": "$\\frac{\\partial L}{\\partial W1} = \\frac{\\partial L}{\\partial Z2}*\\frac{\\partial Z2}{\\partial Z1 @ W2}*\\frac{\\partial Z1 @ W2}{\\partial A1}*\\frac{\\partial A1}{\\partial Z1}*\\frac{\\partial Z1}{\\partial X @ W1}*\\frac{\\partial X @ W1}{\\partial W1}$"
     },
     "execution_count": 332,
     "metadata": {},
     "output_type": "execute_result"
    }
   ],
   "source": [
    "display_chain(w1_param.display_partial_derivative())"
   ],
   "metadata": {
    "collapsed": false
   }
  },
  {
   "cell_type": "code",
   "execution_count": null,
   "outputs": [],
   "source": [],
   "metadata": {
    "collapsed": false
   }
  }
 ],
 "metadata": {
  "kernelspec": {
   "display_name": "Python 3",
   "language": "python",
   "name": "python3"
  },
  "language_info": {
   "codemirror_mode": {
    "name": "ipython",
    "version": 2
   },
   "file_extension": ".py",
   "mimetype": "text/x-python",
   "name": "python",
   "nbconvert_exporter": "python",
   "pygments_lexer": "ipython2",
   "version": "2.7.6"
  }
 },
 "nbformat": 4,
 "nbformat_minor": 0
}
