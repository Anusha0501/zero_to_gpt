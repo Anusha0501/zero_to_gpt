{
 "cells": [
  {
   "cell_type": "code",
   "execution_count": 9,
   "metadata": {
    "collapsed": true
   },
   "outputs": [],
   "source": [
    "import sys\n",
    "import torch\n",
    "from torch import nn\n",
    "import os\n",
    "import numpy as np\n",
    "\n",
    "sys.path.append(os.path.abspath(\"../../data\"))\n",
    "\n",
    "DEVICE = torch.device(\"cuda\" if torch.cuda.is_available() else \"cpu\")\n",
    "BATCH_SIZE = 1"
   ]
  },
  {
   "cell_type": "code",
   "execution_count": 10,
   "outputs": [],
   "source": [
    "from csv_data import WeatherDatasetWrapper\n",
    "\n",
    "class WeatherDataset(WeatherDatasetWrapper):\n",
    "    predictors = [\"tmax\", \"tmin\", \"rain\"]\n",
    "    target = \"tmax_tomorrow\"\n",
    "    sequence_length = 7\n",
    "\n",
    "wrapper = WeatherDataset()\n",
    "datasets = wrapper.generate_datasets(BATCH_SIZE)"
   ],
   "metadata": {
    "collapsed": false
   }
  },
  {
   "cell_type": "code",
   "execution_count": 11,
   "outputs": [],
   "source": [
    "train = datasets[\"train\"]\n",
    "valid = datasets[\"validation\"]\n",
    "test = datasets[\"test\"]"
   ],
   "metadata": {
    "collapsed": false
   }
  },
  {
   "cell_type": "code",
   "execution_count": 12,
   "outputs": [],
   "source": [
    "class NeuralNetwork(nn.Module):\n",
    "    def __init__(self):\n",
    "        super(NeuralNetwork, self).__init__()\n",
    "        self.rnn = nn.RNN(3, 4, 1, batch_first=True)\n",
    "        self.dense = nn.Linear(4, 1)\n",
    "\n",
    "    def forward(self, x):\n",
    "        x, hidden = self.rnn(x)\n",
    "        x = self.dense(x)\n",
    "        return x"
   ],
   "metadata": {
    "collapsed": false
   }
  },
  {
   "cell_type": "code",
   "execution_count": 20,
   "outputs": [],
   "source": [
    "def mse(actual, predicted):\n",
    "    return torch.mean((actual-predicted)**2)"
   ],
   "metadata": {
    "collapsed": false
   }
  },
  {
   "cell_type": "code",
   "execution_count": 22,
   "outputs": [
    {
     "name": "stdout",
     "output_type": "stream",
     "text": [
      "Epoch 0 train loss: 314.6138000488281 valid loss: 31.349842071533203\n",
      "Epoch 1 train loss: 25.994112014770508 valid loss: 22.94846534729004\n",
      "Epoch 2 train loss: 23.340198516845703 valid loss: 22.29945945739746\n",
      "Epoch 3 train loss: 22.787185668945312 valid loss: 21.83952522277832\n",
      "Epoch 4 train loss: 22.60393714904785 valid loss: 21.455257415771484\n",
      "Epoch 5 train loss: 22.515172958374023 valid loss: 21.09100914001465\n",
      "Epoch 6 train loss: 22.4509220123291 valid loss: 20.907573699951172\n",
      "Epoch 7 train loss: 22.3182430267334 valid loss: 21.142229080200195\n",
      "Epoch 8 train loss: 22.219058990478516 valid loss: 21.186647415161133\n",
      "Epoch 9 train loss: 22.14150047302246 valid loss: 21.70040512084961\n",
      "Epoch 10 train loss: 22.10215950012207 valid loss: 20.82554054260254\n",
      "Epoch 11 train loss: 22.07602310180664 valid loss: 20.851511001586914\n",
      "Epoch 12 train loss: 22.043928146362305 valid loss: 20.940540313720703\n",
      "Epoch 13 train loss: 22.03813934326172 valid loss: 21.482694625854492\n",
      "Epoch 14 train loss: 21.974666595458984 valid loss: 20.58385467529297\n",
      "Epoch 15 train loss: 21.941471099853516 valid loss: 21.220657348632812\n",
      "Epoch 16 train loss: 21.93094825744629 valid loss: 20.991727828979492\n",
      "Epoch 17 train loss: 21.92759132385254 valid loss: 21.10889434814453\n",
      "Epoch 18 train loss: 21.89818000793457 valid loss: 21.927635192871094\n",
      "Epoch 19 train loss: 21.876001358032227 valid loss: 20.521991729736328\n",
      "Epoch 20 train loss: 21.881139755249023 valid loss: 20.586387634277344\n",
      "Epoch 21 train loss: 21.845672607421875 valid loss: 20.90053939819336\n",
      "Epoch 22 train loss: 21.86287498474121 valid loss: 21.4415340423584\n",
      "Epoch 23 train loss: 21.845239639282227 valid loss: 20.484764099121094\n",
      "Epoch 24 train loss: 21.81599998474121 valid loss: 21.416200637817383\n",
      "Epoch 25 train loss: 21.813600540161133 valid loss: 20.559249877929688\n",
      "Epoch 26 train loss: 21.829635620117188 valid loss: 20.81355094909668\n",
      "Epoch 27 train loss: 21.800493240356445 valid loss: 20.62523078918457\n",
      "Epoch 28 train loss: 21.79292869567871 valid loss: 20.48101234436035\n",
      "Epoch 29 train loss: 21.792810440063477 valid loss: 22.0944881439209\n",
      "Epoch 30 train loss: 21.78554916381836 valid loss: 20.871456146240234\n",
      "Epoch 31 train loss: 21.775127410888672 valid loss: 20.448713302612305\n",
      "Epoch 32 train loss: 21.787216186523438 valid loss: 20.48263168334961\n",
      "Epoch 33 train loss: 21.776567459106445 valid loss: 20.471227645874023\n",
      "Epoch 34 train loss: 21.748620986938477 valid loss: 20.520395278930664\n",
      "Epoch 35 train loss: 21.75991439819336 valid loss: 20.456235885620117\n",
      "Epoch 36 train loss: 21.75834846496582 valid loss: 21.88889503479004\n",
      "Epoch 37 train loss: 21.738311767578125 valid loss: 20.716537475585938\n",
      "Epoch 38 train loss: 21.731996536254883 valid loss: 20.52570152282715\n",
      "Epoch 39 train loss: 21.715913772583008 valid loss: 20.818117141723633\n",
      "Epoch 40 train loss: 21.727853775024414 valid loss: 20.398021697998047\n",
      "Epoch 41 train loss: 21.729415893554688 valid loss: 20.693504333496094\n",
      "Epoch 42 train loss: 21.72201156616211 valid loss: 20.473209381103516\n",
      "Epoch 43 train loss: 21.718482971191406 valid loss: 20.723278045654297\n",
      "Epoch 44 train loss: 21.7093448638916 valid loss: 21.231672286987305\n",
      "Epoch 45 train loss: 21.711231231689453 valid loss: 21.448200225830078\n",
      "Epoch 46 train loss: 21.699954986572266 valid loss: 20.6813907623291\n",
      "Epoch 47 train loss: 21.697811126708984 valid loss: 20.6258602142334\n",
      "Epoch 48 train loss: 21.69826316833496 valid loss: 22.477386474609375\n",
      "Epoch 49 train loss: 21.70077896118164 valid loss: 20.551008224487305\n"
     ]
    }
   ],
   "source": [
    "model = NeuralNetwork().to(DEVICE)\n",
    "loss_fn = nn.MSELoss()\n",
    "optimizer = torch.optim.SGD(model.parameters(), lr=1e-4)\n",
    "\n",
    "EPOCHS = 50\n",
    "for epoch in range(EPOCHS):\n",
    "    epoch_loss = 0\n",
    "    for batch, (sequence, target) in enumerate(train):\n",
    "        optimizer.zero_grad()\n",
    "\n",
    "        sequence = sequence.to(DEVICE)\n",
    "        pred = model(sequence)\n",
    "\n",
    "        loss = loss_fn(pred, target)\n",
    "        loss.backward()\n",
    "        optimizer.step()\n",
    "\n",
    "        epoch_loss += mse(target, pred)\n",
    "\n",
    "    losses = []\n",
    "    with torch.no_grad():\n",
    "        valid_loss = 0\n",
    "        for batch, (sequence, target) in enumerate(valid):\n",
    "            sequence = sequence.to(DEVICE)\n",
    "            pred = model(sequence)\n",
    "            loss = loss_fn(pred, target)\n",
    "            valid_loss += mse(target, pred)\n",
    "\n",
    "    print(f\"Epoch {epoch} train loss: {epoch_loss / len(train)} valid loss: {valid_loss / len(valid)}\")"
   ],
   "metadata": {
    "collapsed": false
   }
  },
  {
   "cell_type": "code",
   "execution_count": null,
   "outputs": [],
   "source": [],
   "metadata": {
    "collapsed": false
   }
  }
 ],
 "metadata": {
  "kernelspec": {
   "display_name": "Python 3",
   "language": "python",
   "name": "python3"
  },
  "language_info": {
   "codemirror_mode": {
    "name": "ipython",
    "version": 2
   },
   "file_extension": ".py",
   "mimetype": "text/x-python",
   "name": "python",
   "nbconvert_exporter": "python",
   "pygments_lexer": "ipython2",
   "version": "2.7.6"
  }
 },
 "nbformat": 4,
 "nbformat_minor": 0
}
