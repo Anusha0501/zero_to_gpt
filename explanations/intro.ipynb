{
 "cells": [
  {
   "cell_type": "markdown",
   "source": [
    "## Welcome!\n",
    "\n",
    "Welcome to the Zero to GPT course!  Over the next few lessons, you'll go from no deep learning knowledge to being able to train your own GPT model.\n",
    "\n",
    "At a high level, GPT works by predicting what words should come after your prompt.  If you prompt GPT-3 with `Write me a song about deep learning`, it returns something like this:\n",
    "\n",
    "```\n",
    "Verse 1:\n",
    "Deep learning is the way of the future,\n",
    "Data mining through layers of complexity\n",
    "Processing information with intelligence\n",
    "Where will this technology take us?\n",
    "```\n",
    "\n",
    "GPT models are also called deep learning models.  Deep learning is a subfield of machine learning, which is a subfield of AI.  In deep learning, we train a neural network composed of many layers to transform an input into an output.\n",
    "\n",
    "Neural networks can't understand text directly, so GPT has to convert your prompt to numbers, make predictions, then convert the predictions back to text.  The process works like this:\n",
    "\n",
    "1. Split your prompt up into tokens (tokens are similar to words), and convert each token to a vector of numbers\n",
    "2. Feed the vectors into a neural network\n",
    "3. Predict what vectors come after the input tokens\n",
    "4. Convert the vectors back into text\n",
    "\n",
    "Splitting the prompt into tokens, then converting the predictions back into text is called natural language processing (NLP).  NLP is how we can use computers to work with text.\n",
    "\n",
    "The key part of GPT is the third step, where the network predicts which tokens will come after the input tokens.  To do this, the network uses its parameters.  You can think of parameters like memory.  This memory has been trained on a lot of data (gigabytes or terabytes).  Parameters enable neural networks to make accurate predictions about what should come after your prompt.\n",
    "\n",
    "Usually, the more parameters a model has, the more human-like it seems.  The smallest GPT models have around 100M parameters, and the largest have 176B.  The model uses the parameters to transform your input - usually by adding the parameters to your input, or multiplying your input by the parameters.  By doing this repeatedly across several layers, the model generates predictions.\n",
    "\n",
    "By the end of this course, you'll understand how to train deep neural networks that work like GPT.  This course is broadly split up into three parts:\n",
    "\n",
    "1. Understanding deep learning - how to create and train deep neural networks, including gradient descent and backpropagation.\n",
    "2. Deep learning for NLP - deep learning architectures to work with text, including RNNs, encoder/decoders, attention, and transformers.\n",
    "3. Scaling up models - putting together the building blocks to train a model with a large number of parameters.\n",
    "\n",
    "In the rest of this lesson, we'll cover some basics that you'll need to understand to start the course.  Neural networks use matrix operations to apply their parameters to input data.  In Python, the NumPy package enables us to do these operations.  If you already understand NumPy, you can skip to the next lesson.  If not, let's learn some fundamentals."
   ],
   "metadata": {
    "collapsed": false
   }
  },
  {
   "cell_type": "markdown",
   "source": [
    "## NumPy fundamentals\n",
    "\n",
    "NumPy is a Python package that enables us to work with arrays of data more efficiently.  Arrays are similar to lists and lists of lists in Python.\n",
    "\n",
    "To understand why we need NumPy, let's start with one of the most basic machine learning algorithms, linear regression.  In linear regression, we make a prediction using the equation $\\hat{y} = wx + b$.  In deep learning, we call $w$ the weight, and $b$ the bias.\n",
    "\n"
   ],
   "metadata": {
    "collapsed": false
   }
  }
 ],
 "metadata": {
  "kernelspec": {
   "display_name": "Python 3",
   "language": "python",
   "name": "python3"
  },
  "language_info": {
   "codemirror_mode": {
    "name": "ipython",
    "version": 2
   },
   "file_extension": ".py",
   "mimetype": "text/x-python",
   "name": "python",
   "nbconvert_exporter": "python",
   "pygments_lexer": "ipython2",
   "version": "2.7.6"
  }
 },
 "nbformat": 4,
 "nbformat_minor": 0
}
