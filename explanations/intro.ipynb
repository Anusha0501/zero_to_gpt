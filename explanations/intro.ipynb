{
 "cells": [
  {
   "cell_type": "markdown",
   "metadata": {},
   "source": [
    "## Welcome!\n",
    "\n",
    "Welcome to the Zero to GPT course!  This course will take you from no deep learning knowledge to being able to train your own GPT model.\n",
    "\n",
    "At a high level, GPT works by predicting what words should come after your prompt.  Here's an example of some text you can feed into GPT, and a response:\n",
    "\n",
    "![gpt text](images/intro/gpt_text.svg)"
   ]
  },
  {
   "cell_type": "markdown",
   "source": [
    "GPT models are types of deep learning models.  Deep learning is a subfield of machine learning, which is a subfield of AI.  In deep learning, we train a neural network composed of many layers to transform an input into an output.\n",
    "\n",
    "Neural networks can't understand text directly, so GPT has to convert your prompt to numbers, make predictions, then convert the predictions back to text.  The process works like this at a very high level:\n",
    "\n",
    "![gpt steps](images/intro/gpt_steps.svg)"
   ],
   "metadata": {
    "collapsed": false
   }
  },
  {
   "cell_type": "markdown",
   "source": [
    "\n",
    "The key part of GPT is the prediction step, where the network predicts what words will come next.  To do this, the network uses its parameters.  You can think of parameters like memory.  This memory has been trained on a lot of data (gigabytes or terabytes).  Parameters enable neural networks to make accurate predictions about what should come after your prompt.\n",
    "\n",
    "The smallest GPT models have around 100M parameters, and the largest have 176B.  They use parameters to transform your input to predictions - usually by adding the parameters to your input, or multiplying your input by the parameters.\n",
    "\n",
    "By the end of this course, you'll understand how to train deep neural networks that work like GPT.  This course is split up into three parts:\n",
    "\n",
    "1. Understanding deep learning - how to create and train deep neural networks, including gradient descent and backpropagation.\n",
    "2. Deep learning for NLP - deep learning architectures to work with text, including RNNs, encoder/decoders, attention, and transformers.\n",
    "3. Scaling up models - putting together the building blocks to train a model with a large number of parameters.\n",
    "\n",
    "Check out the [README](https://github.com/VikParuchuri/zero_to_gpt/blob/master/README.md) for a full lesson overview."
   ],
   "metadata": {
    "collapsed": false
   }
  },
  {
   "cell_type": "markdown",
   "source": [
    "## Teaching method\n",
    "\n",
    "This course will get you ready to do meaningful work with deep learning.  We'll balance theory and practical application.  Without theory, you won't understand how to apply deep learning in the real world.  But theory shouldn't overwhelm - it should aid you in actually doing the work.\n",
    "\n",
    "In each lesson, you'll learn the theory behind what you're doing, and code complete implementations that solve problems.  For example, in the dense neural networks lesson, you'll learn the theory - backpropagation, why nonlinearities are useful, and how multiple layers work.  Then you'll code a complete neural network using NumPy that predicts the weather.\n",
    "\n",
    "I'll explain concepts in multiple ways - diagrams, text, code, and video.  Deep learning is complicated, and it can take multiple explanations before a concept clicks.\n",
    "\n",
    "### What this course is not\n",
    "\n",
    "- This is not a course where you'll just import PyTorch and type code without understanding what you're doing.  We'll build up your knowledge step by step.\n",
    "- This is not a mathematically rigorous course.  We'll include the math, but we'll focus on building intuition and understanding first.  For a mathematically rigorous resource, I recommend the [deep learning book](https://www.deeplearningbook.org/)."
   ],
   "metadata": {
    "collapsed": false
   }
  },
  {
   "cell_type": "markdown",
   "source": [
    "## Who am I?\n",
    "\n",
    "My name is Vik Paruchuri.  I've won ML competitions, worked as an ML engineer, and started Dataquest, which has taught data skills to 1M+ people.  Before all that, I was a self-taught programmer who dreamed of predicting the stock market.\n",
    "\n",
    "This course is for anyone dreaming of building their own deep learning models."
   ],
   "metadata": {
    "collapsed": false
   }
  },
  {
   "cell_type": "markdown",
   "source": [
    "## Prerequisites\n",
    "\n",
    "This course is designed to be accessible.  You'll need to understand Python to take this course, including for loops, functions, and classes.  The first part of [this Dataquest path](https://www.dataquest.io/path/data-scientist/) will teach you what you need.\n",
    "\n",
    "Experience with [NumPy](https://www.dataquest.io/course/pandas-fundamentals) and linear algebra will also help.  If you don't have any experience, we'll cover some basics in the rest of this lesson.\n",
    "\n",
    "If you already know NumPy, feel free to skip to the [next lesson](https://github.com/VikParuchuri/zero_to_gpt/blob/master/explanations/linreg.ipynb)."
   ],
   "metadata": {
    "collapsed": false
   }
  },
  {
   "cell_type": "markdown",
   "metadata": {},
   "source": [
    "## NumPy fundamentals\n",
    "\n",
    "NumPy is a Python package that enables us to work with arrays of data more efficiently.\n",
    "\n",
    "To understand why we need NumPy, let's start with one of the fundamental machine learning algorithms, linear regression.  In linear regression, we make a prediction using the equation $\\hat{y} = wx + b$.  In deep learning, we call $w$ the weight, and $b$ the bias.\n",
    "\n",
    "Let's say that we want to predict tomorrow's temperature using three data points from today - today's max temperature, today's min temperature, and how much it rained today.\n",
    "\n",
    "Let's read in our dataset using pandas:"
   ]
  },
  {
   "cell_type": "code",
   "execution_count": 21,
   "metadata": {},
   "outputs": [
    {
     "data": {
      "text/plain": "            tmax  tmin  rain  tmax_tomorrow\n1970-01-01  60.0  35.0   0.0           52.0\n1970-01-02  52.0  39.0   0.0           52.0\n1970-01-03  52.0  35.0   0.0           53.0\n1970-01-04  53.0  36.0   0.0           52.0\n1970-01-05  52.0  35.0   0.0           50.0",
      "text/html": "<div>\n<style scoped>\n    .dataframe tbody tr th:only-of-type {\n        vertical-align: middle;\n    }\n\n    .dataframe tbody tr th {\n        vertical-align: top;\n    }\n\n    .dataframe thead th {\n        text-align: right;\n    }\n</style>\n<table border=\"1\" class=\"dataframe\">\n  <thead>\n    <tr style=\"text-align: right;\">\n      <th></th>\n      <th>tmax</th>\n      <th>tmin</th>\n      <th>rain</th>\n      <th>tmax_tomorrow</th>\n    </tr>\n  </thead>\n  <tbody>\n    <tr>\n      <th>1970-01-01</th>\n      <td>60.0</td>\n      <td>35.0</td>\n      <td>0.0</td>\n      <td>52.0</td>\n    </tr>\n    <tr>\n      <th>1970-01-02</th>\n      <td>52.0</td>\n      <td>39.0</td>\n      <td>0.0</td>\n      <td>52.0</td>\n    </tr>\n    <tr>\n      <th>1970-01-03</th>\n      <td>52.0</td>\n      <td>35.0</td>\n      <td>0.0</td>\n      <td>53.0</td>\n    </tr>\n    <tr>\n      <th>1970-01-04</th>\n      <td>53.0</td>\n      <td>36.0</td>\n      <td>0.0</td>\n      <td>52.0</td>\n    </tr>\n    <tr>\n      <th>1970-01-05</th>\n      <td>52.0</td>\n      <td>35.0</td>\n      <td>0.0</td>\n      <td>50.0</td>\n    </tr>\n  </tbody>\n</table>\n</div>"
     },
     "execution_count": 21,
     "metadata": {},
     "output_type": "execute_result"
    }
   ],
   "source": [
    "import pandas as pd\n",
    "\n",
    "# Read in the data\n",
    "data = pd.read_csv(\"../data/clean_weather.csv\", index_col=0)\n",
    "# Fill in any missing values in the data with past values\n",
    "data = data.ffill()\n",
    "\n",
    "# Show the first 5 rows of the data\n",
    "data.head(5)"
   ]
  },
  {
   "cell_type": "markdown",
   "metadata": {},
   "source": [
    "In the table above, tomorrow's temperature is `tmax_tomorrow`, today's max temperature is `tmax`, today's min temperature is `tmin`, and how much it rained today is `rain`.\n",
    "\n",
    "We have data from `1970` to the present.  With linear regression, we can extend our equation to multiple predictors like this:\n",
    "\n",
    "$$\\hat{y} = w_{1}x_{1} + w_{2}x_{2} + w_{3}x_{3} + b$$\n",
    "\n",
    "So to get a prediction for tomorrow's temperature $\\hat{y}$, we can take a value called $w_{1}$, and multiply it by `tmax`, then take $w_{2}$ and multiply it by `tmin`, then take $w_{3}$ and multiply it by `rain`.  We'd then add in $b$.  Here's how that could look:"
   ]
  },
  {
   "cell_type": "code",
   "execution_count": 22,
   "metadata": {},
   "outputs": [
    {
     "data": {
      "text/plain": "62.5"
     },
     "execution_count": 22,
     "metadata": {},
     "output_type": "execute_result"
    }
   ],
   "source": [
    ".7 * 60 + .3 * 35 + .1 * 0 + 10"
   ]
  },
  {
   "cell_type": "markdown",
   "metadata": {},
   "source": [
    "The above could be our prediction for the first row of the data, if our $w$ values are `.7`, `.3`, and `.1`, and our $b$ value is `10`.  We'll discuss how you can calculate the correct $w$ and $b$ values in the next lesson, but for now, let's just use these values.\n",
    "\n",
    "Whenever we want to make a new prediction, we apply the same equation:"
   ]
  },
  {
   "cell_type": "code",
   "execution_count": 23,
   "metadata": {},
   "outputs": [
    {
     "data": {
      "text/plain": "58.099999999999994"
     },
     "execution_count": 23,
     "metadata": {},
     "output_type": "execute_result"
    }
   ],
   "source": [
    "w1 = .7\n",
    "w2 = .3\n",
    "w3 = .1\n",
    "b = 10\n",
    "\n",
    "w1 * 52 + w2 * 39 + w3 * 0 + b"
   ]
  },
  {
   "cell_type": "markdown",
   "metadata": {},
   "source": [
    "## Matrix Multiplication\n",
    "\n",
    "What if instead of 3 predictor variables (`tmax`, `tmin`, and `rain`), we had `10`?  Or `100`?  It would get annoying to keep track of that many individual $w$ values.\n",
    "\n",
    "Luckily, we can use linear algebra to help us out.  Matrix multiplication is a linear algebra operation defined like this:\n",
    "\n",
    "$$\n",
    "\\begin{equation}\n",
    "    A \\times B =\n",
    "    \\begin{bmatrix}\n",
    "      a_{11} & a_{12} \\\\\n",
    "      a_{21} & a_{22}\n",
    "    \\end{bmatrix}\n",
    "    \\times\n",
    "    \\begin{bmatrix}\n",
    "    b_{11} \\\\\n",
    "    b_{21}\n",
    "    \\end{bmatrix}\n",
    "    =\n",
    "    \\begin{bmatrix}\n",
    "      a_{11}b_{11} + a_{12}b_{21} \\\\\n",
    "      a_{21}b_{11} + a_{22}b_{21}\n",
    "    \\end{bmatrix}\n",
    "\\end{equation}\n",
    "$$\n",
    "\n",
    "We can visualize how it works with this gif:\n",
    "\n",
    "![Matrix mult](images/intro/matrix_mult.gif)\n",
    "\n",
    "As you can see, we essentially take each row of matrix A and multiply it by each column of matrix B, then add everything together.  The number of columns in the first matrix has to equal the number of rows in the second matrix.\n",
    "\n",
    "This is very useful to us when we're multiplying weights by input numbers.  We can take our $x$ values, put them into a matrix, then multiply by the weights (also in a matrix):"
   ]
  },
  {
   "cell_type": "code",
   "execution_count": 24,
   "metadata": {},
   "outputs": [
    {
     "data": {
      "text/plain": "array([[60., 35.,  0.],\n       [52., 39.,  0.],\n       [52., 35.,  0.]])"
     },
     "execution_count": 24,
     "metadata": {},
     "output_type": "execute_result"
    }
   ],
   "source": [
    "# Convert the first 3 rows of data into a numpy matrix from a pandas dataframe\n",
    "# the first column of the matrix is tmax, second is tmin, third is rain\n",
    "\n",
    "x = data[[\"tmax\", \"tmin\", \"rain\"]].iloc[:3].to_numpy()\n",
    "x"
   ]
  },
  {
   "cell_type": "code",
   "execution_count": 25,
   "outputs": [
    {
     "data": {
      "text/plain": "array([0.7, 0.3, 0.1])"
     },
     "execution_count": 25,
     "metadata": {},
     "output_type": "execute_result"
    }
   ],
   "source": [
    "import numpy as np\n",
    "\n",
    "# Create a matrix with our weights\n",
    "\n",
    "w = np.array([.7, .3, .1])\n",
    "\n",
    "w"
   ],
   "metadata": {
    "collapsed": false
   }
  },
  {
   "cell_type": "markdown",
   "source": [
    "We can verify the shapes of our matrices to make sure they can be multiplied:"
   ],
   "metadata": {
    "collapsed": false
   }
  },
  {
   "cell_type": "code",
   "execution_count": 26,
   "outputs": [
    {
     "data": {
      "text/plain": "(3, 3)"
     },
     "execution_count": 26,
     "metadata": {},
     "output_type": "execute_result"
    }
   ],
   "source": [
    "# Print the shape (number of rows and columns) in x\n",
    "x.shape"
   ],
   "metadata": {
    "collapsed": false
   }
  },
  {
   "cell_type": "code",
   "execution_count": 27,
   "outputs": [
    {
     "data": {
      "text/plain": "(3,)"
     },
     "execution_count": 27,
     "metadata": {},
     "output_type": "execute_result"
    }
   ],
   "source": [
    "# Print the shape of w\n",
    "w.shape"
   ],
   "metadata": {
    "collapsed": false
   }
  },
  {
   "cell_type": "markdown",
   "source": [
    "As we can see, `x` is a matrix with `3` rows and `3` columns.  `w` is actually a vector with `3` columns.  A vector is known as a one-dimensional array, because it only has length in a single dimension.\n",
    "\n",
    "You can also get arrays with more than 2 dimensions, which we'll work with in later lessons.  Each dimension of the array will have a length corresponding to the size in that dimension.\n",
    "\n",
    "`x` has length `3` in dimension `0` (rows) and dimension `1` columns.  `w` has length `3` in dimension `0`.\n",
    "\n",
    "We'll need to convert `w` from a vector into a matrix to multiply our two matrices.  To do that, we can use the numpy `reshape` method.  We pass in our desired lengths in each dimension:"
   ],
   "metadata": {
    "collapsed": false
   }
  },
  {
   "cell_type": "code",
   "execution_count": 28,
   "outputs": [
    {
     "data": {
      "text/plain": "array([[0.7],\n       [0.3],\n       [0.1]])"
     },
     "execution_count": 28,
     "metadata": {},
     "output_type": "execute_result"
    }
   ],
   "source": [
    "# Reshape w into a 3 by 1 matrix\n",
    "# The new dimensions must match the number of elements in w\n",
    "w = w.reshape(3,1)\n",
    "w"
   ],
   "metadata": {
    "collapsed": false
   }
  },
  {
   "cell_type": "code",
   "execution_count": 29,
   "outputs": [
    {
     "data": {
      "text/plain": "(3, 1)"
     },
     "execution_count": 29,
     "metadata": {},
     "output_type": "execute_result"
    }
   ],
   "source": [
    "w.shape"
   ],
   "metadata": {
    "collapsed": false
   }
  },
  {
   "cell_type": "markdown",
   "source": [
    "We now have a `3x3` matrix, and a `3x1` matrix.  Since the number of columns in `x` matches the number of rows in `w`, we can multiply them:"
   ],
   "metadata": {
    "collapsed": false
   }
  },
  {
   "cell_type": "code",
   "execution_count": 30,
   "outputs": [
    {
     "data": {
      "text/plain": "array([[52.5],\n       [48.1],\n       [46.9]])"
     },
     "execution_count": 30,
     "metadata": {},
     "output_type": "execute_result"
    }
   ],
   "source": [
    "x @ w"
   ],
   "metadata": {
    "collapsed": false
   }
  },
  {
   "cell_type": "markdown",
   "source": [
    "We can now add in our $b$ value, `10`.  $b$ is just a single number.  When we add it to `x @ w`, it will be broadcasted across the matrix (added to each element):"
   ],
   "metadata": {
    "collapsed": false
   }
  },
  {
   "cell_type": "code",
   "execution_count": 31,
   "outputs": [
    {
     "data": {
      "text/plain": "array([[62.5],\n       [58.1],\n       [56.9]])"
     },
     "execution_count": 31,
     "metadata": {},
     "output_type": "execute_result"
    }
   ],
   "source": [
    "b = np.array([10])\n",
    "x @ w + b"
   ],
   "metadata": {
    "collapsed": false
   }
  },
  {
   "cell_type": "markdown",
   "source": [
    "This gives us the same results as when we manually multiplied our `w` and `x` values:"
   ],
   "metadata": {
    "collapsed": false
   }
  },
  {
   "cell_type": "code",
   "execution_count": 32,
   "outputs": [
    {
     "data": {
      "text/plain": "62.5"
     },
     "execution_count": 32,
     "metadata": {},
     "output_type": "execute_result"
    }
   ],
   "source": [
    "w1 = .7\n",
    "w2 = .3\n",
    "w3 = .1\n",
    "b = 10\n",
    "\n",
    "w1 * 60 + w2 * 35 + w3 * 0 + b"
   ],
   "metadata": {
    "collapsed": false
   }
  },
  {
   "cell_type": "markdown",
   "source": [
    "This is the power of matrix multiplication - it enables us to store all of our parameters ($w$ and $b$ values) into arrays and then use them to modify our inputs.  This is a lot faster than keeping track of each individual variable!"
   ],
   "metadata": {
    "collapsed": false
   }
  },
  {
   "cell_type": "markdown",
   "source": [
    "## Matrix Transposition\n",
    "\n",
    "Sometimes we'll need to swap dimensions in a matrix.  This is called matrix transposition.  For example, another way to multiply each row in `x` by each weight is to multiply the transposed weights by the transposed x values:"
   ],
   "metadata": {
    "collapsed": false
   }
  },
  {
   "cell_type": "code",
   "execution_count": 33,
   "outputs": [
    {
     "data": {
      "text/plain": "array([[62.5, 58.1, 56.9]])"
     },
     "execution_count": 33,
     "metadata": {},
     "output_type": "execute_result"
    }
   ],
   "source": [
    "# Use .T to get the transpose of a matrix\n",
    "w.T @ x.T + b"
   ],
   "metadata": {
    "collapsed": false
   }
  },
  {
   "cell_type": "markdown",
   "source": [
    "Transposition takes the `3x1` weight matrix, and turns it into a `1x3` matrix.  It then transposes the `3x3` x matrix.  The dimensions of x will stay the same, but transposition will switch the rows and columns:"
   ],
   "metadata": {
    "collapsed": false
   }
  },
  {
   "cell_type": "code",
   "execution_count": 34,
   "outputs": [
    {
     "data": {
      "text/plain": "array([[0.7, 0.3, 0.1]])"
     },
     "execution_count": 34,
     "metadata": {},
     "output_type": "execute_result"
    }
   ],
   "source": [
    "w.T"
   ],
   "metadata": {
    "collapsed": false
   }
  },
  {
   "cell_type": "code",
   "execution_count": 35,
   "outputs": [
    {
     "data": {
      "text/plain": "array([[60., 52., 52.],\n       [35., 39., 35.],\n       [ 0.,  0.,  0.]])"
     },
     "execution_count": 35,
     "metadata": {},
     "output_type": "execute_result"
    }
   ],
   "source": [
    "x.T"
   ],
   "metadata": {
    "collapsed": false
   }
  },
  {
   "cell_type": "markdown",
   "source": [
    "`w.T @ x.T` will multiply each column in the weight matrix by each row in the x matrix.  This is the exact same thing that will happen when we do `x @ w`.  It's just that `w.T @ x.T` returns a `1x3` matrix, and `x @ w` returns a `3x1` matrix.  So we need to do another transposition to correct this:"
   ],
   "metadata": {
    "collapsed": false
   }
  },
  {
   "cell_type": "code",
   "execution_count": 36,
   "outputs": [
    {
     "data": {
      "text/plain": "True"
     },
     "execution_count": 36,
     "metadata": {},
     "output_type": "execute_result"
    }
   ],
   "source": [
    "# The numpy allclose function tells us if two matrices are approximately equal\n",
    "np.allclose((w.T @ x.T).T, x @ w)"
   ],
   "metadata": {
    "collapsed": false
   }
  },
  {
   "cell_type": "markdown",
   "source": [
    "Above, we use `np.allclose` to ensure that both multiplications return the same result.  When comparing the results of matrix multiplication we usually use `np.allclose` instead of `==` because the way computers represent floating point numbers can cause the same number to appear slightly differently.  You can see an explanation for this [here](https://floating-point-gui.de/)."
   ],
   "metadata": {
    "collapsed": false
   }
  },
  {
   "cell_type": "markdown",
   "source": [
    "## Broadcasting\n",
    "\n",
    "Earlier, we used broadcasting to add the bias `b` to the result of `x @ w`.  Broadcasting enables arrays with compatible shapes to be added or multiplied.\n",
    "\n",
    "If shapes are compatible, it means that:\n",
    "* The smaller array has all of its dimensions exactly matching the length dimensions of the larger array\n",
    "* Or the smaller array is length 1 in the non-matching dimensions.\n",
    "\n",
    "Here are some examples:"
   ],
   "metadata": {
    "collapsed": false
   }
  },
  {
   "cell_type": "code",
   "execution_count": 37,
   "outputs": [
    {
     "data": {
      "text/plain": "array([[2.],\n       [2.],\n       [2.],\n       [2.],\n       [2.]])"
     },
     "execution_count": 37,
     "metadata": {},
     "output_type": "execute_result"
    }
   ],
   "source": [
    "# np.ones enables us to create an array filled with ones of a certain shape\n",
    "\n",
    "A = np.ones((5,1))\n",
    "\n",
    "# This works\n",
    "A + np.ones((1,1))"
   ],
   "metadata": {
    "collapsed": false
   }
  },
  {
   "cell_type": "code",
   "execution_count": 38,
   "outputs": [
    {
     "data": {
      "text/plain": "array([[2.],\n       [2.],\n       [2.],\n       [2.],\n       [2.]])"
     },
     "execution_count": 38,
     "metadata": {},
     "output_type": "execute_result"
    }
   ],
   "source": [
    "# This works\n",
    "A + np.ones((1))"
   ],
   "metadata": {
    "collapsed": false
   }
  },
  {
   "cell_type": "code",
   "execution_count": 39,
   "outputs": [
    {
     "ename": "ValueError",
     "evalue": "operands could not be broadcast together with shapes (5,1) (2,1) ",
     "output_type": "error",
     "traceback": [
      "\u001B[0;31m---------------------------------------------------------------------------\u001B[0m",
      "\u001B[0;31mValueError\u001B[0m                                Traceback (most recent call last)",
      "Cell \u001B[0;32mIn[39], line 2\u001B[0m\n\u001B[1;32m      1\u001B[0m \u001B[38;5;66;03m# This does not work\u001B[39;00m\n\u001B[0;32m----> 2\u001B[0m \u001B[43mA\u001B[49m\u001B[43m \u001B[49m\u001B[38;5;241;43m+\u001B[39;49m\u001B[43m \u001B[49m\u001B[43mnp\u001B[49m\u001B[38;5;241;43m.\u001B[39;49m\u001B[43mones\u001B[49m\u001B[43m(\u001B[49m\u001B[43m(\u001B[49m\u001B[38;5;241;43m2\u001B[39;49m\u001B[43m,\u001B[49m\u001B[38;5;241;43m1\u001B[39;49m\u001B[43m)\u001B[49m\u001B[43m)\u001B[49m\n",
      "\u001B[0;31mValueError\u001B[0m: operands could not be broadcast together with shapes (5,1) (2,1) "
     ]
    }
   ],
   "source": [
    "# This does not work\n",
    "A + np.ones((2,1))"
   ],
   "metadata": {
    "collapsed": false
   }
  },
  {
   "cell_type": "markdown",
   "source": [
    "We can also use broadcasting to multiply individual elements:"
   ],
   "metadata": {
    "collapsed": false
   }
  },
  {
   "cell_type": "code",
   "execution_count": null,
   "outputs": [],
   "source": [
    "# np.full initializes an array filled with a given value\n",
    "# Using the * means that each element in array b is multiplied by the elements in array b\n",
    "A * np.full((1,1), 2)"
   ],
   "metadata": {
    "collapsed": false
   }
  },
  {
   "cell_type": "code",
   "execution_count": null,
   "outputs": [],
   "source": [
    "# np.random.rand generates random numbers between 0 and 1 of a given shape\n",
    "A * np.random.rand(5,1)"
   ],
   "metadata": {
    "collapsed": false
   }
  },
  {
   "cell_type": "markdown",
   "source": [
    "## Scalar Math\n",
    "\n",
    "Arrays can also be modified by scalars (single numbers):"
   ],
   "metadata": {
    "collapsed": false
   }
  },
  {
   "cell_type": "code",
   "execution_count": null,
   "outputs": [],
   "source": [
    "# np.zeros creates an array filled with zeros\n",
    "# We then add 5 to each value in the array\n",
    "np.zeros((5,1)) + 5"
   ],
   "metadata": {
    "collapsed": false
   }
  },
  {
   "cell_type": "markdown",
   "source": [
    "## Array Indexing"
   ],
   "metadata": {
    "collapsed": false
   }
  },
  {
   "cell_type": "markdown",
   "source": [
    "In NumPy, we can refer to individual elements in arrays using their index.  Indexing starts at 0, just like with Python lists:"
   ],
   "metadata": {
    "collapsed": false
   }
  },
  {
   "cell_type": "code",
   "execution_count": null,
   "outputs": [],
   "source": [
    "# Create a 3-dimensional array\n",
    "B = np.random.rand(2,2,2)\n",
    "\n",
    "# Select a single element\n",
    "B[0,1,1]"
   ],
   "metadata": {
    "collapsed": false
   }
  },
  {
   "cell_type": "code",
   "execution_count": null,
   "outputs": [],
   "source": [
    "# Select a slice from dimension 2 (the last dimension)\n",
    "\n",
    "B[0,1,:]"
   ],
   "metadata": {
    "collapsed": false
   }
  },
  {
   "cell_type": "code",
   "execution_count": null,
   "outputs": [],
   "source": [
    "# Select a 2-d slice from the last 2 dimensions\n",
    "B[0]"
   ],
   "metadata": {
    "collapsed": false
   }
  },
  {
   "cell_type": "code",
   "execution_count": null,
   "outputs": [],
   "source": [
    "# Select up to 1 element from the last element\n",
    "B[:,:,:1]"
   ],
   "metadata": {
    "collapsed": false
   }
  },
  {
   "cell_type": "markdown",
   "source": [
    "We can also assign to elements using indexing:"
   ],
   "metadata": {
    "collapsed": false
   }
  },
  {
   "cell_type": "code",
   "execution_count": null,
   "outputs": [],
   "source": [
    "B[0,0,:] = 5\n",
    "B"
   ],
   "metadata": {
    "collapsed": false
   }
  },
  {
   "cell_type": "markdown",
   "source": [
    "## Derivatives\n",
    "\n",
    "The last piece of math you'll need to understand for deep learning is derivatives.  Derivatives tell us the rate of change of a function.  For example, the derivative of $f(x) = x^2$ is $f'(x) = 2x$.  This means that the rate of change of $x^2$ is $2x$.\n",
    "\n",
    "Let's look at how this works, by first plotting $f(x) = x^2$:"
   ],
   "metadata": {
    "collapsed": false
   }
  },
  {
   "cell_type": "code",
   "execution_count": 41,
   "outputs": [
    {
     "data": {
      "text/plain": "[<matplotlib.lines.Line2D at 0x12319fa00>]"
     },
     "execution_count": 41,
     "metadata": {},
     "output_type": "execute_result"
    },
    {
     "data": {
      "text/plain": "<Figure size 640x480 with 1 Axes>",
      "image/png": "[encoded data removed]"
     },
     "metadata": {},
     "output_type": "display_data"
    }
   ],
   "source": [
    "import matplotlib.pyplot as plt\n",
    "\n",
    "# Create a list of numbers from -10 to 10, stepping by .1\n",
    "xs = np.arange(-10, 10, .1)\n",
    "# Square all of our x values\n",
    "ys = xs ** 2\n",
    "\n",
    "# Plot the result\n",
    "plt.plot(xs, ys)"
   ],
   "metadata": {
    "collapsed": false
   }
  },
  {
   "cell_type": "markdown",
   "source": [
    "The function graph has a curved shape.  This is because the difference between y values is increasing as x gets further from `0`.   For example, if x is positive, $(x+2) ^ 2 - (x+1) ^ 2$ is greater than $(x+1) ^ 2 - x ^ 2$.\n",
    "\n",
    "As you can see below, the derivative is the slope between 2 points on the function curve.\n",
    "\n",
    "![slope](images/intro/slope.png)\n",
    "\n",
    "We can calculate the slope by the equation $\\frac{y_2 - y_1}{x_2 - x_1}$, where $x_2$ and $x_1$ are the x values of 2 points, and $y_2$ and $y_1$ are the y values of the same points."
   ],
   "metadata": {
    "collapsed": false
   }
  },
  {
   "cell_type": "code",
   "execution_count": 46,
   "outputs": [
    {
     "data": {
      "text/plain": "10.0"
     },
     "execution_count": 46,
     "metadata": {},
     "output_type": "execute_result"
    }
   ],
   "source": [
    "# Find 2 x points close to 5\n",
    "x1 = 5 - 1e-8\n",
    "x2 = 5 + 1e-8\n",
    "\n",
    "# Calculate the corresponding y values\n",
    "y1 = x1 ** 2\n",
    "y2 = x2 ** 2\n",
    "\n",
    "# Calculate the slope (or derivative)\n",
    "# This will equal 2 times the midpoint of the x values (5)\n",
    "(y2 - y1) / (x2 - x1)"
   ],
   "metadata": {
    "collapsed": false
   }
  },
  {
   "cell_type": "markdown",
   "source": [
    "Derivatives are at a single point, so we would say that $f'(5) = 10$.  This means that the rate of change of $x^2$ at $x=5$ is $10$.\n",
    "\n",
    "We can now plot the derivative, $f'(x) = 2x$:"
   ],
   "metadata": {
    "collapsed": false
   }
  },
  {
   "cell_type": "code",
   "execution_count": 42,
   "outputs": [
    {
     "data": {
      "text/plain": "[<matplotlib.lines.Line2D at 0x12323e7a0>]"
     },
     "execution_count": 42,
     "metadata": {},
     "output_type": "execute_result"
    },
    {
     "data": {
      "text/plain": "<Figure size 640x480 with 1 Axes>",
      "image/png": "[encoded data removed]"
     },
     "metadata": {},
     "output_type": "display_data"
    }
   ],
   "source": [
    "ys = xs * 2\n",
    "\n",
    "# Plot the derivative\n",
    "plt.plot(xs, ys)"
   ],
   "metadata": {
    "collapsed": false
   }
  },
  {
   "cell_type": "markdown",
   "source": [
    "Derivatives are important for training neural networks.  They allow us to determine whether to increase or decrease our parameters.  We'll learn more about this in the next lesson.\n",
    "\n",
    "You usually don't need to know how to calculate the derivative yourself.  You'll usually be given the derivative of the function beforehand.  In a later lesson, we'll discuss how to calculate the derivative if you need to."
   ],
   "metadata": {
    "collapsed": false
   }
  },
  {
   "cell_type": "markdown",
   "source": [
    "## Wrap-up\n",
    "\n",
    "In the next lesson, we'll build on what we learned here to automatically calculate the correct $w$ and $b$ values for linear regression.  This is a key building block of neural networks called gradient descent.  I hope to see you there!"
   ],
   "metadata": {
    "collapsed": false
   }
  }
 ],
 "metadata": {
  "kernelspec": {
   "display_name": "Python 3 (ipykernel)",
   "language": "python",
   "name": "python3"
  },
  "language_info": {
   "codemirror_mode": {
    "name": "ipython",
    "version": 3
   },
   "file_extension": ".py",
   "mimetype": "text/x-python",
   "name": "python",
   "nbconvert_exporter": "python",
   "pygments_lexer": "ipython3",
   "version": "3.10.8"
  }
 },
 "nbformat": 4,
 "nbformat_minor": 1
}
