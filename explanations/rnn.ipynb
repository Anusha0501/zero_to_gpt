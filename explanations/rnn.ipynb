{
 "cells": [
  {
   "cell_type": "markdown",
   "source": [
    "# RNNs\n",
    "\n",
    "In the [last lesson](https://github.com/VikParuchuri/zero_to_gpt/blob/master/explanations/classification.ipynb), we learned how to use a neural network to transform an input into a classification.\n",
    "\n",
    "In this lesson, we'll learn how to use neural networks to take in sequences of input and make predictions.  A sequence of input can be a sentence of words, or a series of weather observations.\n",
    "\n",
    "Here is a sequence of temperatures:"
   ],
   "metadata": {
    "collapsed": false
   }
  },
  {
   "cell_type": "code",
   "execution_count": 6,
   "outputs": [
    {
     "data": {
      "text/plain": "1970-01-01    60.0\n1970-01-02    52.0\n1970-01-03    52.0\n1970-01-04    53.0\n1970-01-05    52.0\n1970-01-06    50.0\n1970-01-07    52.0\n1970-01-08    56.0\n1970-01-09    54.0\n1970-01-10    57.0\nName: tmax, dtype: float64"
     },
     "execution_count": 6,
     "metadata": {},
     "output_type": "execute_result"
    }
   ],
   "source": [
    "import pandas as pd\n",
    "import numpy as np\n",
    "\n",
    "# Read in our data, and fill missing values\n",
    "data = pd.read_csv(\"../data/clean_weather.csv\", index_col=0)\n",
    "data = data.ffill()\n",
    "\n",
    "# Display a sequence of temperatures\n",
    "data[\"tmax\"].head(10)"
   ],
   "metadata": {
    "collapsed": false
   }
  },
  {
   "cell_type": "markdown",
   "source": [
    "With a normal neural network, you have to treat each element in a sequence as a separate neural network input, like this:"
   ],
   "metadata": {
    "collapsed": false
   }
  },
  {
   "cell_type": "code",
   "execution_count": 8,
   "outputs": [
    {
     "data": {
      "text/plain": "array([[60., 52., 52., 53., 52., 50., 52., 56., 54., 57.]])"
     },
     "execution_count": 8,
     "metadata": {},
     "output_type": "execute_result"
    }
   ],
   "source": [
    "# Turn our sequence into a single row of data\n",
    "data[\"tmax\"].head(10).to_numpy()[np.newaxis,:]"
   ],
   "metadata": {
    "collapsed": false
   }
  },
  {
   "cell_type": "markdown",
   "source": [
    "We could feed the above sequence as a single training example into a neural network.  But what if we don't know the length of the sequence beforehand?  For example, what if we wanted the neural network to predict the next word that came after a prompt?\n",
    "\n",
    "We could have prompts with different lengths, like:\n",
    "\n",
    "- `Write me a song`\n",
    "- `Tell me a story about dinosaurs`\n",
    "- `Add 1 and 2`\n",
    "\n",
    "We want our network to be able to handle all of these inputs, even though they have different lengths.  One way to do this is to add extra zeros to the end of the sequence.\n",
    "\n",
    "But this still introduces the issue that the neural network will have to learn parameters for each position separately.  For example, if we're passing in two weather observations of different lengths:"
   ],
   "metadata": {
    "collapsed": false
   }
  },
  {
   "cell_type": "code",
   "execution_count": 9,
   "outputs": [
    {
     "data": {
      "text/plain": "array([[60., 52., 52., 53., 52., 50.]])"
     },
     "execution_count": 9,
     "metadata": {},
     "output_type": "execute_result"
    }
   ],
   "source": [
    "data[\"tmax\"].head(6).to_numpy()[np.newaxis,:]"
   ],
   "metadata": {
    "collapsed": false
   }
  },
  {
   "cell_type": "code",
   "execution_count": 10,
   "outputs": [
    {
     "data": {
      "text/plain": "array([[64., 63., 62., 61., 60., 62., 67., 66., 70., 62.]])"
     },
     "execution_count": 10,
     "metadata": {},
     "output_type": "execute_result"
    }
   ],
   "source": [
    "data[\"tmax\"].tail(10).to_numpy()[np.newaxis,:]"
   ],
   "metadata": {
    "collapsed": false
   }
  },
  {
   "cell_type": "markdown",
   "source": [
    "We will need as many parameters in the network as the largest length of sequence we want to pass in.  This means that the network will be inefficient to train.\n",
    "\n",
    "RNNs are neural networks that process entire sequences of input at once.  In this lesson, we'll learn how to build one in Python."
   ],
   "metadata": {
    "collapsed": false
   }
  },
  {
   "cell_type": "markdown",
   "source": [
    "Parameter sharing\n",
    "\n",
    "Rnns share parameters across sequence position.  Input weight, hidden weight, output weight"
   ],
   "metadata": {
    "collapsed": false
   }
  },
  {
   "cell_type": "markdown",
   "source": [
    "## RNN Architecture\n",
    "\n",
    "RNNs work by sharing parameters (weights and biases) across steps in a sequence.  At a very high level, a recurrent neural network looks like this:\n",
    "\n",
    "![Rolled RNN](images/rnn/rnn_rolled.svg)\n",
    "\n",
    "What we see above is called a compact representation of an RNN.  We pass input into the bottom of an RNN.  It is then passed through the input step (I) and the hidden step (H) before getting to the output step (O) where you get a prediction for the next element in the sequence.\n",
    "\n",
    "The arrow connecting H to itself is called recurrence.  It means that the H layers are connected to each other across sequence steps.  To see how this works, let's take a look at an expanded representation of an RNN:\n",
    "\n",
    "![Unrolled RNN](images/rnn/rnn_unrolled.svg)\n",
    "\n",
    "Each sequence element is labeled at the bottom with the index of the element.  The first element in the sequence is `t0`, the second is `t1`, and so on.  You can see that each element is passed into the input step, then to the hidden step.  But the output of the hidden step is passed both to the output, and to the next hidden step.\n",
    "\n",
    "This means that at each step, an RNN knows about the inputs at previous steps."
   ],
   "metadata": {
    "collapsed": false
   }
  },
  {
   "cell_type": "markdown",
   "source": [
    "## RNN Operations\n",
    "\n",
    "It can help to look at the exact operations that happen at each step in an RNN:\n",
    "\n",
    "![Unrolled RNN](images/rnn/rnn_operations.svg)\n",
    "\n",
    "An RNN has 3 steps:\n",
    "\n",
    "- Input - take in a sequence item, and multiply it by the input weight\n",
    "- Hidden - Take the previous hidden state, and multiply it by the hidden weight.  Add in the input, then apply a nonlinear activation function.\n",
    "- Output weight - Take the hidden state, and multiply by the output weight.\n",
    "\n",
    "We also add in bias terms at the hidden and output steps, but the biases are left off the diagram to make it easier to read.\n",
    "\n",
    "The trickiest part of an RNN is the hidden step.  It's this step that gives an RNN its power.  It enables the RNN to have knowledge of past elements in the sequence without having separate parameters for each sequence item.  This is called parameter sharing - the RNN shares the same set of weights for every sequence element.\n",
    "\n",
    "Let's go through an example to see how this works.  We'll initialize each weight matrix, then do a sample forward pass with 3 sequence elements:"
   ],
   "metadata": {
    "collapsed": false
   }
  },
  {
   "cell_type": "code",
   "execution_count": 12,
   "outputs": [
    {
     "data": {
      "text/plain": "array([66., 70., 62.])"
     },
     "execution_count": 12,
     "metadata": {},
     "output_type": "execute_result"
    }
   ],
   "source": [
    "# Set a random seed so the random numbers are the same every time\n",
    "np.random.seed(0)\n",
    "# Take the input number and turn it into 2 features\n",
    "i_weight = np.random.rand(1,2)\n",
    "# Hidden to hidden weight connection - 2 features to 2 features\n",
    "h_weight = np.random.rand(2,2)\n",
    "# Output weight connection - turn 2 features into one prediction\n",
    "o_weight = np.random.rand(2,1)\n",
    "\n",
    "# Get 3 temperature values from our data\n",
    "temps = data[\"tmax\"].tail(3).to_numpy()\n",
    "temps"
   ],
   "metadata": {
    "collapsed": false
   }
  },
  {
   "cell_type": "code",
   "execution_count": 16,
   "outputs": [],
   "source": [
    "# Assign the sequence input at each time step to a different variable.\n",
    "# x0 means input at time step 0\n",
    "# Ensure that each element is a 1x1 matrix, so we can multiply it\n",
    "x0 = temps[0].reshape(1,1)\n",
    "x1 = temps[1].reshape(1,1)\n",
    "x2 = temps[2].reshape(1,1)"
   ],
   "metadata": {
    "collapsed": false
   }
  },
  {
   "cell_type": "markdown",
   "source": [
    "Now we can feed the element at time step 0 into our network:"
   ],
   "metadata": {
    "collapsed": false
   }
  },
  {
   "cell_type": "code",
   "execution_count": 18,
   "outputs": [
    {
     "data": {
      "text/plain": "array([[57.94406231]])"
     },
     "execution_count": 18,
     "metadata": {},
     "output_type": "execute_result"
    }
   ],
   "source": [
    "# Calculate xi at time step 0\n",
    "xi_0 = x0 @ i_weight\n",
    "\n",
    "# There is no previous time step, so there is no hidden state\n",
    "# apply relu over the input to get the hidden state for time step 0 xh_0\n",
    "xh_0 = np.maximum(0, xi_0)\n",
    "\n",
    "# Get the output at time step 0 xo_0\n",
    "xo_0 = xh_0 @ o_weight\n",
    "\n",
    "xo_0"
   ],
   "metadata": {
    "collapsed": false
   }
  },
  {
   "cell_type": "markdown",
   "source": [
    "`xo_0` is our prediction for the next step in the sequence.\n",
    "\n",
    "We can then move the network forward to time step `1`:"
   ],
   "metadata": {
    "collapsed": false
   }
  },
  {
   "cell_type": "code",
   "execution_count": 19,
   "outputs": [
    {
     "data": {
      "text/plain": "array([[124.54916092]])"
     },
     "execution_count": 19,
     "metadata": {},
     "output_type": "execute_result"
    }
   ],
   "source": [
    "# We feed the input in the same way as the previous time step\n",
    "xi_1 = x1 @ i_weight\n",
    "\n",
    "# This time, we do have a previous time step, so we calculate xh\n",
    "# This is multiplying the previous hidden state xh_0 by the hidden weights\n",
    "xh = xh_0 @ h_weight\n",
    "\n",
    "# We add the previous hidden state (times h_weight) to the input at time step 1\n",
    "xh_1 = np.maximum(0, xh + xi_1)\n",
    "\n",
    "# We again find the output by multiplying xh_1 by the output weight\n",
    "xo_1 = xh_1 @ o_weight\n",
    "\n",
    "xo_1"
   ],
   "metadata": {
    "collapsed": false
   }
  },
  {
   "cell_type": "markdown",
   "source": [
    "`xo_1` is our prediction for the next sequence element.  Now we can do the same for our final time step, 2:"
   ],
   "metadata": {
    "collapsed": false
   }
  },
  {
   "cell_type": "code",
   "execution_count": 20,
   "outputs": [
    {
     "data": {
      "text/plain": "array([[190.94853131]])"
     },
     "execution_count": 20,
     "metadata": {},
     "output_type": "execute_result"
    }
   ],
   "source": [
    "# We feed the input in the same way as the previous time step\n",
    "xi_2 = x2 @ i_weight\n",
    "\n",
    "# This time, we do have a previous time step, so we calculate xh\n",
    "# This is multiplying the previous hidden state xh_1 by the hidden weights\n",
    "xh = xh_1 @ h_weight\n",
    "\n",
    "# We add the previous hidden state (times h_weight) to the input at time step 2\n",
    "xh_2 = np.maximum(0, xh + xi_2)\n",
    "\n",
    "# We again find the output by multiplying xh_1 by the output weight\n",
    "xo_2 = xh_2 @ o_weight\n",
    "\n",
    "xo_2"
   ],
   "metadata": {
    "collapsed": false
   }
  },
  {
   "cell_type": "markdown",
   "source": [
    "We've now passed through 3 forward steps of our RNN!  The hidden state of the RNN allows the network to understand the state of the whole sequence at once."
   ],
   "metadata": {
    "collapsed": false
   }
  },
  {
   "cell_type": "markdown",
   "source": [
    "## Nonlinearity\n",
    "\n",
    "You may have noticed that the values increased a lot in each time step of our RNN.  That's because the hidden states kept getting larger and larger.  Unlike the sigmoid or softmax activation functions, relu doesn't change the scale of the inputs at all (it just sets some to 0).  This means that some values get repeatedly multiplied and grow larger and larger.\n",
    "\n",
    "To fix this, we usually use the $\\tanh$ activation function for RNNs.  The equation for $tanh$ is:\n",
    "\n",
    "$$\\tanh = \\dfrac{e^{x}-e^{-x}}{e^{x}+e^{-x}}$$\n",
    "\n",
    "The graph of the $tanh$ function looks like this:"
   ],
   "metadata": {
    "collapsed": false
   }
  },
  {
   "cell_type": "code",
   "execution_count": 22,
   "outputs": [
    {
     "data": {
      "text/plain": "[<matplotlib.lines.Line2D at 0x13c602740>]"
     },
     "execution_count": 22,
     "metadata": {},
     "output_type": "execute_result"
    },
    {
     "data": {
      "text/plain": "<Figure size 640x480 with 1 Axes>",
      "image/png": "[encoded data removed]"
     },
     "metadata": {},
     "output_type": "display_data"
    }
   ],
   "source": [
    "import matplotlib.pyplot as plt\n",
    "temps = np.arange(-50, 50)\n",
    "\n",
    "plt.plot(temps, np.tanh(temps))"
   ],
   "metadata": {
    "collapsed": false
   }
  },
  {
   "cell_type": "markdown",
   "source": [
    "It pushes values to be between `-1` and `1`.  It also has a very steep slope - it reaches `1` and `-1` very quickly.  The tanh activation function is better for our purposes than sigmoid because it enables us to have negative values.  This is important because it enables the gradient to be steeper as well.\n",
    "\n",
    "Let's take a look at the derivative of tanh:"
   ],
   "metadata": {
    "collapsed": false
   }
  },
  {
   "cell_type": "code",
   "execution_count": 29,
   "outputs": [
    {
     "data": {
      "text/plain": "(-exp(x) + exp(-x))*(exp(x) - exp(-x))/(exp(x) + exp(-x))**2 + 1",
      "text/latex": "$\\displaystyle \\frac{\\left(- e^{x} + e^{- x}\\right) \\left(e^{x} - e^{- x}\\right)}{\\left(e^{x} + e^{- x}\\right)^{2}} + 1$"
     },
     "execution_count": 29,
     "metadata": {},
     "output_type": "execute_result"
    }
   ],
   "source": [
    "from sympy import diff, symbols, exp, expand\n",
    "\n",
    "x = symbols(\"x\")\n",
    "sympy_tanh = (exp(x) - exp(-x)) / (exp(x) + exp(-x))\n",
    "diff(sympy_tanh, x)"
   ],
   "metadata": {
    "collapsed": false
   }
  },
  {
   "cell_type": "markdown",
   "source": [
    "Forward pass\n",
    "\n",
    "Forward pass works similarly to dense networks\n",
    "\n",
    "But, we have a for loop to process the sequence, and we send the output of h in 2 directions\n",
    "\n",
    "## H direction diagram\n",
    "\n",
    "Show example of doing a forward pass with 3 sequence elements"
   ],
   "metadata": {
    "collapsed": false
   }
  },
  {
   "cell_type": "markdown",
   "source": [
    "In the backward pass, we have to pay attention to the gradient\n",
    "\n",
    "Gradient affects current output value only in the last position\n",
    "\n",
    "## Show gradient last diagram\n",
    "\n",
    "But in other positions, the gradient affects the previous hidden state and the output\n",
    "\n",
    "## Show gradient inside diagram\n",
    "\n",
    "We have to account for this by adding together both gradients"
   ],
   "metadata": {
    "collapsed": false
   }
  },
  {
   "cell_type": "markdown",
   "source": [
    "Show backward pass with 3 sequence elements"
   ],
   "metadata": {
    "collapsed": false
   }
  },
  {
   "cell_type": "markdown",
   "source": [
    "Show everything together"
   ],
   "metadata": {
    "collapsed": false
   }
  }
 ],
 "metadata": {
  "kernelspec": {
   "display_name": "Python 3",
   "language": "python",
   "name": "python3"
  },
  "language_info": {
   "codemirror_mode": {
    "name": "ipython",
    "version": 2
   },
   "file_extension": ".py",
   "mimetype": "text/x-python",
   "name": "python",
   "nbconvert_exporter": "python",
   "pygments_lexer": "ipython2",
   "version": "2.7.6"
  }
 },
 "nbformat": 4,
 "nbformat_minor": 0
}
