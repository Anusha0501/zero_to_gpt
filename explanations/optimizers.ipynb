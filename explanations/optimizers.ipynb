{
 "cells": [
  {
   "cell_type": "markdown",
   "source": [
    "# Optimizers\n",
    "\n",
    "In the last few lessons, we learned how to build several neural network architectures.  We used gradient descent, a technique we originally learned in the [dense neural network](https://github.com/VikParuchuri/zero_to_gpt/blob/master/explanations/dense.ipynb) lesson, to adjust model parameters.\n",
    "\n",
    "Gradient descent is a type of optimizer.  Optimizers adjust neural network parameters to try to get loss to (hopefully) a global minimum value.  In this lesson, we'll learn more about optimizers.  We'll first go into more depth on gradient descent, and discuss batch size, learning rate schedules, weight decay, and momentum.  We'll then discuss the Adam optimizer, which is a popular optimizer that extends the idea of momentum.  Adam variants are the most popular optimizers for large language models."
   ],
   "metadata": {
    "collapsed": false
   }
  },
  {
   "cell_type": "markdown",
   "source": [
    "## Stochastic Gradient Descent\n",
    "\n",
    "The type of optimizer we've used so far is called stochastic gradient descent, or SGD.  In SGD, we take a minibatch of training examples, then compute the average gradient across the minibatch.  We then adjust the parameters using this average gradient.\n",
    "\n",
    "Let's define a three-layer dense neural network, then explore the effect of batch size on our loss over time.  We'll first load in a dataset of house prices.\n",
    "\n",
    "Each row in this dataset represents a single house.  The predictor columns are:\n",
    "\n",
    "- `interest`: The interest rate\n",
    "- `vacancy`: The vacancy rate\n",
    "- `cpi`: The consumer price index\n",
    "- `price`: The price of a house\n",
    "- `value`: The value of a house\n",
    "- `adj_price`: The price of a house, adjusted for inflation\n",
    "- `adj_value`: The value of a house, adjusted for inflation\n",
    "\n",
    "The predictor columns have all been scaled using the scikit-learn `StandardScaler`.  This gives each column a mean of 0 and a standard deviation of 1.  This makes it easier to activate our nonlinearities.\n",
    "\n",
    "The target column is `next_quarter`, which is the price of the house in three months.  `next_quarter` has been scaled so the minimum value is `0`, and it has been divided by `1000` and rounded to the nearest integer.  This makes the prediction task simpler for our network."
   ],
   "metadata": {
    "collapsed": false
   }
  },
  {
   "cell_type": "code",
   "execution_count": 1,
   "outputs": [],
   "source": [
    "import sys, os\n",
    "sys.path.append(os.path.abspath('../data'))\n",
    "from csv_data import HousePricesDatasetWrapper\n",
    "\n",
    "wrapper = HousePricesDatasetWrapper()\n",
    "train_data, valid_data, test_data = wrapper.get_flat_datasets()"
   ],
   "metadata": {
    "collapsed": false
   }
  },
  {
   "cell_type": "code",
   "execution_count": 2,
   "outputs": [
    {
     "data": {
      "text/plain": "array([[ 1.94509048,  1.39642758, -1.52275521, -0.64519476, -0.11676266,\n        -0.13891486,  0.8225858 ],\n       [ 1.93249288,  1.39642758, -1.49354416, -0.64519476, -0.11676266,\n        -0.15597175,  0.80219322]])"
     },
     "execution_count": 2,
     "metadata": {},
     "output_type": "execute_result"
    }
   ],
   "source": [
    "# Show the train predictors\n",
    "train_data[0][:2]"
   ],
   "metadata": {
    "collapsed": false
   }
  },
  {
   "cell_type": "code",
   "execution_count": 3,
   "outputs": [
    {
     "data": {
      "text/plain": "array([[22.],\n       [22.]])"
     },
     "execution_count": 3,
     "metadata": {},
     "output_type": "execute_result"
    }
   ],
   "source": [
    "# Show the train target\n",
    "train_data[1][:2]"
   ],
   "metadata": {
    "collapsed": false
   }
  },
  {
   "cell_type": "markdown",
   "source": [
    "Next, we'll define a single layer of our neural network.  We'll make a few modifications from earlier lessons:\n",
    "\n",
    "- Instead of directly updating the parameters, we'll return the weight and bias gradients\n",
    "- We'll add an update method that updates the weights later\n",
    "\n",
    "This will enable us to swap different optimizers in and out of our network."
   ],
   "metadata": {
    "collapsed": false
   }
  },
  {
   "cell_type": "code",
   "execution_count": 4,
   "outputs": [],
   "source": [
    "import math\n",
    "import numpy as np\n",
    "\n",
    "class Dense():\n",
    "    def __init__(self, input_size, output_size, activation=True, seed=0):\n",
    "        self.add_activation = activation\n",
    "        self.hidden = None\n",
    "        self.prev_hidden = None\n",
    "\n",
    "        # Initialize the weights.  They'll be in the range -sqrt(k) to sqrt(k), where k = 1 / input_size\n",
    "        np.random.seed(seed)\n",
    "        k = math.sqrt(1 / input_size)\n",
    "        self.weights = np.random.rand(input_size, output_size) * (2 * k) - k\n",
    "\n",
    "        # Our bias will be initialized to 1\n",
    "        self.bias = np.ones((1,output_size))\n",
    "\n",
    "    def forward(self, x):\n",
    "        # Copy the layer input for backprop\n",
    "        self.prev_hidden = x.copy()\n",
    "        # Multiply the input by the weights, then add the bias\n",
    "        x = np.matmul(x, self.weights) + self.bias\n",
    "        # Apply the activation function\n",
    "        if self.add_activation:\n",
    "            x = np.maximum(x, 0)\n",
    "        # Copy the layer output for backprop\n",
    "        self.hidden = x.copy()\n",
    "        return x\n",
    "\n",
    "    def backward(self, grad):\n",
    "        # \"Undo\" the activation function if it was added\n",
    "        if self.add_activation:\n",
    "            grad = np.multiply(grad, np.heaviside(self.hidden, 0))\n",
    "\n",
    "        # Calculate the parameter gradients\n",
    "        w_grad = self.prev_hidden.T @ grad # This is not averaged across the batch, due to the way matrix multiplication sums\n",
    "        b_grad = np.mean(grad, axis=0) # This is averaged across the batch\n",
    "        param_grads = [w_grad, b_grad]\n",
    "\n",
    "        # Calculate the next layer gradient\n",
    "        grad = grad @ self.weights.T\n",
    "        return param_grads, grad\n",
    "\n",
    "    def update(self, w_grad, b_grad):\n",
    "        # Update the weights given an update matrix\n",
    "        self.weights += w_grad\n",
    "        self.bias += b_grad"
   ],
   "metadata": {
    "collapsed": false
   }
  },
  {
   "cell_type": "markdown",
   "source": [
    "We can then use the `Dense` class to create a 3-layer neural network.  The first layer will take in our predictors and generate `25` hidden features, the second layer combine those features into `10` new features, and the final layer will make a prediction."
   ],
   "metadata": {
    "collapsed": false
   }
  },
  {
   "cell_type": "code",
   "execution_count": 5,
   "outputs": [],
   "source": [
    "layers = [\n",
    "    Dense(7, 25),\n",
    "    Dense(25, 10),\n",
    "    Dense(10, 1, activation=False)\n",
    "]"
   ],
   "metadata": {
    "collapsed": false
   }
  },
  {
   "cell_type": "markdown",
   "source": [
    "We'll define functions that run forward and backward passes across all the layers together.  `forward` will do a full forward pass across all 3 layers, and `backward` will do a full backward pass across all 3 layers.\n",
    "\n",
    "The backward pass will return the gradients instead of updating the parameters.  We'll use these gradients to update the parameters in our optimizer."
   ],
   "metadata": {
    "collapsed": false
   }
  },
  {
   "cell_type": "code",
   "execution_count": 6,
   "outputs": [],
   "source": [
    "def forward(x, layers):\n",
    "    # Loop through each layer\n",
    "    for layer in layers:\n",
    "        # Run the forward pass\n",
    "        x = layer.forward(x)\n",
    "    return x\n",
    "\n",
    "def backward(grad, layers):\n",
    "    # Save the gradients for each layer\n",
    "    layer_grads = []\n",
    "    # Loop through each layer in reverse order (starting from the output layer)\n",
    "    for layer in reversed(layers):\n",
    "        # Get the parameter gradients and the next layer gradient\n",
    "        param_grads, grad = layer.backward(grad)\n",
    "        layer_grads.append(param_grads)\n",
    "    return layer_grads"
   ],
   "metadata": {
    "collapsed": false
   }
  },
  {
   "cell_type": "markdown",
   "source": [
    "We'll then define our SGD optimizer, which will take in a set of gradients, and use it to update the network parameters.\n",
    "\n",
    "The process for SGD is:\n",
    "\n",
    "- Normalize the gradient by batch size, so that the gradient is the average gradient across the batch (in our case, our bias gradient is already normalized, but the weight gradient is not)\n",
    "- Multiply the gradient by learning rate\n",
    "- Multiply the gradient by `-1` so it is subtracted from the parameters in the `update` function\n",
    "\n",
    "We'll define the optimizer as a class, so we can keep track of hyperparameters like learning rate.  Overriding the `__call__` method will enable us to call the optimizer like a function for ease of use.  We'll inherit from an `Optimizer` class that I've created that will make it easy for us to graph how the optimizer changes the weights over time."
   ],
   "metadata": {
    "collapsed": false
   }
  },
  {
   "cell_type": "code",
   "execution_count": 7,
   "outputs": [],
   "source": [
    "import sys, os\n",
    "sys.path.append(os.path.abspath(\"../nnets\"))\n",
    "\n",
    "# Import the optimizer class\n",
    "from optimizer import Optimizer"
   ],
   "metadata": {
    "collapsed": false
   }
  },
  {
   "cell_type": "code",
   "execution_count": 8,
   "outputs": [],
   "source": [
    "class SGD(Optimizer):\n",
    "    def __init__(self, lr):\n",
    "        # Store hyperparameters\n",
    "        self.lr = lr\n",
    "        super().__init__()\n",
    "\n",
    "    def __call__(self, layer_grads, layers, batch_size, step):\n",
    "        # Loop through the layer grads.  Reverse the layers to match the grads (from output backward to input).\n",
    "        for layer_grad, layer in zip(layer_grads, reversed(layers)):\n",
    "            w_grad, b_grad = layer_grad\n",
    "\n",
    "            # Normalize the weight gradient by batch size\n",
    "            w_grad /= batch_size\n",
    "\n",
    "            # Calculate the update sizes\n",
    "            w_update = -self.lr * w_grad\n",
    "            b_update = -self.lr * b_grad\n",
    "\n",
    "            # Actually do the update\n",
    "            layer.update(w_update, b_update)\n",
    "\n",
    "        # Save the first layer weights to generate a graph later.  This is not part of the SGD algorithm - we're doing it to graph the weight changes.\n",
    "        self.save_vector(layers)"
   ],
   "metadata": {
    "collapsed": false
   }
  },
  {
   "cell_type": "markdown",
   "source": [
    "## Monitoring\n",
    "\n",
    "We can now write a function to train the network using the SGD optimizer and our data.  Since we'll be testing different batch sizes and optimizers, we want a way to monitor our network and compare different runs to wach other.  So far, we've been using print statements to monitor per-epoch accuracy in our network, which is hard to compare to other runs.\n",
    "\n",
    "We'll use a tool called [Weights & Biases](https://wandb.ai) to monitor our network.  We can use it to track the loss and accuracy of our network, and compare different runs to each other.  W&B is a free tool, and you can sign up for an account [here](https://wandb.ai).  If you don't want to use W&B, you can also use TensorBoard, but it's harder to setup and use.\n",
    "\n",
    "We'll start by importing `wandb` and logging in.  We'll also set the `WANDB_SILENT` environment variable to `True`, so that W&B doesn't print out a lot of system messages."
   ],
   "metadata": {
    "collapsed": false
   }
  },
  {
   "cell_type": "code",
   "execution_count": 9,
   "outputs": [
    {
     "name": "stdout",
     "output_type": "stream",
     "text": [
      "env: WANDB_SILENT=True\n"
     ]
    },
    {
     "data": {
      "text/plain": "True"
     },
     "execution_count": 9,
     "metadata": {},
     "output_type": "execute_result"
    }
   ],
   "source": [
    "%env WANDB_SILENT=True\n",
    "\n",
    "import wandb\n",
    "wandb.login()"
   ],
   "metadata": {
    "collapsed": false
   }
  },
  {
   "cell_type": "markdown",
   "source": [
    "With W&B, we track each training run separately.  W&B will track the loss in each epoch, or anything else we want to keep track of.  It will also render graphs for us, so we can compare different runs against each other.\n",
    "\n",
    "The key W&B functions are:\n",
    "\n",
    "- `wandb.init` - This will initialize a new run.  We can use the `config` parameter to pass in run-specific information we want to view.\n",
    "- `wandb.log` - This will log a dictionary of metrics to the current run.\n",
    "- `wandb.define_metric` - This will define a metric that we want to track.  You normally don't need to define wandb metrics upfront, but we'll use a custom `step_metric` to ensure that results from runs with different batch sizes line up.\n",
    "\n",
    "We'll use W&B to log a running training loss, the final training set loss each epoch, and the validation set loss.  We'll also track how long each epoch takes to run."
   ],
   "metadata": {
    "collapsed": false
   }
  },
  {
   "cell_type": "markdown",
   "source": [
    "## The Training Loop\n",
    "\n",
    "We can now write a function that will train our network using SGD, and log the loss to W&B.  This function will be very similar to training loops that we've written in previous lessons.\n",
    "\n",
    "We won't do this here, but you usually want to shuffle your training data each epoch to ensure that batch composition changes.  Random shuffling is important when our batch size is greater than `1`.  As we saw earlier, the gradient is averaged across all the examples in a batch.  Random shuffling will put different training examples together each time, allowing the model to see more combinations of gradients.  This reduces overfitting, and improves the generalization of our network.  It can also make SGD converge faster (get to the global minimum error).\n",
    "\n",
    "In our case, we won't do random shuffling, since the data is time series.  Shuffling can actually cause validation error to increase significantly with time series data."
   ],
   "metadata": {
    "collapsed": false
   }
  },
  {
   "cell_type": "code",
   "execution_count": 10,
   "outputs": [],
   "source": [
    "import time\n",
    "\n",
    "def training_run(epochs, batch_size, optimizer, train_data, valid_data, name=None):\n",
    "    # Initialize a new W&B run, with the right parameters\n",
    "    wandb.init(project=\"optimizers\",\n",
    "               name=name,\n",
    "               config={\"batch_size\": batch_size,\n",
    "                       \"lr\": optimizer.lr,\n",
    "                       \"epochs\": epochs,\n",
    "                       \"optimizer\": type(optimizer).__name__})\n",
    "\n",
    "    # Setup the metrics we want to track with wandb.  You usually don't need to do this, but we want a custom axis for each metric.\n",
    "    wandb.define_metric(\"batch_step\") # This will ensure that results from runs with different batch sizes line up\n",
    "    wandb.define_metric(\"epoch\") # This will ensure that results from runs with different batch sizes line up\n",
    "    wandb.define_metric(\"valid_loss\", step_metric=\"epoch\") # The step metric is the x-axis scale\n",
    "    wandb.define_metric(\"train_loss\", step_metric=\"epoch\")\n",
    "    wandb.define_metric(\"runtime\", step_metric=\"epoch\")\n",
    "    wandb.define_metric(\"running_loss\", step_metric=\"batch_step\")\n",
    "\n",
    "    # Setup the layers for the training run\n",
    "    layers = [\n",
    "        Dense(7, 25),\n",
    "        Dense(25,10),\n",
    "        Dense(10, 1, activation=False)\n",
    "    ]\n",
    "\n",
    "    # Split the training and valid data into x and y\n",
    "    train_x, train_y = train_data\n",
    "    valid_x, valid_y = valid_data\n",
    "\n",
    "    for epoch in range(epochs):\n",
    "        running_loss = 0\n",
    "        start = time.time() # The start time of our run\n",
    "\n",
    "        for i in range(0, len(train_x), batch_size):\n",
    "            # Get the x and y batches\n",
    "            x_batch = train_x[i:(i+batch_size)]\n",
    "            y_batch = train_y[i:(i+batch_size)]\n",
    "            # Make a prediction\n",
    "            pred = forward(x_batch, layers)\n",
    "\n",
    "            # Run the backward pass\n",
    "            loss = pred - y_batch\n",
    "            layer_grads = backward(loss, layers)\n",
    "\n",
    "            # Run the optimizer\n",
    "            step_count = (i + batch_size) // batch_size + epoch * len(train_x) // batch_size\n",
    "            optimizer(layer_grads, layers, batch_size, step_count)\n",
    "\n",
    "            # Update running loss\n",
    "            running_loss += np.mean(loss ** 2)\n",
    "\n",
    "            batch_idx = i + batch_size # Get the last index of the current batch\n",
    "            batch_step = batch_idx + epoch * len(train_x)\n",
    "            # Log running loss.  We multiply by batch size to offset the mean from earlier.\n",
    "            wandb.log({\"running_loss\": running_loss / batch_idx * batch_size, \"batch_step\": batch_step})\n",
    "\n",
    "        # Calculate and log validation loss\n",
    "        valid_preds = forward(valid_x, layers)\n",
    "        valid_loss = np.mean((valid_preds - valid_y) ** 2)\n",
    "        train_loss = running_loss / len(train_x) * batch_size\n",
    "        wandb.log({\n",
    "            \"valid_loss\": valid_loss,\n",
    "            \"epoch\": epoch,\n",
    "            \"train_loss\": train_loss,\n",
    "            \"runtime\": time.time() - start\n",
    "        })\n",
    "\n",
    "    # Mark the run as complete\n",
    "    wandb.finish()"
   ],
   "metadata": {
    "collapsed": false
   }
  },
  {
   "cell_type": "markdown",
   "source": [
    "We can then initialize our hyperparameters and start the run.  We define the optimizer, then pass it into the training loop."
   ],
   "metadata": {
    "collapsed": false
   }
  },
  {
   "cell_type": "code",
   "execution_count": 11,
   "outputs": [
    {
     "data": {
      "text/plain": "<Figure size 640x480 with 1 Axes>",
      "image/png": "[encoded data removed]"
     },
     "metadata": {},
     "output_type": "display_data"
    }
   ],
   "source": [
    "# Setup our parameters\n",
    "epochs = 10\n",
    "batch_size = 4\n",
    "lr = 1e-4\n",
    "\n",
    "# Run our training loop\n",
    "sgd = SGD(lr=lr)\n",
    "training_run(epochs, batch_size, sgd, train_data, valid_data, name=\"sgd_small\")\n",
    "\n",
    "# Plot the path of the weights over time.\n",
    "sgd.plot_path()"
   ],
   "metadata": {
    "collapsed": false
   }
  },
  {
   "cell_type": "markdown",
   "source": [
    "You should now be able to see your run in W&B.  You will need to click on the `optimizers` project in your [dashboard](https://wandb.ai/home).\n",
    "\n",
    "You should also see a plot above showing how the singular value of the weight matrix in the last layer changes over time.  The x-axis is time, and the y-axis is the singular value.  The red dot is the starting point, and the green dot is the ending point.\n",
    "\n",
    "The final weight matrix is `10x1`, so it only has one singular value.  If you're familiar with linear algebra, the singular value is the result of SVD.  If you're not familiar with linear algebra, you can think of the singular value as how much the weights change the inputs to the last layer.  Graphing the singular value tells us how much the weights in the final layer are stretching the inputs in a single direction.\n",
    "\n",
    "As you can see above, the singular value oscillates a lot over time.  This is because our batch size is small, and the gradients can vary quite a bit from batch to batch.  This is inefficient, since it takes the network more iterations to get to the optimal value.\n",
    "\n",
    "We'll later be able to compare this graph to the graphs from other optimizers to see how they improve on SGD.\n",
    "\n",
    "## Batch Size\n",
    "\n",
    "We can now compare our first run to a run with a higher batch size.  We'll use a batch size of `16`.  We'll increase the number of epochs, to keep the total number of steps the same between runs.  The number of steps is the number of times we run the forward and backward pass."
   ],
   "metadata": {
    "collapsed": false
   }
  },
  {
   "cell_type": "code",
   "execution_count": 12,
   "outputs": [
    {
     "data": {
      "text/plain": "<Figure size 640x480 with 1 Axes>",
      "image/png": "[encoded data removed]"
     },
     "metadata": {},
     "output_type": "display_data"
    }
   ],
   "source": [
    "# Setup our parameters\n",
    "epochs = 40 # higher number of epochs so total steps are equal for comparison purposes\n",
    "batch_size = 16\n",
    "lr = 1e-4\n",
    "\n",
    "# Run our training loop\n",
    "sgd = SGD(lr=lr)\n",
    "training_run(epochs, batch_size, sgd, train_data, valid_data, name=\"sgd_large\")\n",
    "sgd.plot_path()"
   ],
   "metadata": {
    "collapsed": false
   }
  },
  {
   "cell_type": "markdown",
   "source": [
    "You should end up with a dashboard that looks like this:\n",
    "\n",
    "![W&B Dashboard](images/optimizers/wandb_comp2.png)\n",
    "\n",
    "We can draw a few conclusions from this graph and the graph of our average weights:\n",
    "\n",
    "1. The higher batch size descends more slowly than a lower batch size\n",
    "2. The higher batch size converges to a higher training and validation loss\n",
    "3. The higher batch size runs each epoch much faster\n",
    "4. A higher batch size has more stable weight updates - the singular value of the weight matrix doesn't get pulled back and forth as much (in the graph)\n",
    "\n",
    "Batch size can make a big impact on the final accuracy of your model.  In general, a higher batch size is a form of regularization (which we'll talk about in depth in a later lesson).  Regularization increases training loss, but decreases validation loss.  This happens because you're averaging over multiple training examples in the batch, and making it harder to overfit to specific examples.  It may seem counterintuitive, but our goal in training neural networks isn't to get the lowest training loss possible.  It's instead to get the lowest validation loss possible.  This is because we want the model to work well on new data that we feed into it after it's been trained.  Regularization helps the model generalize well to new data.\n",
    "\n",
    "Higher batch sizes can run much faster than lower batch sizes.  This is because we're just adding rows to existing matrices.  In practice, if the batch size is too high, then validation loss starts to suffer.  So you need to find the batch size that runs quickly and minimizes validation loss.  This is different for each dataset, so it can take some experimentation."
   ],
   "metadata": {
    "collapsed": false
   }
  },
  {
   "cell_type": "markdown",
   "source": [
    "## Momentum\n",
    "\n",
    "One downside to the basic SGD optimizer is that it has no knowledge of past gradients.  It has to make the decision on how to adjust the parameters based only on the current gradient.  It's like asking you to predict if a stock price will go up or down tomorrow.  If you only know how the stock did today, your guess will be worse than if you know how the stock did over the past year.\n",
    "\n",
    "We can solve this by keeping track of the stock price over time.  More recent stock prices are more informative than older ones, so we might weight the mean exponentially.  The formula would look like:\n",
    "\n",
    "$$\\text{ema}=\\beta \\text{ema} + (1-\\beta) * \\text{price}$$\n",
    "\n",
    "$\\beta$ is the decay coefficient that governs how quickly older values shrink.  $\\text{ema}$ is the exponential moving average."
   ],
   "metadata": {
    "collapsed": false
   }
  },
  {
   "cell_type": "code",
   "execution_count": 13,
   "outputs": [
    {
     "data": {
      "text/plain": "array([8, 9, 9, 8, 2, 3, 7, 3, 7, 2])"
     },
     "execution_count": 13,
     "metadata": {},
     "output_type": "execute_result"
    }
   ],
   "source": [
    "# Initialize a list of random stock prices between 2 and 10\n",
    "prices = np.random.randint(2,10,10)\n",
    "prices"
   ],
   "metadata": {
    "collapsed": false
   }
  },
  {
   "cell_type": "code",
   "execution_count": 14,
   "outputs": [
    {
     "data": {
      "text/plain": "array([[8.        , 9.        , 9.        , 8.        , 2.        ,\n        3.        , 7.        , 3.        , 7.        , 2.        ],\n       [8.        , 8.5       , 8.75      , 8.375     , 5.1875    ,\n        4.09375   , 5.546875  , 4.2734375 , 5.63671875, 3.81835938]])"
     },
     "execution_count": 14,
     "metadata": {},
     "output_type": "execute_result"
    }
   ],
   "source": [
    "exp_avg = []\n",
    "ema = prices[0] # Store the moving average.  Initialize it to the first value.\n",
    "decay = .5 # How fast the values decay.  The higher this is, the more we care about past values\n",
    "\n",
    "# Calculate the exponential average\n",
    "for i in range(prices.shape[0]):\n",
    "    ema = ema * decay + (1-decay) * prices[i]\n",
    "    exp_avg.append(ema)\n",
    "np.vstack((prices, exp_avg))"
   ],
   "metadata": {
    "collapsed": false
   }
  },
  {
   "cell_type": "markdown",
   "source": [
    "As you can see above, the exponential moving average moves around less than the prices.  This is useful when we want to minimize the effect of outliers.\n",
    "\n",
    "When we apply this to SGD, it is called momentum.  With momentum, we give the optimizer knowledge of the direction the gradient is moving in.  We do this by using an exponential moving average of the history of the gradient.  When we make a parameter update, we combine this exponential moving average with the current gradient value.\n",
    "\n",
    "The equation for SGD with momentum looks like:\n",
    "\n",
    "$$\n",
    "\\begin{aligned}\n",
    "v_t &= \\beta v_{t-1} - \\alpha \\nabla L(w_t) \\\\\n",
    "w_{t+1} &= w_t + v_t\n",
    "\\end{aligned}\n",
    "$$\n",
    "\n",
    "$v_{t-1}$ is the previous momentum value, $\\beta$ is a parameter that controls how quickly the momentum decays, $\\alpha$ is the learning rate, and $\\nabla L(w_t)$ is the gradient of the loss with respect to the parameter.  We use a slightly different formula from the `ema` formula we used earlier so that the velocity doesn't start out very close to `0` for several iterations (this happens if you multiply the gradient by $(1-\\beta)$.\n",
    "\n",
    "Each iteration, we update the momentum, then combine it with the current gradient.  We then update the parameter based on the combined value.  We say that the momentum exponentially decays since each value added to the velocity will be multiplied by $\\beta$ once per update.\n",
    "\n",
    "Intuitively, this stops the weight value from changing as drastically between iterations."
   ],
   "metadata": {
    "collapsed": false
   }
  },
  {
   "cell_type": "code",
   "execution_count": 15,
   "outputs": [],
   "source": [
    "class SGDMomentum(Optimizer):\n",
    "    def __init__(self, lr, beta):\n",
    "        # Store hyperparameters\n",
    "        self.lr = lr\n",
    "        self.beta = beta\n",
    "        # Used to store history of momentum\n",
    "        self.momentums = None\n",
    "\n",
    "        super().__init__()\n",
    "\n",
    "    def initialize_momentums(self, layer_grads):\n",
    "        self.momentums = []\n",
    "\n",
    "        # Initialize momentums to have the same shape as the parameters\n",
    "        for layer_grad in layer_grads:\n",
    "            w_grad, b_grad = layer_grad\n",
    "            initial_momentums = [np.zeros_like(w_grad), np.zeros_like(b_grad)]\n",
    "            self.momentums.append(initial_momentums)\n",
    "\n",
    "    def __call__(self, layer_grads, layers, batch_size, step):\n",
    "        if self.momentums is None:\n",
    "            self.initialize_momentums(layer_grads)\n",
    "\n",
    "        # Used to store momentums for the next parameter update\n",
    "        new_momentums = []\n",
    "        for layer_grad, momentum, layer in zip(layer_grads, self.momentums, reversed(layers)):\n",
    "            w_grad, b_grad = layer_grad\n",
    "            w_vel, b_vel = momentum\n",
    "\n",
    "            # Normalize the weight gradient by batch size\n",
    "            w_grad /= batch_size\n",
    "\n",
    "            # Calculate the update sizes\n",
    "            w_vel = w_vel * self.beta - self.lr * w_grad\n",
    "            b_vel = b_vel * self.beta - self.lr * b_grad\n",
    "\n",
    "            layer.update(w_vel, b_vel)\n",
    "            new_momentums.append([w_vel, b_vel])\n",
    "        self.momentums = new_momentums\n",
    "        self.save_vector(layers)"
   ],
   "metadata": {
    "collapsed": false
   }
  },
  {
   "cell_type": "code",
   "execution_count": 16,
   "outputs": [
    {
     "data": {
      "text/plain": "<Figure size 640x480 with 1 Axes>",
      "image/png": "[encoded data removed]"
     },
     "metadata": {},
     "output_type": "display_data"
    }
   ],
   "source": [
    "# Setup our parameters\n",
    "epochs = 40\n",
    "batch_size = 16\n",
    "lr = 1e-4\n",
    "beta = .9\n",
    "\n",
    "# Run our training loop\n",
    "sgd = SGDMomentum(lr, beta)\n",
    "training_run(epochs, batch_size, sgd, train_data, valid_data, name=\"sgd_momentum\")\n",
    "sgd.plot_path()"
   ],
   "metadata": {
    "collapsed": false
   }
  },
  {
   "cell_type": "markdown",
   "source": [
    "When we look at the graph above and the W&B dashboard, we notice a few things about SGD with momentum:\n",
    "\n",
    "- It descends faster than vanilla SGD\n",
    "- The train and validation losses end up lower\n",
    "- The weight updates seem to be more consistent\n",
    "\n",
    "Momentum can help neural networks avoid local minima, and can improve training efficiency.\n",
    "\n",
    "## Adam\n",
    "\n",
    "SGD uses what is called the first moment of the gradient, which is the mean.  It keeps track of a moving average (mean) of the gradient over time.  It doesn't have any information about how different one gradient is from the next.  To know this, we'd have to track the variance, or the second moment of the gradient.  The variance tells us how much the gradient varies across batches.\n",
    "\n",
    "Adam is an optimizer that extends SGD to use the second moment.  It also corrects the moving average of the first and second moment so that they don't stay close to 0 during the first few iterations.\n",
    "\n",
    "With Adam, we first calculate the moving average of the first moment $m$ and the second moment $v$.  We now have 2 exponential decay coefficients, $\\beta_1$ and $\\beta_{2}$:\n",
    "\n",
    "$$\n",
    "\\begin{aligned}\n",
    "m_t &= \\beta_1 m_{t-1} + (1 - \\beta_1) \\nabla L(w_t) \\\\\n",
    "v_t &= \\beta_2 v_{t-1} + (1 - \\beta_2) \\nabla L(w_t)^2\n",
    "\\end{aligned}\n",
    "$$\n",
    "\n",
    "Normally, the variance is centered by subtracting the mean before squaring.  In this case, we calculate the uncentered variance, since we don't know the population mean.  We then correct the values, so that they aren't too small in the first few iterations:\n",
    "\n",
    "$$\n",
    "\\begin{aligned}\n",
    "\\hat{m}_t &= \\frac{m_t}{1 - \\beta_1^t} \\\\\n",
    "\\hat{v}t &= \\frac{v_t}{1 - \\beta_2^t}\n",
    "\\end{aligned}\n",
    "$$\n",
    "\n",
    "Note that the correct factor is raised to the power $t$, which is the index of the iteration we're on.  This start $1-\\beta_1^t$ out at a very low number, then increase it towards `1` as we progress.  This will increase the value of $m_t$ early on, and not change it in later iterations.  This corrects for the fact that the exponential moving averages are initialized with value `0`, which is below the true moving average of the gradient values.\n",
    "\n",
    "We then update the parameters:\n",
    "\n",
    "$$\n",
    "\\begin{aligned}\n",
    "w_{t+1} &= w_t - \\alpha\\frac{\\hat{m}_t}{\\sqrt{\\hat{v}_t} + \\epsilon}\n",
    "\\end{aligned}\n",
    "$$\n",
    "\n",
    "$\\alpha$ is our learning rate, and $\\epsilon$ is a small tolerance value to avoid dividing by a number that is too small and will cause numerical instability.  It works lik the tolerance we used in an earlier lesson on softmax.\n",
    "\n",
    "We can look at an example of how this works by going back to our stock prices:"
   ],
   "metadata": {
    "collapsed": false
   }
  },
  {
   "cell_type": "code",
   "execution_count": 17,
   "outputs": [
    {
     "data": {
      "text/plain": "array([[8.00000000e+00, 9.00000000e+00, 9.00000000e+00, 8.00000000e+00,\n        2.00000000e+00, 3.00000000e+00, 7.00000000e+00, 3.00000000e+00,\n        7.00000000e+00, 2.00000000e+00, 3.00000000e+00, 6.00000000e+00,\n        5.00000000e+00, 2.00000000e+00, 5.00000000e+00, 7.00000000e+00,\n        8.00000000e+00, 9.00000000e+00, 9.00000000e+00, 2.00000000e+00,\n        4.00000000e+00, 5.00000000e+00, 2.00000000e+00, 3.00000000e+00,\n        5.00000000e+00, 7.00000000e+00, 5.00000000e+00, 5.00000000e+00,\n        8.00000000e+00, 9.00000000e+00, 2.00000000e+00, 3.00000000e+00,\n        3.00000000e+00, 3.00000000e+00, 9.00000000e+00, 2.00000000e+00,\n        9.00000000e+00, 4.00000000e+00, 6.00000000e+00, 9.00000000e+00,\n        5.00000000e+00, 8.00000000e+00, 5.00000000e+00, 4.00000000e+00,\n        9.00000000e+00, 6.00000000e+00, 4.00000000e+00, 2.00000000e+00,\n        2.00000000e+00, 6.00000000e+00, 7.00000000e+00, 7.00000000e+00,\n        8.00000000e+00, 2.00000000e+00, 6.00000000e+00, 3.00000000e+00,\n        9.00000000e+00, 6.00000000e+00, 3.00000000e+00, 4.00000000e+00,\n        4.00000000e+00, 9.00000000e+00, 2.00000000e+00, 3.00000000e+00,\n        3.00000000e+00, 9.00000000e+00, 3.00000000e+00, 3.00000000e+00,\n        5.00000000e+00, 8.00000000e+00, 9.00000000e+00, 5.00000000e+00,\n        8.00000000e+00, 4.00000000e+00, 5.00000000e+00, 2.00000000e+00,\n        8.00000000e+00, 5.00000000e+00, 7.00000000e+00, 6.00000000e+00,\n        3.00000000e+00, 4.00000000e+00, 6.00000000e+00, 5.00000000e+00,\n        6.00000000e+00, 8.00000000e+00, 6.00000000e+00, 9.00000000e+00,\n        9.00000000e+00, 6.00000000e+00, 5.00000000e+00, 6.00000000e+00,\n        6.00000000e+00, 6.00000000e+00, 2.00000000e+00, 8.00000000e+00,\n        9.00000000e+00, 6.00000000e+00, 5.00000000e+00, 4.00000000e+00],\n       [8.00000000e+00, 1.13333333e+01, 1.16190476e+01, 1.04634921e+01,\n        6.43277010e+00, 4.79124830e+00, 5.94204639e+00, 4.48855662e+00,\n        5.75551956e+00, 3.88155036e+00, 3.44245606e+00, 4.72238096e+00,\n        4.86178396e+00, 3.43110140e+00, 4.21567935e+00, 5.60792525e+00,\n        6.80401453e+00, 7.90203741e+00, 8.45103482e+00, 5.22552240e+00,\n        4.61276340e+00, 4.80638284e+00, 3.40319183e+00, 3.20159610e+00,\n        4.10079817e+00, 5.55039917e+00, 5.27519962e+00, 5.13759983e+00,\n        6.56879993e+00, 7.78439997e+00, 4.89219999e+00, 3.94609999e+00,\n        3.47305000e+00, 3.23652500e+00, 6.11826250e+00, 4.05913125e+00,\n        6.52956563e+00, 5.26478281e+00, 5.63239141e+00, 7.31619570e+00,\n        6.15809785e+00, 7.07904893e+00, 6.03952446e+00, 5.01976223e+00,\n        7.00988112e+00, 6.50494056e+00, 5.25247028e+00, 3.62623514e+00,\n        2.81311757e+00, 4.40655878e+00, 5.70327939e+00, 6.35163970e+00,\n        7.17581985e+00, 4.58790992e+00, 5.29395496e+00, 4.14697748e+00,\n        6.57348874e+00, 6.28674437e+00, 4.64337219e+00, 4.32168609e+00,\n        4.16084305e+00, 6.58042152e+00, 4.29021076e+00, 3.64510538e+00,\n        3.32255269e+00, 6.16127635e+00, 4.58063817e+00, 3.79031909e+00,\n        4.39515954e+00, 6.19757977e+00, 7.59878989e+00, 6.29939494e+00,\n        7.14969747e+00, 5.57484874e+00, 5.28742437e+00, 3.64371218e+00,\n        5.82185609e+00, 5.41092805e+00, 6.20546402e+00, 6.10273201e+00,\n        4.55136601e+00, 4.27568300e+00, 5.13784150e+00, 5.06892075e+00,\n        5.53446038e+00, 6.76723019e+00, 6.38361509e+00, 7.69180755e+00,\n        8.34590377e+00, 7.17295189e+00, 6.08647594e+00, 6.04323797e+00,\n        6.02161899e+00, 6.01080949e+00, 4.00540475e+00, 6.00270237e+00,\n        7.50135119e+00, 6.75067559e+00, 5.87533780e+00, 4.93766890e+00],\n       [6.40000000e+01, 3.45789474e+02, 1.17826762e+03, 3.10218337e+03,\n        6.81879572e+03, 1.30993453e+04, 2.26073236e+04, 3.57266370e+04,\n        5.24974680e+04, 7.25419272e+04, 9.51466667e+04, 1.19341033e+05,\n        1.44016488e+05, 1.68062563e+05, 1.90476159e+05, 2.10425761e+05,\n        2.27296183e+05, 2.40702875e+05, 2.50476325e+05, 2.56629213e+05,\n        2.59345179e+05, 2.58909850e+05, 2.55680028e+05, 2.50059263e+05,\n        2.42462145e+05, 2.33294157e+05, 2.22930597e+05, 2.11720373e+05,\n        1.99973757e+05, 1.87951984e+05, 1.75866865e+05, 1.63909203e+05,\n        1.52223364e+05, 1.40921351e+05, 1.30093765e+05, 1.19783315e+05,\n        1.10044293e+05, 1.00882365e+05, 9.23138175e+04, 8.43371128e+04,\n        7.69292758e+04, 7.00818037e+04, 6.37631885e+04, 5.79504580e+04,\n        5.26228021e+04, 4.77391206e+04, 4.32727317e+04, 3.91952455e+04,\n        3.54792902e+04, 3.21003994e+04, 2.90299117e+04, 2.62413667e+04,\n        2.37127211e+04, 2.14142590e+04, 1.93352752e+04, 1.74504432e+04,\n        1.57523289e+04, 1.42122263e+04, 1.28174961e+04, 1.15581165e+04,\n        1.04207585e+04, 9.40046573e+03, 8.47191755e+03, 7.63462716e+03,\n        6.87936425e+03, 6.20545406e+03, 5.59061382e+03, 5.03634832e+03,\n        4.53837310e+03, 4.09350069e+03, 3.69433393e+03, 3.32909015e+03,\n        3.00395327e+03, 2.70627048e+03, 2.43904585e+03, 2.19627260e+03,\n        1.98363982e+03, 1.78825817e+03, 1.61472433e+03, 1.45717025e+03,\n        1.31261132e+03, 1.18315956e+03, 1.06861380e+03, 9.64390661e+02,\n        8.71664045e+02, 7.90989480e+02, 7.15565305e+02, 6.52170109e+02,\n        5.95103468e+02, 5.39234199e+02, 4.87844225e+02, 4.42687118e+02,\n        4.02040733e+02, 3.65454925e+02, 3.29324246e+02, 3.02804080e+02,\n        2.80633897e+02, 2.56178908e+02, 2.33067896e+02, 2.11366720e+02]])"
     },
     "execution_count": 17,
     "metadata": {},
     "output_type": "execute_result"
    }
   ],
   "source": [
    "# Initialize a list of random stock prices between 2 and 10\n",
    "prices = np.random.randint(2,10,100)\n",
    "\n",
    "exp_avg = []\n",
    "exp_var = []\n",
    "\n",
    "ema = 0 # Store the moving average.  Initialize it to 0.\n",
    "emv = 0 # Moving variance.\n",
    "\n",
    "beta1 = .5 # How fast the ema decays.  The higher this is, the more we care about past values\n",
    "beta2 = .9\n",
    "\n",
    "# Calculate the first and second moments\n",
    "for i in range(prices.shape[0]):\n",
    "    # First moment\n",
    "    ema = ema * beta1 + (1-beta1) * prices[i]\n",
    "    ema /= (1 - beta1 ** (i+1)) # this will increase the ema when we're starting out.  Over time, `beta1 ** i` will decrease to close to 0.\n",
    "    exp_avg.append(ema)\n",
    "\n",
    "    # Second moment\n",
    "    emv = emv * beta2 + (1-beta2) * prices[i] ** 2\n",
    "    emv /= (1 - beta2 ** (i+1))\n",
    "    exp_var.append(emv)\n",
    "np.vstack((prices, exp_avg, exp_var))"
   ],
   "metadata": {
    "collapsed": false
   }
  },
  {
   "cell_type": "markdown",
   "source": [
    "As you can see above, we keep track of both the mean and the variance.  We can now implement the Adam optimizer in code:"
   ],
   "metadata": {
    "collapsed": false
   }
  },
  {
   "cell_type": "code",
   "execution_count": 18,
   "outputs": [],
   "source": [
    "from copy import deepcopy\n",
    "\n",
    "class Adam(Optimizer):\n",
    "    def __init__(self, lr, beta1, beta2, eps, decay):\n",
    "        # Track hyperparameters\n",
    "        self.lr = lr\n",
    "        self.beta1 = beta1\n",
    "        self.beta2 = beta2\n",
    "        self.eps = eps\n",
    "        self.decay = decay\n",
    "\n",
    "        # Track first and secone moment\n",
    "        self.moments = None\n",
    "\n",
    "        super().__init__()\n",
    "\n",
    "    def initialize_moments(self, layer_grads):\n",
    "        self.moments = []\n",
    "        for layer_grad in layer_grads:\n",
    "            w_grad, b_grad = layer_grad\n",
    "            # Initialize arrays to hold first moment values\n",
    "            moment1 = [np.zeros_like(w_grad), np.zeros_like(b_grad)]\n",
    "            moment2 = deepcopy(moment1)\n",
    "            self.moments.append([moment1, moment2])\n",
    "\n",
    "    def __call__(self, layer_grads, layers, batch_size, step):\n",
    "        if self.moments is None:\n",
    "            self.initialize_moments(layer_grads)\n",
    "\n",
    "        new_moments = []\n",
    "        for layer_grad, moment, layer in zip(layer_grads, self.moments, reversed(layers)):\n",
    "            w_grad, b_grad = layer_grad\n",
    "            moment1, moment2 = moment\n",
    "\n",
    "            # Normalize the weight gradient by batch size\n",
    "            w_grad /= batch_size\n",
    "\n",
    "            corrected_moments = []\n",
    "            for i, grad in enumerate([w_grad, b_grad]):\n",
    "                # Calculate the first and second moments\n",
    "                moment1[i] = moment1[i] * self.beta1 + (1 - self.beta1) * grad\n",
    "                moment2[i] = moment2[i] * self.beta2 + (1 - self.beta2) * np.square(grad)\n",
    "\n",
    "                # Correct the moments\n",
    "                corrected_moments.append([\n",
    "                    moment1[i] / (1 - self.beta1 ** step),\n",
    "                    moment2[i] / (1 - self.beta2 ** step)\n",
    "                ])\n",
    "\n",
    "            # Calculate the updates\n",
    "            w_update = -self.lr * corrected_moments[0][0] / (corrected_moments[0][1] ** .5 + self.eps)\n",
    "            b_update = -self.lr * corrected_moments[1][0] / (corrected_moments[1][1] ** .5 + self.eps)\n",
    "            layer.update(w_update, b_update)\n",
    "\n",
    "            # Save moments for next iteration\n",
    "            new_moments.append([moment1, moment2])\n",
    "        self.moments = new_moments\n",
    "        self.save_vector(layers)"
   ],
   "metadata": {
    "collapsed": false
   }
  },
  {
   "cell_type": "code",
   "execution_count": 20,
   "outputs": [
    {
     "data": {
      "text/plain": "<Figure size 640x480 with 1 Axes>",
      "image/png": "[encoded data removed]"
     },
     "metadata": {},
     "output_type": "display_data"
    }
   ],
   "source": [
    "# Setup our parameters\n",
    "epochs = 40\n",
    "batch_size = 16\n",
    "lr = 1e-3\n",
    "\n",
    "# Run our training loop\n",
    "adam = Adam(lr, .9, .999, 1e-8, .1)\n",
    "training_run(epochs, batch_size, adam, train_data, valid_data, name=\"adam\")\n",
    "adam.plot_path()"
   ],
   "metadata": {
    "collapsed": false
   }
  },
  {
   "cell_type": "markdown",
   "source": [
    "Looking at the chart and the W&B dashboard tells us a few things:\n",
    "\n",
    "- Adam updates weights smoothly, without big oscillations\n",
    "- Adam descends to a lower training loss than sgd with momentum, but a higher validation loss\n",
    "- Adam descends smoothly\n",
    "\n",
    "In this case, Adam seems to have overfit our data relative to SGD with momentum.  A variant of Adam, called AdamW, corrects for this by regularizing the parameter values.  We'll learn about AdamW in a later lesson."
   ],
   "metadata": {
    "collapsed": false
   }
  },
  {
   "cell_type": "markdown",
   "source": [
    "## Optimizer Summary\n",
    "\n",
    "We've learned about SGD, SGD with momentum, and Adam.  We've learned how to tune several hyperparameters, including batch size, learning rate, and our beta values.  At this point, I would encourage you to experiment with changing hyperparameters and seeing how descent behaves.  This will help you get a better intuition of how the various optimizers work.\n",
    "\n",
    "We'll cover one last concept in this lesson, learning rate scheduling."
   ],
   "metadata": {
    "collapsed": false
   }
  },
  {
   "cell_type": "markdown",
   "source": [
    "## Learning Rate Schedule\n",
    "\n",
    "The most important hyperparameter for any optimizer is the learning rate.  The learning rate directly impacts how well gradient descent works.  So far, we've used a fixed learning rate that doesn't change during training.\n",
    "\n",
    "In practice, it's common to use a learning rate scheduler.  A learning rate scheduler changes the learning rate during training.  This helps the model converge, and avoid taking gradient descent steps that are too large.\n",
    "\n",
    "It's common to alter the learning rate in two ways:\n",
    "\n",
    "- Set the learning rate low initially as a warmup phase.  This helps to stabilize training, and avoid large gradient steps initially.\n",
    "- Gradually lower the learning rate in subsequent epochs.  This makes the model take smaller steps as time goes on."
   ],
   "metadata": {
    "collapsed": false
   }
  },
  {
   "cell_type": "code",
   "execution_count": 18,
   "outputs": [],
   "source": [],
   "metadata": {
    "collapsed": false
   }
  }
 ],
 "metadata": {
  "kernelspec": {
   "display_name": "Python 3",
   "language": "python",
   "name": "python3"
  },
  "language_info": {
   "codemirror_mode": {
    "name": "ipython",
    "version": 2
   },
   "file_extension": ".py",
   "mimetype": "text/x-python",
   "name": "python",
   "nbconvert_exporter": "python",
   "pygments_lexer": "ipython2",
   "version": "2.7.6"
  }
 },
 "nbformat": 4,
 "nbformat_minor": 0
}
