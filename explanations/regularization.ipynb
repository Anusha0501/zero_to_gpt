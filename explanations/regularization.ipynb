{
 "cells": [
  {
   "cell_type": "markdown",
   "source": [
    "# Regularization\n",
    "\n",
    "- Weight decay\n",
    "- Droput\n",
    "- Early stopping"
   ],
   "metadata": {
    "collapsed": false
   }
  },
  {
   "cell_type": "code",
   "execution_count": 1,
   "outputs": [],
   "source": [
    "import sys, os\n",
    "sys.path.append(os.path.abspath('../data'))\n",
    "sys.path.append(os.path.abspath('../nnets'))\n",
    "from dense import DenseUpdate as Dense, forward, backward\n",
    "from csv_data import HousePricesDatasetWrapper\n",
    "import numpy as np\n",
    "\n",
    "wrapper = HousePricesDatasetWrapper()\n",
    "train_data, valid_data, test_data = wrapper.get_flat_datasets()"
   ],
   "metadata": {
    "collapsed": false
   }
  },
  {
   "cell_type": "code",
   "execution_count": 8,
   "outputs": [
    {
     "name": "stdout",
     "output_type": "stream",
     "text": [
      "env: WANDB_SILENT=True\n"
     ]
    }
   ],
   "source": [
    "%env WANDB_SILENT=True\n",
    "\n",
    "import wandb\n",
    "wandb.login()\n",
    "\n",
    "def training_run(epochs, regularization, layers, optimizer, train_data, valid_data, name=None):\n",
    "    # Initialize a new W&B run, with the right parameters\n",
    "    wandb.init(project=\"regularization\",\n",
    "               name=name,\n",
    "               config={\"regularization\": regularization})\n",
    "\n",
    "    # Split the training and valid data into x and y\n",
    "    train_x, train_y = train_data\n",
    "    valid_x, valid_y = valid_data\n",
    "\n",
    "    for epoch in range(epochs):\n",
    "        running_loss = 0\n",
    "        for i in range(len(train_x)):\n",
    "            # Get the x and y batches\n",
    "            x_batch = train_x[i:(i+1)]\n",
    "            y_batch = train_y[i:(i+1)]\n",
    "            # Make a prediction\n",
    "            pred = forward(x_batch, layers)\n",
    "\n",
    "            # Run the backward pass\n",
    "            loss = pred - y_batch\n",
    "            layer_grads = backward(loss, layers)\n",
    "            running_loss += np.mean(loss ** 2)\n",
    "\n",
    "            # Run the optimizer\n",
    "            optimizer(layer_grads, layers, 1)\n",
    "\n",
    "        # Calculate and log validation loss\n",
    "        valid_preds = forward(valid_x, layers)\n",
    "        valid_loss = np.mean((valid_preds - valid_y) ** 2)\n",
    "        train_loss = running_loss / len(train_x)\n",
    "        wandb.log({\n",
    "            \"valid_loss\": valid_loss,\n",
    "            \"epoch\": epoch,\n",
    "            \"train_loss\": train_loss,\n",
    "        })\n",
    "\n",
    "    # Mark the run as complete\n",
    "    wandb.finish()"
   ],
   "metadata": {
    "collapsed": false
   }
  },
  {
   "cell_type": "markdown",
   "source": [
    "# Weight decay\n",
    "\n",
    "Weight decay is l2 regularization.  Goal is to shrink the weights towards 0 (lower the l2 norm).\n",
    "\n",
    "l1 regularization lowers the l1 norm (sum of absolute values of weights)."
   ],
   "metadata": {
    "collapsed": false
   }
  },
  {
   "cell_type": "code",
   "execution_count": 6,
   "outputs": [],
   "source": [
    "class SGDW():\n",
    "    def __init__(self, lr, decay):\n",
    "        self.lr = lr\n",
    "        self.decay = decay\n",
    "\n",
    "    def __call__(self, layer_grads, layers, batch_size):\n",
    "        # Loop through the layer grads.  Reverse the layers to match the grads (from output backward to input).\n",
    "        for layer_grad, layer in zip(layer_grads, reversed(layers)):\n",
    "            w_grad, b_grad = layer_grad\n",
    "\n",
    "            # Normalize the weight gradient by batch size\n",
    "            w_grad /= batch_size\n",
    "\n",
    "            # Calculate the update sizes\n",
    "            w_update = w_grad + self.decay * layer.weights\n",
    "            w_update *= -self.lr\n",
    "            # We don't usually decay the bias\n",
    "            b_update = -self.lr * b_grad\n",
    "\n",
    "            # Actually do the update\n",
    "            layer.update(w_update, b_update)"
   ],
   "metadata": {
    "collapsed": false
   }
  },
  {
   "cell_type": "code",
   "execution_count": null,
   "outputs": [],
   "source": [
    "layers = [\n",
    "    Dense(7, 25),\n",
    "    Dense(25, 10),\n",
    "    Dense(10, 1, activation=False)\n",
    "]\n",
    "# No decay is equal to SGD\n",
    "sgd = SGDW(1e-4, 0)\n",
    "training_run(10, \"None\", layers, sgd, train_data, valid_data, name=\"sgd\")"
   ],
   "metadata": {
    "collapsed": false,
    "pycharm": {
     "is_executing": true
    }
   }
  },
  {
   "cell_type": "code",
   "execution_count": null,
   "outputs": [],
   "source": [],
   "metadata": {
    "collapsed": false
   }
  },
  {
   "cell_type": "code",
   "execution_count": null,
   "outputs": [],
   "source": [
    "class Dropout():\n",
    "    def __init__(self, drop_p):\n",
    "        self.drop_p = drop_p\n",
    "\n",
    "    def forward(self, input):\n",
    "        # Generate a mask of 0s and 1s\n",
    "        self.mask = np.random.binomial(1, 1-self.drop_p, input.shape)\n",
    "        # Apply the mask.  If the mask is 0, the input is set to 0\n",
    "        return np.where(self.mask, input, 0)\n",
    "\n",
    "    def backward(self, grad):\n",
    "        # Use np.where to apply the mask\n",
    "        return np.where(self.mask, grad, 0)"
   ],
   "metadata": {
    "collapsed": false
   }
  },
  {
   "cell_type": "code",
   "execution_count": null,
   "outputs": [],
   "source": [
    "# 50% of inputs will be set to 0\n",
    "dropout = Dropout(0.5)\n",
    "dropout.forward(input_embed.forward(data[0][\"en\"]))"
   ],
   "metadata": {
    "collapsed": false
   }
  },
  {
   "cell_type": "code",
   "execution_count": null,
   "outputs": [],
   "source": [
    "- Weight decay\n",
    "- Early stopping"
   ],
   "metadata": {
    "collapsed": false
   }
  },
  {
   "cell_type": "code",
   "execution_count": null,
   "outputs": [],
   "source": [
    "# Improve generalization and convergence\n",
    "# Not strictly regularization\n",
    "\n",
    "- Layernorm\n",
    "- Residual connections\n"
   ],
   "metadata": {
    "collapsed": false
   }
  },
  {
   "cell_type": "code",
   "execution_count": null,
   "outputs": [],
   "source": [
    "class LayerNorm():\n",
    "    def __init__(self, embed_dim):\n",
    "        self.embed_dim = embed_dim\n",
    "\n",
    "    def forward(self, input):\n",
    "        # Cache for backward pass\n",
    "        self.input = input\n",
    "        # Calculate the mean and standard deviation\n",
    "        self.mean = np.mean(input, axis=1, keepdims=True)\n",
    "        self.std = np.std(input, axis=1, keepdims=True)\n",
    "        # Normalize the input\n",
    "        return (input - self.mean) / self.std\n",
    "\n",
    "    def backward(self, grad):\n",
    "        # Find the derivative of denominator\n",
    "        # Derivative of multiplication of (input - mean) and 1 / std wrt denominator\n",
    "        grad_denom = grad * (self.input - self.mean)\n",
    "        # std is a single number\n",
    "        grad_std = np.sum(grad_denom, axis=1, keepdims=True)\n",
    "        # Derivative of 1 / std\n",
    "        grad_std = grad_std * -1 / (self.std**2)\n",
    "\n",
    "        # Derivative of numerator\n",
    "        grad_num = grad * 1 / self.std\n",
    "        # Derivative of (input - mean) wrt mean\n",
    "        grad_mean = grad_num * -1\n",
    "        # Mean is a single number, so sum across grad\n",
    "        grad_mean = np.sum(grad_mean, axis=1, keepdims=True)\n",
    "        # Derivative of numerator wrt input\n",
    "        grad_input = grad_num\n",
    "\n",
    "        # Derivative of std wrt input and mean\n",
    "        # std formula is sqrt(sum((input - mean)**2) / n)\n",
    "        # Undo sqrt\n",
    "        grad_std = grad_std * .5 * 1 / self.std\n",
    "        # Undo division by n (multiplication by 1/n)\n",
    "        grad_std = grad_std * 1 / self.input.shape[1]\n",
    "        # Undo square and sum\n",
    "        grad_std = grad_std * 2 * (self.input - self.mean)\n",
    "        # Derivative wrt input\n",
    "        grad_input += grad_std\n",
    "        # Derivative wrt mean\n",
    "        grad_mean += grad_std * -1\n",
    "\n",
    "        # Derivative of mean wrt input, mean formula is sum(input) / n\n",
    "        # Undo division by n (multiplication by 1/n)\n",
    "        grad_mean = grad_mean * 1 / self.input.shape[1]\n",
    "        # The derivative of sum is to distribute the gradient across the input\n",
    "        # Any change to any single input will proportionally change the sum of the input\n",
    "        grad_input += grad_mean\n",
    "\n",
    "        return grad_input"
   ],
   "metadata": {
    "collapsed": false
   }
  },
  {
   "cell_type": "code",
   "execution_count": null,
   "outputs": [],
   "source": [],
   "metadata": {
    "collapsed": false
   }
  },
  {
   "cell_type": "code",
   "execution_count": null,
   "outputs": [],
   "source": [
    "layer_norm = LayerNorm(512)\n",
    "layer_norm.forward(input_embed.forward(data[0][\"en\"]))"
   ],
   "metadata": {
    "collapsed": false
   }
  },
  {
   "cell_type": "code",
   "execution_count": null,
   "outputs": [],
   "source": [
    "## Residual connections"
   ],
   "metadata": {
    "collapsed": false
   }
  }
 ],
 "metadata": {
  "kernelspec": {
   "display_name": "Python 3",
   "language": "python",
   "name": "python3"
  },
  "language_info": {
   "codemirror_mode": {
    "name": "ipython",
    "version": 2
   },
   "file_extension": ".py",
   "mimetype": "text/x-python",
   "name": "python",
   "nbconvert_exporter": "python",
   "pygments_lexer": "ipython2",
   "version": "2.7.6"
  }
 },
 "nbformat": 4,
 "nbformat_minor": 0
}
