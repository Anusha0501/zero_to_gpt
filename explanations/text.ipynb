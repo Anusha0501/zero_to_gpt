{
 "cells": [
  {
   "cell_type": "code",
   "execution_count": 1,
   "metadata": {
    "collapsed": true
   },
   "outputs": [
    {
     "data": {
      "text/plain": "                                                  en  \\\n0  In the society of his nephew and niece, and th...   \n1  By a former marriage, Mr. Henry Dashwood had o...   \n2  By his own marriage, likewise, which happened ...   \n3  But the fortune, which had been so tardy in co...   \n4  But Mrs. John Dashwood was a strong caricature...   \n\n                                                  es  \n0  En compañía de su sobrino y sobrina, y de los ...  \n1  De un matrimonio anterior, el señor Henry Dash...  \n2  Además, su propio matrimonio, ocurrido poco de...  \n3  Pero la fortuna, que había tardado tanto en ll...  \n4  Pero la señora de John Dashwood era una áspera...  ",
      "text/html": "<div>\n<style scoped>\n    .dataframe tbody tr th:only-of-type {\n        vertical-align: middle;\n    }\n\n    .dataframe tbody tr th {\n        vertical-align: top;\n    }\n\n    .dataframe thead th {\n        text-align: right;\n    }\n</style>\n<table border=\"1\" class=\"dataframe\">\n  <thead>\n    <tr style=\"text-align: right;\">\n      <th></th>\n      <th>en</th>\n      <th>es</th>\n    </tr>\n  </thead>\n  <tbody>\n    <tr>\n      <th>0</th>\n      <td>In the society of his nephew and niece, and th...</td>\n      <td>En compañía de su sobrino y sobrina, y de los ...</td>\n    </tr>\n    <tr>\n      <th>1</th>\n      <td>By a former marriage, Mr. Henry Dashwood had o...</td>\n      <td>De un matrimonio anterior, el señor Henry Dash...</td>\n    </tr>\n    <tr>\n      <th>2</th>\n      <td>By his own marriage, likewise, which happened ...</td>\n      <td>Además, su propio matrimonio, ocurrido poco de...</td>\n    </tr>\n    <tr>\n      <th>3</th>\n      <td>But the fortune, which had been so tardy in co...</td>\n      <td>Pero la fortuna, que había tardado tanto en ll...</td>\n    </tr>\n    <tr>\n      <th>4</th>\n      <td>But Mrs. John Dashwood was a strong caricature...</td>\n      <td>Pero la señora de John Dashwood era una áspera...</td>\n    </tr>\n  </tbody>\n</table>\n</div>"
     },
     "execution_count": 1,
     "metadata": {},
     "output_type": "execute_result"
    }
   ],
   "source": [
    "import pandas as pd\n",
    "\n",
    "opus = pd.read_csv(\"../data/opus_books.csv\")\n",
    "opus.head()"
   ]
  },
  {
   "cell_type": "code",
   "execution_count": 2,
   "outputs": [],
   "source": [
    "import re\n",
    "from collections import defaultdict\n",
    "\n",
    "special_tokens = {\n",
    "    \"PAD\": 0,\n",
    "    \"UNK\": 1,\n",
    "    \"BOS\": 2,\n",
    "    \"EOS\": 3\n",
    "}\n",
    "vocab = special_tokens.copy()\n",
    "\n",
    "def clean(text):\n",
    "    # Use re to replace punctuation that is not a comma, question mark, or period with spaces\n",
    "    text = re.sub(r'[^\\w\\s,?.!]',' ', text)\n",
    "    text = text.strip()\n",
    "    return text\n",
    "\n",
    "def tokenize(text):\n",
    "    # Split on consecutive whitespace and punctuation\n",
    "    tokens = re.findall(r'\\w+|[^\\w\\s]+|[\\s]+', text)\n",
    "    return tokens\n",
    "\n",
    "opus_tokens = defaultdict(int)\n",
    "for index, row in opus.iterrows():\n",
    "    for key in [\"en\", \"es\"]:\n",
    "        cleaned = clean(row[key])\n",
    "        tokens = tokenize(cleaned)\n",
    "        for token in tokens:\n",
    "            opus_tokens[token] += 1\n",
    "\n",
    "counter = 4\n",
    "for index, token in enumerate(opus_tokens):\n",
    "    # Filter out uncommon tokens\n",
    "    # Add unknown token for rare words\n",
    "    if opus_tokens[token] > 3:\n",
    "        vocab[token] = counter\n",
    "        counter += 1\n",
    "    else:\n",
    "        vocab[token] = 1 # Assign unknown id"
   ],
   "metadata": {
    "collapsed": false
   }
  },
  {
   "cell_type": "code",
   "execution_count": 3,
   "outputs": [],
   "source": [
    "import torch\n",
    "\n",
    "def encode(text, vocab):\n",
    "    # Encode text as a list of integers\n",
    "    tokens = tokenize(clean(text))\n",
    "    encoded = torch.tensor([vocab[token] for token in tokens])\n",
    "    return encoded\n",
    "\n",
    "reverse_vocab = {v: k for k, v in vocab.items()}\n",
    "for k,v in special_tokens.items():\n",
    "    reverse_vocab[v] = k\n",
    "\n",
    "def decode(encoded, reverse_vocab):\n",
    "    # Decode a list of integers into text\n",
    "    decoded = \"\".join([reverse_vocab[token] for token in encoded])\n",
    "    return decoded"
   ],
   "metadata": {
    "collapsed": false
   }
  },
  {
   "cell_type": "code",
   "execution_count": 11,
   "outputs": [],
   "source": [
    "data = []\n",
    "for index, row in opus.iterrows():\n",
    "    # Encode the English and Spanish sentences\n",
    "    en_text = row[\"en\"]\n",
    "    es_text = row[\"es\"]\n",
    "    en = encode(en_text, vocab)\n",
    "    es = encode(es_text, vocab)\n",
    "    if en.shape[0] < 11:\n",
    "        continue\n",
    "\n",
    "    # Generate our prediction target\n",
    "    target = torch.roll(es, -1)\n",
    "    target[-1] = 3 # EOS\n",
    "    data.append({\"en\": en, \"es\": es, \"en_text\": en_text, \"es_text\": es_text, \"target\": target})"
   ],
   "metadata": {
    "collapsed": false
   }
  },
  {
   "cell_type": "code",
   "execution_count": 12,
   "outputs": [
    {
     "data": {
      "text/plain": "{'en': tensor([1415,    5, 4384,    5,  853,    5,   87,    5,    6,    5, 4385,    5,\n            8,    5,  508,    5,    1,    5,   46,   12,    5,   10,    5,    8,\n            5,  240,    5,    9,    5,   50,    5,    1,   21]),\n 'es': tensor([4386,    5, 4387,    5,  102,    5,   35,    5, 4388,    5,   24,    5,\n          715,    5,   28,    5, 4389,    5, 4390,    5,   96,    5,  233,    5,\n         4391,    5,   26,    5,   24,    5,  155,    5,   25,    5,   62,    5,\n         4392,   21]),\n 'en_text': 'That crime has been the origin of every lesser one, and of all his present discontents.\"',\n 'es_text': 'Ese crimen fue el origen de todos los males menores que le siguieron y de todo su actual descontento.',\n 'target': tensor([   5, 4387,    5,  102,    5,   35,    5, 4388,    5,   24,    5,  715,\n            5,   28,    5, 4389,    5, 4390,    5,   96,    5,  233,    5, 4391,\n            5,   26,    5,   24,    5,  155,    5,   25,    5,   62,    5, 4392,\n           21,    3])}"
     },
     "execution_count": 12,
     "metadata": {},
     "output_type": "execute_result"
    }
   ],
   "source": [
    "data[1000]"
   ],
   "metadata": {
    "collapsed": false
   }
  },
  {
   "cell_type": "code",
   "execution_count": 6,
   "outputs": [],
   "source": [
    "import math\n",
    "from torch import nn\n",
    "\n",
    "class Embedding(nn.Module):\n",
    "    def __init__(self, vocab_size, embed_dim):\n",
    "        super().__init__()\n",
    "\n",
    "        k = 1/math.sqrt(embed_dim)\n",
    "        self.weights =  nn.Parameter(torch.rand(vocab_size, embed_dim) * 2 * k - k)\n",
    "        self.weights[0] = 0 # Zero out the padding embedding\n",
    "\n",
    "    def forward(self, token_ids):\n",
    "        # Cache for backward pass\n",
    "        self.token_ids = token_ids\n",
    "        # Return a matrix of embeddings\n",
    "        # We could convert token_ids to a one_hot vector and multiply by the weights, but it is the same as selecting a single row of the matrix\n",
    "        return self.weights[token_ids]\n",
    "\n",
    "    def backward_ex(self, grad, lr):\n",
    "        for i, token_id in enumerate(self.token_ids):\n",
    "            # Add the gradient to the embedding\n",
    "            # We could convert the input to one-hot, and do input.T * grad, but it is the same as adding the gradient to the embedding\n",
    "            # Subtracting the gradient is SGD optimization\n",
    "            self.weights[token_id] -= grad[i] * lr"
   ],
   "metadata": {
    "collapsed": false
   }
  },
  {
   "cell_type": "code",
   "execution_count": 10,
   "outputs": [
    {
     "name": "stdout",
     "output_type": "stream",
     "text": [
      "tensor([[-0.0180, -0.0180, -0.0311,  ...,  0.0327, -0.0429, -0.0340],\n",
      "        [ 0.0160,  0.0325,  0.0264,  ...,  0.0140,  0.0069,  0.0114],\n",
      "        [ 0.0324, -0.0011, -0.0428,  ..., -0.0121, -0.0344,  0.0096],\n",
      "        ...,\n",
      "        [ 0.0160,  0.0325,  0.0264,  ...,  0.0140,  0.0069,  0.0114],\n",
      "        [ 0.0246, -0.0015,  0.0057,  ...,  0.0323,  0.0210, -0.0365],\n",
      "        [ 0.0160,  0.0325,  0.0264,  ...,  0.0140,  0.0069,  0.0114]])\n"
     ]
    }
   ],
   "source": [
    "with torch.no_grad():\n",
    "    input_embed = Embedding(len(set(vocab.values())), 512)\n",
    "    print(input_embed(data[0][\"en\"][:10]))"
   ],
   "metadata": {
    "collapsed": false
   }
  },
  {
   "cell_type": "code",
   "execution_count": null,
   "outputs": [],
   "source": [
    "class TokenPredictor(nn.Module):\n",
    "    def __init__(self, vocab_size, input_token_count, hidden_units):\n",
    "        super().__init__()\n",
    "\n",
    "        torch.manual_seed(0)\n",
    "        self.embedding = Embedding(vocab_size, hidden_units)\n",
    "        self.dense1 = nn.Linear(hidden_units, hidden_units)\n",
    "        self.relu = nn.ReLU()\n",
    "        self.dense2 = nn.Linear(hidden_units, hidden_units)\n",
    "        self.output = nn.Linear(hidden_units * input_token_count, hidden_units)\n",
    "\n",
    "    def forward(self, x):\n",
    "        # Embed from (token_count, vocab_size) to (token_count, hidden_size)\n",
    "        embedded = self.embedding(x)\n",
    "        # Run the network\n",
    "        x = self.dense2(self.relu(self.dense1(embedded)))\n",
    "        # Flatten the vectors into one large vector for the final layer\n",
    "        flat = torch.flatten(x).unsqueeze(0)\n",
    "        # Run the final layer to get an output\n",
    "        network_out = self.output(flat)\n",
    "        # Unembed, convert to (1, vocab_size).  Argmax against last dim gives predicted token\n",
    "        out_vector = network_out @ self.embedding.weights.T\n",
    "        return out_vector"
   ],
   "metadata": {
    "collapsed": false
   }
  }
 ],
 "metadata": {
  "kernelspec": {
   "display_name": "Python 3",
   "language": "python",
   "name": "python3"
  },
  "language_info": {
   "codemirror_mode": {
    "name": "ipython",
    "version": 2
   },
   "file_extension": ".py",
   "mimetype": "text/x-python",
   "name": "python",
   "nbconvert_exporter": "python",
   "pygments_lexer": "ipython2",
   "version": "2.7.6"
  }
 },
 "nbformat": 4,
 "nbformat_minor": 0
}
