{
 "cells": [
  {
   "cell_type": "markdown",
   "source": [
    "# Backpropagation in depth\n",
    "\n",
    "In the [last lesson](https://github.com/VikParuchuri/zero_to_gpt/blob/master/explanations/rnn.ipynb), we learned how to create a recurrent neural network.  We now know how to build several network architectures using components like dense layers, softmax, and recurrent layers.\n",
    "\n",
    "We've been a bit loose with how we cover backpropagation, to make neural network architecture easier to understand.  In this lesson, we'll do a deep dive into how backpropagation works.  We'll do this by building a computational graph that keeps track of the different operations that transform the input data."
   ],
   "metadata": {
    "collapsed": false
   }
  },
  {
   "cell_type": "markdown",
   "source": [
    "# The Softmax function\n",
    "\n",
    "In a previous lesson, we introduced the softmax function.  This is used to convert the output of a neural network into probabilities that can be used to make predictions.  The softmax function is defined as:\n",
    "\n",
    "$$\\zeta=\\frac{e^{\\hat{y_{i}}}}{\\sum_{j=0}e^{\\hat{y_{j}}}}$$\n",
    "\n",
    "For each row of our neural network output, we raise $e$ to the power of our output value, then divide by the sum of $e$ raised to the power of each of the outputs for that row.\n",
    "\n",
    "The softmax function looks like this in code:"
   ],
   "metadata": {
    "collapsed": false
   }
  },
  {
   "cell_type": "code",
   "execution_count": 94,
   "outputs": [],
   "source": [
    "import numpy as np\n",
    "\n",
    "def softmax_func(normalized):\n",
    "    raised = np.exp(normalized)\n",
    "    output = raised / np.sum(raised, axis=1).reshape(-1,1)\n",
    "    return output"
   ],
   "metadata": {
    "collapsed": false
   }
  },
  {
   "cell_type": "markdown",
   "source": [
    "We can test the softmax function out using some fake data that we generate:"
   ],
   "metadata": {
    "collapsed": false
   }
  },
  {
   "cell_type": "code",
   "execution_count": 95,
   "outputs": [],
   "source": [
    "# 5 rows and 3 columns of random numbers\n",
    "x = np.random.rand(5, 3)\n",
    "\n",
    "# Generate random correct labels for later\n",
    "# Exactly one label per row will be correct\n",
    "y = np.zeros_like(x)\n",
    "inds = (np.arange(0,y.shape[0]), np.random.randint(0, 3, size=y.shape[0]))\n",
    "y[inds] = 1"
   ],
   "metadata": {
    "collapsed": false
   }
  },
  {
   "cell_type": "markdown",
   "source": [
    "`x` is our input to the softmax function.  It has `3` columns.  `y` is our target, where each row is a one-hot encoded vector.  The `1` will correspond to the correct label for each row.\n",
    "\n",
    "We can then apply the softmax function:"
   ],
   "metadata": {
    "collapsed": false
   }
  },
  {
   "cell_type": "code",
   "execution_count": 96,
   "outputs": [
    {
     "data": {
      "text/plain": "array([[0.22732472, 0.49351605, 0.27915924],\n       [0.23680371, 0.42409656, 0.33909974],\n       [0.25345826, 0.28947079, 0.45707095],\n       [0.31834377, 0.2267382 , 0.45491803],\n       [0.3447221 , 0.31874947, 0.33652842]])"
     },
     "execution_count": 96,
     "metadata": {},
     "output_type": "execute_result"
    }
   ],
   "source": [
    "normalized = x - np.max(x, axis=-1).reshape(-1,1)\n",
    "softmax_func(normalized)"
   ],
   "metadata": {
    "collapsed": false
   }
  },
  {
   "cell_type": "markdown",
   "source": [
    "In the above code, we subtract the maximum from each element in the row before passing the data into the softmax function.  This prevents numerical underflow or overflow.  Each [numeric type](https://numpy.org/doc/stable/user/basics.types.html) (float, integer, etc) can only hold a certain number of digits.  For example, floating point 16 can store 5 exponent bits, and ten digit bits (each bit is only base 2, so this is less than the same number of base-10 digits).  The maximum value we can store in `float16` is `65500`:"
   ],
   "metadata": {
    "collapsed": false
   }
  },
  {
   "cell_type": "code",
   "execution_count": 97,
   "outputs": [
    {
     "data": {
      "text/plain": "65500.0"
     },
     "execution_count": 97,
     "metadata": {},
     "output_type": "execute_result"
    }
   ],
   "source": [
    "# Check the maximum value we can assign to float16\n",
    "np.finfo('float16').max"
   ],
   "metadata": {
    "collapsed": false
   }
  },
  {
   "cell_type": "code",
   "execution_count": 98,
   "outputs": [
    {
     "name": "stderr",
     "output_type": "stream",
     "text": [
      "/var/folders/xz/9z84c__j28g8tg28bmcthjj00000gn/T/ipykernel_97987/2542651828.py:3: RuntimeWarning: overflow encountered in cast\n",
      "  a[0] = 6.55e5\n"
     ]
    }
   ],
   "source": [
    "# This is an example of numeric overflow, where we store more digits than float16 can hold\n",
    "a = np.array([0], dtype=np.float16)\n",
    "a[0] = 6.55e5"
   ],
   "metadata": {
    "collapsed": false
   }
  },
  {
   "cell_type": "markdown",
   "source": [
    "When we raise $e$ to a very large or small number, we can generate a number that is too large to store in our specific data type.  Subtracting the max gives us the same end result, but reduces the risk of overflow.  Feel free to try the softmax out with and without subtracting the max to see how it works!"
   ],
   "metadata": {
    "collapsed": false
   }
  },
  {
   "cell_type": "markdown",
   "source": [
    "# Staged Softmax\n",
    "\n",
    "Instead of computing the softmax derivative, we previously used the fact that the derivative of the softmax and negative log likelihood functions \"cancel out\", and end up with a derivative of $p-y$.  But what if we want to find the derivative ourselves?\n",
    "\n",
    "We can approach it analytically, and find the derivative of the entire function.  We can even use SymPy to help us do the derivation, like we did in an earlier lesson.  But an easier method is to break the softmax function apart into individual operations.  Each operation will make a single modification to the data:\n",
    "\n",
    "![](images/comp_graph/softmax_steps.svg)\n",
    "\n",
    "We perform 3 operations on the data:\n",
    "\n",
    "- Exp - we raise e to the power x.\n",
    "- Sum - we add up the $e^x$ values for each row.\n",
    "- Divide - we divide the $e^x$ values by the sums.\n",
    "\n",
    "Note that the output of `Exp` is passed to both the `Sum` and `Divide` operations.\n",
    "\n",
    "By breaking up the softmax this way, we can take the derivative of each individual piece instead of the whole function at once.  By the [chain rule](https://www.khanacademy.org/math/ap-calculus-ab/ab-differentiation-2-new/ab-3-1a/a/chain-rule-review), multiplying the derivative of each individual operation will result in the derivative of the whole function."
   ],
   "metadata": {
    "collapsed": false
   }
  },
  {
   "cell_type": "markdown",
   "source": [
    "Now we can build the forward pass of our staged softmax.  The derivative of multiplication is easier to calculate than division, so we'll swap some of our operations to remove the division.\n",
    "\n",
    "Luckily for us, raising a value `x` to the power `-1` is the same as taking `1/x`.  So instead of dividing `Exp/Sum`, we can do `Exp * Sum ^ -1$, leaving us with these operations:\n",
    "\n",
    "- Exp\n",
    "- Sum\n",
    "- Pow - we invert the sum by raising to the power `-1`\n",
    "- Multiply - we multiply the inverted sum and the exp values"
   ],
   "metadata": {
    "collapsed": false
   }
  },
  {
   "cell_type": "code",
   "execution_count": 99,
   "outputs": [],
   "source": [
    "raised = np.exp(x) # step 1\n",
    "summed = np.sum(raised, axis=-1).reshape(-1,1) # step 2\n",
    "pow = summed ** -1 # step 3\n",
    "staged_softmax = raised * pow # step 4"
   ],
   "metadata": {
    "collapsed": false
   }
  },
  {
   "cell_type": "code",
   "execution_count": 100,
   "outputs": [
    {
     "data": {
      "text/plain": "array([[0.22732472, 0.49351605, 0.27915924],\n       [0.23680371, 0.42409656, 0.33909974],\n       [0.25345826, 0.28947079, 0.45707095],\n       [0.31834377, 0.2267382 , 0.45491803],\n       [0.3447221 , 0.31874947, 0.33652842]])"
     },
     "execution_count": 100,
     "metadata": {},
     "output_type": "execute_result"
    }
   ],
   "source": [
    "staged_softmax"
   ],
   "metadata": {
    "collapsed": false
   }
  },
  {
   "cell_type": "markdown",
   "source": [
    "Our staged softmax has the exact same output as our original function."
   ],
   "metadata": {
    "collapsed": false
   }
  },
  {
   "cell_type": "markdown",
   "source": [
    "# Softmax Derivative\n",
    "\n",
    "To get the derivative of the softmax, we need to reverse the operations we did before:\n",
    "\n",
    "![](images/comp_graph/softmax_steps_full_bwd.svg)\n",
    "\n",
    "We will take in the derivative of the loss with respect to the output of the softmax.  Then each operation will compute the derivative of the loss with respect to the input operations.  Note that `Exp` is input to two operations, so it will sum both gradients.\n",
    "\n",
    "To calculate loss, we'll use negative log likelihood, which is $NLL = - \\sum_{i=0} y_{i} \\log p_{i}$.  Since $y$ is only non-zero at one position per row, this will only have a single term (basically $-y_{i} * \\log p_{i}$ where $i$ is the correct label where $y$ equals `1`).\n",
    "\n",
    "We'll use the negative log likelihood derivative below:"
   ],
   "metadata": {
    "collapsed": false
   }
  },
  {
   "cell_type": "code",
   "execution_count": 101,
   "outputs": [],
   "source": [
    "def nll_grad(y, pred):\n",
    "    return -1 * y / pred\n",
    "\n",
    "loss_grad = nll_grad(y, staged_softmax)"
   ],
   "metadata": {
    "collapsed": false
   }
  },
  {
   "cell_type": "markdown",
   "source": [
    "We can then calculate the softmax derivative by multiplying the derivatives of the individual operations.  Remember that a derivative is the rate of change of a function as we change the input.\n",
    "\n",
    "- Exp - the derivative of $e^x$ is $e^x$ (this is a very cool property of $e$!)\n",
    "- Sum - since a sum operation will combine input elements into one, we just distribute the gradient over all input elements.  A change to any of the input elements will have a direct impact on the output.\n",
    "- Pow - the derivative of $x^{-1}$ is $-1 * x^{-2}$.  More on this [here](https://www.khanacademy.org/math/old-ap-calculus-ab/ab-derivative-rules/ab-diff-negative-fraction-powers/a/power-rule-review).\n",
    "- Multiply - the derivatives of $x*y$ are $y$ wrt $x$ and $x$ wrt $y$.  This is because any change to $x$ is multiplied by $y$, and vice versa.  Thus the rate of change of $x$ is $y$, and vice versa.\n",
    "\n",
    "We can now create the backward pass of our staged softmax.  The backward pass will start with the loss gradient.  This will be a matrix showing how much we need to adjust each of the output values from our softmax to reduce our loss.  We can then compute gradients for each operation, ending with the gradient against the input, `x`.  If `x` was the output of a neural network, we would continue backpropagation at that point to adjust the network parameters.\n",
    "\n",
    "We'll name each gradient according to the step it is a gradient for, not the step it is coming from.  So `raised_grad` is the gradient on `raised`."
   ],
   "metadata": {
    "collapsed": false
   }
  },
  {
   "cell_type": "code",
   "execution_count": 102,
   "outputs": [],
   "source": [
    "# Step 4 derivative\n",
    "raised_grad = loss_grad * pow\n",
    "pow_grad = loss_grad * raised\n",
    "pow_grad = np.sum(pow_grad, axis=-1).reshape(-1,1) # reshape gradient to match input data\n",
    "\n",
    "# Step 3\n",
    "summed_grad = (-1 * summed ** -2) * pow_grad\n",
    "\n",
    "# Step 2\n",
    "raised_grad_2 = np.ones_like(raised) * summed_grad # distribute gradient across inputs\n",
    "\n",
    "# Step 1\n",
    "raised_grad += raised_grad_2 # sum incoming gradients\n",
    "staged_softmax_grad = raised_grad * np.exp(x)"
   ],
   "metadata": {
    "collapsed": false
   }
  },
  {
   "cell_type": "markdown",
   "source": [
    "We did two things above that might be confusing.  The first is that we summed 2 gradients on raised.  This is because raised connects to 2 operations, and both have separate gradients.  Whenever this happens, we sum the gradients.\n",
    "\n",
    "The second is that we reshaped `pow_grad` to have a single column.  This is to match `pow`, which only had `1` column in the forward pass.  Whenever a gradient doesn't match the shape of the input data, we change the size of the gradient to match it.  This is because the gradient represents the partial derivative against each parameter in the input data.\n"
   ],
   "metadata": {
    "collapsed": false
   }
  },
  {
   "cell_type": "markdown",
   "source": [
    "We can compare our result to the derivative of the softmax equation to make sure everything worked.  We first define the derivative in code:"
   ],
   "metadata": {
    "collapsed": false
   }
  },
  {
   "cell_type": "code",
   "execution_count": 103,
   "outputs": [],
   "source": [
    "def calculate_derived_softmax_grad(softmax, loss_grad):\n",
    "    output = np.zeros_like(softmax)\n",
    "    for i in range(softmax.shape[0]):\n",
    "        sm_row = softmax[i,:]\n",
    "        sm_grad = (-np.outer(sm_row, sm_row) + np.diag(sm_row.flatten()))\n",
    "        row_grad = sm_grad * loss_grad[i,:].reshape(1,-1)\n",
    "        output[i,:] = np.sum(row_grad, -1)\n",
    "    return output"
   ],
   "metadata": {
    "collapsed": false
   }
  },
  {
   "cell_type": "markdown",
   "source": [
    "We then compare our derivative by stages with the derivation:"
   ],
   "metadata": {
    "collapsed": false
   }
  },
  {
   "cell_type": "code",
   "execution_count": 104,
   "outputs": [
    {
     "data": {
      "text/plain": "True"
     },
     "execution_count": 104,
     "metadata": {},
     "output_type": "execute_result"
    }
   ],
   "source": [
    "derived_softmax_grad = calculate_derived_softmax_grad(staged_softmax, loss_grad)\n",
    "np.allclose(derived_softmax_grad, staged_softmax_grad)"
   ],
   "metadata": {
    "collapsed": false
   }
  },
  {
   "cell_type": "markdown",
   "source": [
    "What if we want to do this for more complex functions without typing out all the stages?\n",
    "\n",
    "We can define each operation once, then mix and match operations."
   ],
   "metadata": {
    "collapsed": false
   }
  },
  {
   "cell_type": "code",
   "execution_count": 105,
   "outputs": [],
   "source": [
    "import sys, os\n",
    "sys.path.append(os.path.abspath(\"../nnets\"))\n",
    "from graph import Node, Parameter, display_chain\n",
    "\n",
    "class Exp(Node):\n",
    "    def forward(self, x):\n",
    "        return np.exp(x)\n",
    "\n",
    "    def backward(self, grad):\n",
    "        x = self.cache[0]\n",
    "        return np.exp(x) * grad\n",
    "\n",
    "class Sum(Node):\n",
    "    def forward(self, x):\n",
    "        return np.sum(x, axis=-1).reshape(-1,1)\n",
    "\n",
    "    def backward(self, grad):\n",
    "        x = self.cache[0]\n",
    "        return np.ones_like(x) * grad\n",
    "\n",
    "class Pow(Node):\n",
    "    def forward(self, x, exponent):\n",
    "        return x ** exponent\n",
    "\n",
    "    def backward(self, grad):\n",
    "        x, exponent = self.cache\n",
    "        return grad * exponent * x ** (exponent - 1), 1\n",
    "\n",
    "\n",
    "class Multiply(Node):\n",
    "    def forward(self, x, y):\n",
    "        return x * y\n",
    "\n",
    "    def backward(self, grad):\n",
    "        x, y = self.cache\n",
    "        return grad * y, grad * x"
   ],
   "metadata": {
    "collapsed": false
   }
  },
  {
   "cell_type": "code",
   "execution_count": 106,
   "outputs": [],
   "source": [
    "X = Parameter(x, desc=\"X\", needs_grad=True)\n",
    "\n",
    "raised = Exp(X, out=\"e^X\")\n",
    "summed = Sum(raised, out=\"sum(e^X)\")\n",
    "\n",
    "negative_one = Parameter(-1, desc=\"-1\", needs_grad=False)\n",
    "inverted = Pow(summed, negative_one, out=\"1 / sum(e^X)\")\n",
    "softmax = Multiply(raised, inverted, out=\"softmax(X)\")"
   ],
   "metadata": {
    "collapsed": false
   }
  },
  {
   "cell_type": "code",
   "execution_count": 107,
   "outputs": [
    {
     "data": {
      "image/svg+xml": "<?xml version=\"1.0\" encoding=\"UTF-8\" standalone=\"no\"?>\n<!DOCTYPE svg PUBLIC \"-//W3C//DTD SVG 1.1//EN\"\n \"http://www.w3.org/Graphics/SVG/1.1/DTD/svg11.dtd\">\n<!-- Generated by graphviz version 7.0.6 (20230106.0513)\n -->\n<!-- Title: fwd_pass Pages: 1 -->\n<svg width=\"614pt\" height=\"128pt\"\n viewBox=\"0.00 0.00 614.09 128.00\" xmlns=\"http://www.w3.org/2000/svg\" xmlns:xlink=\"http://www.w3.org/1999/xlink\">\n<g id=\"graph0\" class=\"graph\" transform=\"scale(1 1) rotate(0) translate(4 124)\">\n<title>fwd_pass</title>\n<polygon fill=\"white\" stroke=\"none\" points=\"-4,4 -4,-124 610.09,-124 610.09,4 -4,4\"/>\n<!-- 5664383344 -->\n<g id=\"node1\" class=\"node\">\n<title>5664383344</title>\n<ellipse fill=\"none\" stroke=\"black\" cx=\"563.84\" cy=\"-18\" rx=\"42.49\" ry=\"18\"/>\n<text text-anchor=\"middle\" x=\"563.84\" y=\"-14.3\" font-family=\"Times,serif\" font-size=\"14.00\">Multiply</text>\n</g>\n<!-- 5664375232 -->\n<g id=\"node2\" class=\"node\">\n<title>5664375232</title>\n<ellipse fill=\"none\" stroke=\"black\" cx=\"127\" cy=\"-18\" rx=\"27\" ry=\"18\"/>\n<text text-anchor=\"middle\" x=\"127\" y=\"-14.3\" font-family=\"Times,serif\" font-size=\"14.00\">Exp</text>\n</g>\n<!-- 5664375232&#45;&gt;5664383344 -->\n<g id=\"edge2\" class=\"edge\">\n<title>5664375232&#45;&gt;5664383344</title>\n<path fill=\"none\" stroke=\"black\" d=\"M154.22,-18C224.04,-18 415.52,-18 509.46,-18\"/>\n<polygon fill=\"black\" stroke=\"black\" points=\"509.44,-21.5 519.44,-18 509.44,-14.5 509.44,-21.5\"/>\n<text text-anchor=\"middle\" x=\"313.1\" y=\"-21.8\" font-family=\"Times,serif\" font-size=\"14.00\">e^X</text>\n</g>\n<!-- 5664384784 -->\n<g id=\"node5\" class=\"node\">\n<title>5664384784</title>\n<ellipse fill=\"none\" stroke=\"black\" cx=\"240.3\" cy=\"-102\" rx=\"27.1\" ry=\"18\"/>\n<text text-anchor=\"middle\" x=\"240.3\" y=\"-98.3\" font-family=\"Times,serif\" font-size=\"14.00\">Sum</text>\n</g>\n<!-- 5664375232&#45;&gt;5664384784 -->\n<g id=\"edge3\" class=\"edge\">\n<title>5664375232&#45;&gt;5664384784</title>\n<path fill=\"none\" stroke=\"black\" d=\"M145.39,-31.12C163.42,-44.73 191.82,-66.17 212.68,-81.91\"/>\n<polygon fill=\"black\" stroke=\"black\" points=\"210.36,-84.55 220.45,-87.78 214.58,-78.96 210.36,-84.55\"/>\n<text text-anchor=\"middle\" x=\"183.5\" y=\"-70.8\" font-family=\"Times,serif\" font-size=\"14.00\">e^X</text>\n</g>\n<!-- 5664384112 -->\n<g id=\"node3\" class=\"node\">\n<title>5664384112</title>\n<ellipse fill=\"none\" stroke=\"black\" cx=\"27\" cy=\"-18\" rx=\"27\" ry=\"18\"/>\n<text text-anchor=\"middle\" x=\"27\" y=\"-14.3\" font-family=\"Times,serif\" font-size=\"14.00\">X</text>\n</g>\n<!-- 5664384112&#45;&gt;5664375232 -->\n<g id=\"edge1\" class=\"edge\">\n<title>5664384112&#45;&gt;5664375232</title>\n<path fill=\"none\" stroke=\"black\" d=\"M54.26,-18C64.7,-18 76.9,-18 88.25,-18\"/>\n<polygon fill=\"black\" stroke=\"black\" points=\"88.15,-21.5 98.15,-18 88.15,-14.5 88.15,-21.5\"/>\n<text text-anchor=\"middle\" x=\"77\" y=\"-21.8\" font-family=\"Times,serif\" font-size=\"14.00\">X</text>\n</g>\n<!-- 5664377296 -->\n<g id=\"node4\" class=\"node\">\n<title>5664377296</title>\n<ellipse fill=\"none\" stroke=\"black\" cx=\"385.6\" cy=\"-48\" rx=\"27\" ry=\"18\"/>\n<text text-anchor=\"middle\" x=\"385.6\" y=\"-44.3\" font-family=\"Times,serif\" font-size=\"14.00\">Pow</text>\n</g>\n<!-- 5664377296&#45;&gt;5664383344 -->\n<g id=\"edge6\" class=\"edge\">\n<title>5664377296&#45;&gt;5664383344</title>\n<path fill=\"none\" stroke=\"black\" d=\"M412.22,-43.64C438.44,-39.17 479.87,-32.12 512.64,-26.54\"/>\n<polygon fill=\"black\" stroke=\"black\" points=\"513.07,-30.02 522.34,-24.89 511.9,-23.12 513.07,-30.02\"/>\n<text text-anchor=\"middle\" x=\"467.1\" y=\"-42.8\" font-family=\"Times,serif\" font-size=\"14.00\">1 / sum(e^X)</text>\n</g>\n<!-- 5664384784&#45;&gt;5664377296 -->\n<g id=\"edge4\" class=\"edge\">\n<title>5664384784&#45;&gt;5664377296</title>\n<path fill=\"none\" stroke=\"black\" d=\"M265.14,-94.11C285.36,-87.3 315.06,-77 340.6,-67 344.46,-65.48 348.5,-63.84 352.49,-62.17\"/>\n<polygon fill=\"black\" stroke=\"black\" points=\"353.57,-65.51 361.39,-58.36 350.82,-59.07 353.57,-65.51\"/>\n<text text-anchor=\"middle\" x=\"313.1\" y=\"-89.8\" font-family=\"Times,serif\" font-size=\"14.00\">sum(e^X)</text>\n</g>\n<!-- 5664377488 -->\n<g id=\"node6\" class=\"node\">\n<title>5664377488</title>\n<ellipse fill=\"none\" stroke=\"black\" cx=\"240.3\" cy=\"-48\" rx=\"27\" ry=\"18\"/>\n<text text-anchor=\"middle\" x=\"240.3\" y=\"-44.3\" font-family=\"Times,serif\" font-size=\"14.00\">&#45;1</text>\n</g>\n<!-- 5664377488&#45;&gt;5664377296 -->\n<g id=\"edge5\" class=\"edge\">\n<title>5664377488&#45;&gt;5664377296</title>\n<path fill=\"none\" stroke=\"black\" d=\"M267.58,-48C289.9,-48 322.2,-48 347.21,-48\"/>\n<polygon fill=\"black\" stroke=\"black\" points=\"346.97,-51.5 356.97,-48 346.97,-44.5 346.97,-51.5\"/>\n<text text-anchor=\"middle\" x=\"313.1\" y=\"-51.8\" font-family=\"Times,serif\" font-size=\"14.00\">&#45;1</text>\n</g>\n</g>\n</svg>\n",
      "text/plain": "<graphviz.graphs.Digraph at 0x1519f8580>"
     },
     "execution_count": 107,
     "metadata": {},
     "output_type": "execute_result"
    }
   ],
   "source": [
    "softmax.generate_graph()"
   ],
   "metadata": {
    "collapsed": false
   }
  },
  {
   "cell_type": "code",
   "execution_count": 108,
   "outputs": [
    {
     "data": {
      "text/plain": "True"
     },
     "execution_count": 108,
     "metadata": {},
     "output_type": "execute_result"
    }
   ],
   "source": [
    "operations_softmax = softmax.apply_fwd()\n",
    "\n",
    "np.allclose(staged_softmax, operations_softmax)"
   ],
   "metadata": {
    "collapsed": false
   }
  },
  {
   "cell_type": "code",
   "execution_count": 109,
   "outputs": [
    {
     "data": {
      "image/svg+xml": "<?xml version=\"1.0\" encoding=\"UTF-8\" standalone=\"no\"?>\n<!DOCTYPE svg PUBLIC \"-//W3C//DTD SVG 1.1//EN\"\n \"http://www.w3.org/Graphics/SVG/1.1/DTD/svg11.dtd\">\n<!-- Generated by graphviz version 7.0.6 (20230106.0513)\n -->\n<!-- Title: fwd_pass Pages: 1 -->\n<svg width=\"678pt\" height=\"139pt\"\n viewBox=\"0.00 0.00 678.09 139.00\" xmlns=\"http://www.w3.org/2000/svg\" xmlns:xlink=\"http://www.w3.org/1999/xlink\">\n<g id=\"graph0\" class=\"graph\" transform=\"scale(1 1) rotate(0) translate(4 135)\">\n<title>fwd_pass</title>\n<polygon fill=\"white\" stroke=\"none\" points=\"-4,4 -4,-135 674.09,-135 674.09,4 -4,4\"/>\n<!-- 5664383344 -->\n<g id=\"node1\" class=\"node\">\n<title>5664383344</title>\n<ellipse fill=\"none\" stroke=\"black\" cx=\"42.25\" cy=\"-95\" rx=\"42.49\" ry=\"18\"/>\n<text text-anchor=\"middle\" x=\"42.25\" y=\"-91.3\" font-family=\"Times,serif\" font-size=\"14.00\">Multiply</text>\n</g>\n<!-- 5664375232 -->\n<g id=\"node2\" class=\"node\">\n<title>5664375232</title>\n<ellipse fill=\"none\" stroke=\"black\" cx=\"527.09\" cy=\"-95\" rx=\"27\" ry=\"18\"/>\n<text text-anchor=\"middle\" x=\"527.09\" y=\"-91.3\" font-family=\"Times,serif\" font-size=\"14.00\">Exp</text>\n</g>\n<!-- 5664383344&#45;&gt;5664375232 -->\n<g id=\"edge2\" class=\"edge\">\n<title>5664383344&#45;&gt;5664375232</title>\n<path fill=\"none\" stroke=\"red\" d=\"M82.03,-101.75C88.83,-102.69 95.85,-103.5 102.49,-104 270.72,-116.7 314.24,-120.99 482.09,-104 484.61,-103.74 487.2,-103.41 489.8,-103.02\"/>\n<polygon fill=\"red\" stroke=\"red\" points=\"490.36,-106.47 499.6,-101.29 489.15,-99.58 490.36,-106.47\"/>\n<text text-anchor=\"middle\" x=\"316.99\" y=\"-119.8\" font-family=\"Times,serif\" font-size=\"14.00\">d(e^X)</text>\n</g>\n<!-- 5664377296 -->\n<g id=\"node4\" class=\"node\">\n<title>5664377296</title>\n<ellipse fill=\"none\" stroke=\"black\" cx=\"236.49\" cy=\"-72\" rx=\"27\" ry=\"18\"/>\n<text text-anchor=\"middle\" x=\"236.49\" y=\"-68.3\" font-family=\"Times,serif\" font-size=\"14.00\">Pow</text>\n</g>\n<!-- 5664383344&#45;&gt;5664377296 -->\n<g id=\"edge6\" class=\"edge\">\n<title>5664383344&#45;&gt;5664377296</title>\n<path fill=\"none\" stroke=\"red\" d=\"M83.55,-90.18C117.38,-86.13 165.33,-80.39 198.26,-76.45\"/>\n<polygon fill=\"red\" stroke=\"red\" points=\"198.65,-79.93 208.16,-75.27 197.82,-72.98 198.65,-79.93\"/>\n<text text-anchor=\"middle\" x=\"146.99\" y=\"-91.8\" font-family=\"Times,serif\" font-size=\"14.00\">d(1 / sum(e^X))</text>\n</g>\n<!-- 5664384112 -->\n<g id=\"node3\" class=\"node\">\n<title>5664384112</title>\n<ellipse fill=\"none\" stroke=\"black\" cx=\"643.09\" cy=\"-95\" rx=\"27\" ry=\"18\"/>\n<text text-anchor=\"middle\" x=\"643.09\" y=\"-91.3\" font-family=\"Times,serif\" font-size=\"14.00\">X</text>\n</g>\n<!-- 5664375232&#45;&gt;5664384112 -->\n<g id=\"edge1\" class=\"edge\">\n<title>5664375232&#45;&gt;5664384112</title>\n<path fill=\"none\" stroke=\"red\" d=\"M554.53,-95C569.35,-95 588.08,-95 604.41,-95\"/>\n<polygon fill=\"red\" stroke=\"red\" points=\"604.28,-98.5 614.28,-95 604.28,-91.5 604.28,-98.5\"/>\n<text text-anchor=\"middle\" x=\"585.09\" y=\"-98.8\" font-family=\"Times,serif\" font-size=\"14.00\">d(X)</text>\n</g>\n<!-- 5664384784 -->\n<g id=\"node5\" class=\"node\">\n<title>5664384784</title>\n<ellipse fill=\"none\" stroke=\"black\" cx=\"397.79\" cy=\"-72\" rx=\"27.1\" ry=\"18\"/>\n<text text-anchor=\"middle\" x=\"397.79\" y=\"-68.3\" font-family=\"Times,serif\" font-size=\"14.00\">Sum</text>\n</g>\n<!-- 5664377296&#45;&gt;5664384784 -->\n<g id=\"edge4\" class=\"edge\">\n<title>5664377296&#45;&gt;5664384784</title>\n<path fill=\"none\" stroke=\"red\" d=\"M263.8,-72C289.74,-72 329.65,-72 358.99,-72\"/>\n<polygon fill=\"red\" stroke=\"red\" points=\"358.93,-75.5 368.93,-72 358.93,-68.5 358.93,-75.5\"/>\n<text text-anchor=\"middle\" x=\"316.99\" y=\"-75.8\" font-family=\"Times,serif\" font-size=\"14.00\">d(sum(e^X))</text>\n</g>\n<!-- 5664377488 -->\n<g id=\"node6\" class=\"node\">\n<title>5664377488</title>\n<ellipse fill=\"none\" stroke=\"black\" cx=\"397.79\" cy=\"-18\" rx=\"27\" ry=\"18\"/>\n<text text-anchor=\"middle\" x=\"397.79\" y=\"-14.3\" font-family=\"Times,serif\" font-size=\"14.00\">&#45;1</text>\n</g>\n<!-- 5664377296&#45;&gt;5664377488 -->\n<g id=\"edge5\" class=\"edge\">\n<title>5664377296&#45;&gt;5664377488</title>\n<path fill=\"none\" stroke=\"red\" d=\"M261,-64.03C287.82,-54.94 331.93,-39.99 362.57,-29.6\"/>\n<polygon fill=\"red\" stroke=\"red\" points=\"363.41,-33.01 371.76,-26.49 361.16,-26.38 363.41,-33.01\"/>\n</g>\n<!-- 5664384784&#45;&gt;5664375232 -->\n<g id=\"edge3\" class=\"edge\">\n<title>5664384784&#45;&gt;5664375232</title>\n<path fill=\"none\" stroke=\"red\" d=\"M424.24,-76.6C442.98,-79.98 468.72,-84.63 489.63,-88.41\"/>\n<polygon fill=\"red\" stroke=\"red\" points=\"488.72,-91.81 499.19,-90.14 489.97,-84.92 488.72,-91.81\"/>\n<text text-anchor=\"middle\" x=\"462.59\" y=\"-90.8\" font-family=\"Times,serif\" font-size=\"14.00\">d(e^X)</text>\n</g>\n</g>\n</svg>\n",
      "text/plain": "<graphviz.graphs.Digraph at 0x1519f9ed0>"
     },
     "execution_count": 109,
     "metadata": {},
     "output_type": "execute_result"
    }
   ],
   "source": [
    "softmax.generate_graph(backward=True)"
   ],
   "metadata": {
    "collapsed": false
   }
  },
  {
   "cell_type": "code",
   "execution_count": 110,
   "outputs": [
    {
     "data": {
      "text/plain": "True"
     },
     "execution_count": 110,
     "metadata": {},
     "output_type": "execute_result"
    }
   ],
   "source": [
    "softmax.zero_grad()\n",
    "softmax.apply_bwd(loss_grad)\n",
    "operations_softmax_grad = X.grad\n",
    "\n",
    "np.allclose(staged_softmax_grad, operations_softmax_grad)"
   ],
   "metadata": {
    "collapsed": false
   }
  },
  {
   "cell_type": "code",
   "execution_count": 111,
   "outputs": [
    {
     "data": {
      "text/plain": "<IPython.core.display.Latex object>",
      "text/latex": "$\\frac{\\partial}{\\partial X} = \\frac{\\partial softmax(X)}{\\partial e^X}*\\frac{\\partial e^X}{\\partial X} + \\\\\\frac{\\partial softmax(X)}{\\partial 1 / sum(e^X)}*\\frac{\\partial 1 / sum(e^X)}{\\partial sum(e^X)}*\\frac{\\partial sum(e^X)}{\\partial e^X}*\\frac{\\partial e^X}{\\partial X}$"
     },
     "execution_count": 111,
     "metadata": {},
     "output_type": "execute_result"
    }
   ],
   "source": [
    "softmax.generate_derivative_chains()\n",
    "display_chain(X.display_partial_derivative())"
   ],
   "metadata": {
    "collapsed": false
   }
  },
  {
   "cell_type": "code",
   "execution_count": 112,
   "outputs": [],
   "source": [
    "class MatMul(Node):\n",
    "    def forward(self, x, w):\n",
    "        return x @ w\n",
    "\n",
    "    def backward(self, grad):\n",
    "        x, w = self.cache\n",
    "        return grad @ w.T, x.T @ grad\n",
    "\n",
    "class Add(Node):\n",
    "    def forward(self, x, b):\n",
    "        return x + b\n",
    "\n",
    "    def backward(self, grad):\n",
    "        return grad, grad\n",
    "\n",
    "class Relu(Node):\n",
    "    def forward(self, x):\n",
    "        return np.maximum(x, 0)\n",
    "\n",
    "    def backward(self, grad):\n",
    "        x = self.cache[0]\n",
    "        new_grad = np.array(grad)\n",
    "        new_grad[x < 0] = 0\n",
    "        return new_grad\n",
    "\n",
    "class Subtract(Node):\n",
    "    def forward(self, x, y):\n",
    "        return x - y\n",
    "\n",
    "    def backward(self, grad):\n",
    "        return grad, -grad"
   ],
   "metadata": {
    "collapsed": false
   }
  },
  {
   "cell_type": "code",
   "execution_count": 113,
   "outputs": [],
   "source": [
    "sys.path.append(os.path.abspath(\"../data\"))\n",
    "from csv_data import SkyServerDatasetWrapper\n",
    "\n",
    "# Load the data with 3 target values instead of the binary value from earlier\n",
    "wrapper = SkyServerDatasetWrapper()\n",
    "[train_x, train_y], [valid_x, valid_y], [test_x, test_y] = wrapper.get_flat_datasets()"
   ],
   "metadata": {
    "collapsed": false
   }
  },
  {
   "cell_type": "code",
   "execution_count": 114,
   "outputs": [],
   "source": [
    "def encode(target, max_value=3):\n",
    "    encoded = np.zeros((target.shape[0], max_value))\n",
    "    inds = (np.arange(0,target.shape[0]), target.reshape(-1))\n",
    "    encoded[inds] = 1\n",
    "    return encoded\n",
    "\n",
    "train_y = encode(train_y)"
   ],
   "metadata": {
    "collapsed": false
   }
  },
  {
   "cell_type": "code",
   "execution_count": 115,
   "outputs": [
    {
     "data": {
      "text/plain": "array([[1., 0., 0.],\n       [1., 0., 0.],\n       [0., 1., 0.],\n       ...,\n       [0., 1., 0.],\n       [0., 1., 0.],\n       [0., 1., 0.]])"
     },
     "execution_count": 115,
     "metadata": {},
     "output_type": "execute_result"
    }
   ],
   "source": [
    "train_y"
   ],
   "metadata": {
    "collapsed": false
   }
  },
  {
   "cell_type": "markdown",
   "source": [
    "Random weight init"
   ],
   "metadata": {
    "collapsed": false
   }
  },
  {
   "cell_type": "code",
   "execution_count": 116,
   "outputs": [],
   "source": [
    "np.random.seed(0)\n",
    "w1 = np.random.rand(13, 10)\n",
    "b1 = np.random.rand(1, 10)\n",
    "w2 = np.random.rand(10, 3)\n",
    "b2 = np.random.rand(1, 3)"
   ],
   "metadata": {
    "collapsed": false
   }
  },
  {
   "cell_type": "code",
   "execution_count": 117,
   "outputs": [],
   "source": [
    "X = Parameter(train_x, desc=\"X\", needs_grad=False)\n",
    "Y = Parameter(train_y, desc=\"y\", needs_grad=False)\n",
    "\n",
    "w1_param = Parameter(w1, desc=\"W1\")\n",
    "b1_param = Parameter(b1, desc=\"b1\")\n",
    "\n",
    "matmul1 = MatMul(X, w1_param, out=\"X @ W1\")\n",
    "add1 = Add(matmul1, b1_param, out=\"Z1\")\n",
    "\n",
    "layer1 = Relu(add1, out=\"A1\")\n",
    "\n",
    "w2_param = Parameter(w2, desc=\"W2\")\n",
    "b2_param = Parameter(b2, desc=\"b2\")\n",
    "matmul2 = MatMul(layer1, w2_param, out=\"Z1 @ W2\")\n",
    "add2 = Add(matmul2, b2_param, out=\"Z2\")\n",
    "\n",
    "raised = Exp(add2, out=\"e^Z2\")\n",
    "summed = Sum(raised, out=\"sum(e^Z2)\")\n",
    "\n",
    "negative_one = Parameter(-1, desc=\"-1\", needs_grad=False)\n",
    "inverted = Pow(summed, negative_one, out=\"1 / sum(e^Z2)\")\n",
    "softmax = Multiply(raised, inverted, out=\"softmax(Z2)\")"
   ],
   "metadata": {
    "collapsed": false
   }
  },
  {
   "cell_type": "code",
   "execution_count": 118,
   "outputs": [
    {
     "data": {
      "image/svg+xml": "<?xml version=\"1.0\" encoding=\"UTF-8\" standalone=\"no\"?>\n<!DOCTYPE svg PUBLIC \"-//W3C//DTD SVG 1.1//EN\"\n \"http://www.w3.org/Graphics/SVG/1.1/DTD/svg11.dtd\">\n<!-- Generated by graphviz version 7.0.6 (20230106.0513)\n -->\n<!-- Title: fwd_pass Pages: 1 -->\n<svg width=\"1303pt\" height=\"191pt\"\n viewBox=\"0.00 0.00 1302.87 191.00\" xmlns=\"http://www.w3.org/2000/svg\" xmlns:xlink=\"http://www.w3.org/1999/xlink\">\n<g id=\"graph0\" class=\"graph\" transform=\"scale(1 1) rotate(0) translate(4 187)\">\n<title>fwd_pass</title>\n<polygon fill=\"white\" stroke=\"none\" points=\"-4,4 -4,-187 1298.87,-187 1298.87,4 -4,4\"/>\n<!-- 5664375808 -->\n<g id=\"node1\" class=\"node\">\n<title>5664375808</title>\n<ellipse fill=\"none\" stroke=\"black\" cx=\"1252.62\" cy=\"-37\" rx=\"42.49\" ry=\"18\"/>\n<text text-anchor=\"middle\" x=\"1252.62\" y=\"-33.3\" font-family=\"Times,serif\" font-size=\"14.00\">Multiply</text>\n</g>\n<!-- 5664388096 -->\n<g id=\"node2\" class=\"node\">\n<title>5664388096</title>\n<ellipse fill=\"none\" stroke=\"black\" cx=\"798.78\" cy=\"-37\" rx=\"27\" ry=\"18\"/>\n<text text-anchor=\"middle\" x=\"798.78\" y=\"-33.3\" font-family=\"Times,serif\" font-size=\"14.00\">Exp</text>\n</g>\n<!-- 5664388096&#45;&gt;5664375808 -->\n<g id=\"edge11\" class=\"edge\">\n<title>5664388096&#45;&gt;5664375808</title>\n<path fill=\"none\" stroke=\"black\" d=\"M826.03,-37C898.33,-37 1101.48,-37 1198.6,-37\"/>\n<polygon fill=\"black\" stroke=\"black\" points=\"1198.39,-40.5 1208.39,-37 1198.39,-33.5 1198.39,-40.5\"/>\n<text text-anchor=\"middle\" x=\"992.88\" y=\"-40.8\" font-family=\"Times,serif\" font-size=\"14.00\">e^Z2</text>\n</g>\n<!-- 5664383632 -->\n<g id=\"node14\" class=\"node\">\n<title>5664383632</title>\n<ellipse fill=\"none\" stroke=\"black\" cx=\"917.08\" cy=\"-121\" rx=\"27.1\" ry=\"18\"/>\n<text text-anchor=\"middle\" x=\"917.08\" y=\"-117.3\" font-family=\"Times,serif\" font-size=\"14.00\">Sum</text>\n</g>\n<!-- 5664388096&#45;&gt;5664383632 -->\n<g id=\"edge12\" class=\"edge\">\n<title>5664388096&#45;&gt;5664383632</title>\n<path fill=\"none\" stroke=\"black\" d=\"M817.95,-50.12C836.98,-63.87 867.09,-85.62 888.94,-101.4\"/>\n<polygon fill=\"black\" stroke=\"black\" points=\"886.65,-104.06 896.81,-107.08 890.75,-98.39 886.65,-104.06\"/>\n<text text-anchor=\"middle\" x=\"857.78\" y=\"-91.8\" font-family=\"Times,serif\" font-size=\"14.00\">e^Z2</text>\n</g>\n<!-- 5664383728 -->\n<g id=\"node3\" class=\"node\">\n<title>5664383728</title>\n<ellipse fill=\"none\" stroke=\"black\" cx=\"692.78\" cy=\"-37\" rx=\"27\" ry=\"18\"/>\n<text text-anchor=\"middle\" x=\"692.78\" y=\"-33.3\" font-family=\"Times,serif\" font-size=\"14.00\">Add</text>\n</g>\n<!-- 5664383728&#45;&gt;5664388096 -->\n<g id=\"edge10\" class=\"edge\">\n<title>5664383728&#45;&gt;5664388096</title>\n<path fill=\"none\" stroke=\"black\" d=\"M720.02,-37C732.22,-37 746.94,-37 760.28,-37\"/>\n<polygon fill=\"black\" stroke=\"black\" points=\"760.03,-40.5 770.03,-37 760.03,-33.5 760.03,-40.5\"/>\n<text text-anchor=\"middle\" x=\"745.78\" y=\"-40.8\" font-family=\"Times,serif\" font-size=\"14.00\">Z2</text>\n</g>\n<!-- 5664380416 -->\n<g id=\"node4\" class=\"node\">\n<title>5664380416</title>\n<ellipse fill=\"none\" stroke=\"black\" cx=\"534.48\" cy=\"-72\" rx=\"40.09\" ry=\"18\"/>\n<text text-anchor=\"middle\" x=\"534.48\" y=\"-68.3\" font-family=\"Times,serif\" font-size=\"14.00\">MatMul</text>\n</g>\n<!-- 5664380416&#45;&gt;5664383728 -->\n<g id=\"edge8\" class=\"edge\">\n<title>5664380416&#45;&gt;5664383728</title>\n<path fill=\"none\" stroke=\"black\" d=\"M570.95,-64.06C596.26,-58.39 630.18,-50.8 655.63,-45.09\"/>\n<polygon fill=\"black\" stroke=\"black\" points=\"656.2,-48.55 665.2,-42.95 654.67,-41.72 656.2,-48.55\"/>\n<text text-anchor=\"middle\" x=\"620.28\" y=\"-61.8\" font-family=\"Times,serif\" font-size=\"14.00\">Z1 @ W2</text>\n</g>\n<!-- 5664380704 -->\n<g id=\"node5\" class=\"node\">\n<title>5664380704</title>\n<ellipse fill=\"none\" stroke=\"black\" cx=\"409.89\" cy=\"-103\" rx=\"27.1\" ry=\"18\"/>\n<text text-anchor=\"middle\" x=\"409.89\" y=\"-99.3\" font-family=\"Times,serif\" font-size=\"14.00\">Relu</text>\n</g>\n<!-- 5664380704&#45;&gt;5664380416 -->\n<g id=\"edge6\" class=\"edge\">\n<title>5664380704&#45;&gt;5664380416</title>\n<path fill=\"none\" stroke=\"black\" d=\"M435.7,-96.73C450.69,-92.94 470.27,-87.99 487.96,-83.51\"/>\n<polygon fill=\"black\" stroke=\"black\" points=\"488.65,-86.95 497.49,-81.1 486.94,-80.16 488.65,-86.95\"/>\n<text text-anchor=\"middle\" x=\"465.69\" y=\"-94.8\" font-family=\"Times,serif\" font-size=\"14.00\">A1</text>\n</g>\n<!-- 5664378928 -->\n<g id=\"node6\" class=\"node\">\n<title>5664378928</title>\n<ellipse fill=\"none\" stroke=\"black\" cx=\"303.59\" cy=\"-103\" rx=\"27\" ry=\"18\"/>\n<text text-anchor=\"middle\" x=\"303.59\" y=\"-99.3\" font-family=\"Times,serif\" font-size=\"14.00\">Add</text>\n</g>\n<!-- 5664378928&#45;&gt;5664380704 -->\n<g id=\"edge5\" class=\"edge\">\n<title>5664378928&#45;&gt;5664380704</title>\n<path fill=\"none\" stroke=\"black\" d=\"M330.91,-103C343.14,-103 357.9,-103 371.28,-103\"/>\n<polygon fill=\"black\" stroke=\"black\" points=\"371.07,-106.5 381.07,-103 371.07,-99.5 371.07,-106.5\"/>\n<text text-anchor=\"middle\" x=\"356.59\" y=\"-106.8\" font-family=\"Times,serif\" font-size=\"14.00\">Z1</text>\n</g>\n<!-- 5664374848 -->\n<g id=\"node7\" class=\"node\">\n<title>5664374848</title>\n<ellipse fill=\"none\" stroke=\"black\" cx=\"151.3\" cy=\"-138\" rx=\"40.09\" ry=\"18\"/>\n<text text-anchor=\"middle\" x=\"151.3\" y=\"-134.3\" font-family=\"Times,serif\" font-size=\"14.00\">MatMul</text>\n</g>\n<!-- 5664374848&#45;&gt;5664378928 -->\n<g id=\"edge3\" class=\"edge\">\n<title>5664374848&#45;&gt;5664378928</title>\n<path fill=\"none\" stroke=\"black\" d=\"M187.53,-129.79C211.39,-124.24 242.82,-116.92 266.79,-111.34\"/>\n<polygon fill=\"black\" stroke=\"black\" points=\"267.48,-114.77 276.43,-109.09 265.89,-107.95 267.48,-114.77\"/>\n<text text-anchor=\"middle\" x=\"234.09\" y=\"-126.8\" font-family=\"Times,serif\" font-size=\"14.00\">X @ W1</text>\n</g>\n<!-- 5664376528 -->\n<g id=\"node8\" class=\"node\">\n<title>5664376528</title>\n<ellipse fill=\"none\" stroke=\"black\" cx=\"27\" cy=\"-165\" rx=\"27\" ry=\"18\"/>\n<text text-anchor=\"middle\" x=\"27\" y=\"-161.3\" font-family=\"Times,serif\" font-size=\"14.00\">X</text>\n</g>\n<!-- 5664376528&#45;&gt;5664374848 -->\n<g id=\"edge1\" class=\"edge\">\n<title>5664376528&#45;&gt;5664374848</title>\n<path fill=\"none\" stroke=\"black\" d=\"M53.04,-159.47C67.6,-156.26 86.42,-152.1 103.62,-148.31\"/>\n<polygon fill=\"black\" stroke=\"black\" points=\"104.13,-151.78 113.14,-146.2 102.62,-144.94 104.13,-151.78\"/>\n<text text-anchor=\"middle\" x=\"82.5\" y=\"-157.8\" font-family=\"Times,serif\" font-size=\"14.00\">X</text>\n</g>\n<!-- 5664387472 -->\n<g id=\"node9\" class=\"node\">\n<title>5664387472</title>\n<ellipse fill=\"none\" stroke=\"black\" cx=\"27\" cy=\"-111\" rx=\"27\" ry=\"18\"/>\n<text text-anchor=\"middle\" x=\"27\" y=\"-107.3\" font-family=\"Times,serif\" font-size=\"14.00\">W1</text>\n</g>\n<!-- 5664387472&#45;&gt;5664374848 -->\n<g id=\"edge2\" class=\"edge\">\n<title>5664387472&#45;&gt;5664374848</title>\n<path fill=\"none\" stroke=\"black\" d=\"M53.04,-116.53C67.6,-119.74 86.42,-123.9 103.62,-127.69\"/>\n<polygon fill=\"black\" stroke=\"black\" points=\"102.62,-131.06 113.14,-129.8 104.13,-124.22 102.62,-131.06\"/>\n<text text-anchor=\"middle\" x=\"82.5\" y=\"-128.8\" font-family=\"Times,serif\" font-size=\"14.00\">W1</text>\n</g>\n<!-- 5664378592 -->\n<g id=\"node10\" class=\"node\">\n<title>5664378592</title>\n<ellipse fill=\"none\" stroke=\"black\" cx=\"151.3\" cy=\"-84\" rx=\"27\" ry=\"18\"/>\n<text text-anchor=\"middle\" x=\"151.3\" y=\"-80.3\" font-family=\"Times,serif\" font-size=\"14.00\">b1</text>\n</g>\n<!-- 5664378592&#45;&gt;5664378928 -->\n<g id=\"edge4\" class=\"edge\">\n<title>5664378592&#45;&gt;5664378928</title>\n<path fill=\"none\" stroke=\"black\" d=\"M178.63,-85.21C200.21,-86.45 231.51,-88.8 258.59,-93 261.27,-93.42 264.03,-93.9 266.8,-94.43\"/>\n<polygon fill=\"black\" stroke=\"black\" points=\"266.05,-97.85 276.56,-96.48 267.49,-91 266.05,-97.85\"/>\n<text text-anchor=\"middle\" x=\"234.09\" y=\"-96.8\" font-family=\"Times,serif\" font-size=\"14.00\">b1</text>\n</g>\n<!-- 5664387088 -->\n<g id=\"node11\" class=\"node\">\n<title>5664387088</title>\n<ellipse fill=\"none\" stroke=\"black\" cx=\"409.89\" cy=\"-49\" rx=\"27\" ry=\"18\"/>\n<text text-anchor=\"middle\" x=\"409.89\" y=\"-45.3\" font-family=\"Times,serif\" font-size=\"14.00\">W2</text>\n</g>\n<!-- 5664387088&#45;&gt;5664380416 -->\n<g id=\"edge7\" class=\"edge\">\n<title>5664387088&#45;&gt;5664380416</title>\n<path fill=\"none\" stroke=\"black\" d=\"M436.73,-51.94C448.77,-53.47 463.26,-55.54 476.19,-58 480.03,-58.73 483.99,-59.56 487.96,-60.43\"/>\n<polygon fill=\"black\" stroke=\"black\" points=\"487.06,-63.81 497.59,-62.64 488.63,-56.99 487.06,-63.81\"/>\n<text text-anchor=\"middle\" x=\"465.69\" y=\"-61.8\" font-family=\"Times,serif\" font-size=\"14.00\">W2</text>\n</g>\n<!-- 5664375184 -->\n<g id=\"node12\" class=\"node\">\n<title>5664375184</title>\n<ellipse fill=\"none\" stroke=\"black\" cx=\"534.48\" cy=\"-18\" rx=\"27\" ry=\"18\"/>\n<text text-anchor=\"middle\" x=\"534.48\" y=\"-14.3\" font-family=\"Times,serif\" font-size=\"14.00\">b2</text>\n</g>\n<!-- 5664375184&#45;&gt;5664383728 -->\n<g id=\"edge9\" class=\"edge\">\n<title>5664375184&#45;&gt;5664383728</title>\n<path fill=\"none\" stroke=\"black\" d=\"M561.93,-19.05C584.76,-20.21 618.59,-22.54 647.78,-27 650.46,-27.41 653.22,-27.89 655.99,-28.42\"/>\n<polygon fill=\"black\" stroke=\"black\" points=\"655.25,-31.84 665.75,-30.46 656.68,-24.99 655.25,-31.84\"/>\n<text text-anchor=\"middle\" x=\"620.28\" y=\"-30.8\" font-family=\"Times,serif\" font-size=\"14.00\">b2</text>\n</g>\n<!-- 5664389008 -->\n<g id=\"node13\" class=\"node\">\n<title>5664389008</title>\n<ellipse fill=\"none\" stroke=\"black\" cx=\"1068.38\" cy=\"-67\" rx=\"27\" ry=\"18\"/>\n<text text-anchor=\"middle\" x=\"1068.38\" y=\"-63.3\" font-family=\"Times,serif\" font-size=\"14.00\">Pow</text>\n</g>\n<!-- 5664389008&#45;&gt;5664375808 -->\n<g id=\"edge15\" class=\"edge\">\n<title>5664389008&#45;&gt;5664375808</title>\n<path fill=\"none\" stroke=\"black\" d=\"M1095.1,-62.77C1122.6,-58.24 1166.91,-50.94 1201.37,-45.27\"/>\n<polygon fill=\"black\" stroke=\"black\" points=\"1201.85,-48.74 1211.15,-43.66 1200.72,-41.83 1201.85,-48.74\"/>\n<text text-anchor=\"middle\" x=\"1152.88\" y=\"-62.8\" font-family=\"Times,serif\" font-size=\"14.00\">1 / sum(e^Z2)</text>\n</g>\n<!-- 5664383632&#45;&gt;5664389008 -->\n<g id=\"edge13\" class=\"edge\">\n<title>5664383632&#45;&gt;5664389008</title>\n<path fill=\"none\" stroke=\"black\" d=\"M942.12,-113.66C963.6,-106.95 995.84,-96.5 1023.38,-86 1027.26,-84.52 1031.3,-82.89 1035.29,-81.24\"/>\n<polygon fill=\"black\" stroke=\"black\" points=\"1036.37,-84.58 1044.2,-77.44 1033.63,-78.14 1036.37,-84.58\"/>\n<text text-anchor=\"middle\" x=\"992.88\" y=\"-109.8\" font-family=\"Times,serif\" font-size=\"14.00\">sum(e^Z2)</text>\n</g>\n<!-- 5664388576 -->\n<g id=\"node15\" class=\"node\">\n<title>5664388576</title>\n<ellipse fill=\"none\" stroke=\"black\" cx=\"917.08\" cy=\"-67\" rx=\"27\" ry=\"18\"/>\n<text text-anchor=\"middle\" x=\"917.08\" y=\"-63.3\" font-family=\"Times,serif\" font-size=\"14.00\">&#45;1</text>\n</g>\n<!-- 5664388576&#45;&gt;5664389008 -->\n<g id=\"edge14\" class=\"edge\">\n<title>5664388576&#45;&gt;5664389008</title>\n<path fill=\"none\" stroke=\"black\" d=\"M944.43,-67C968.13,-67 1003.21,-67 1029.84,-67\"/>\n<polygon fill=\"black\" stroke=\"black\" points=\"1029.53,-70.5 1039.53,-67 1029.53,-63.5 1029.53,-70.5\"/>\n<text text-anchor=\"middle\" x=\"992.88\" y=\"-70.8\" font-family=\"Times,serif\" font-size=\"14.00\">&#45;1</text>\n</g>\n</g>\n</svg>\n",
      "text/plain": "<graphviz.graphs.Digraph at 0x1519f9930>"
     },
     "execution_count": 118,
     "metadata": {},
     "output_type": "execute_result"
    }
   ],
   "source": [
    "softmax.generate_graph()"
   ],
   "metadata": {
    "collapsed": false
   }
  },
  {
   "cell_type": "code",
   "execution_count": 119,
   "outputs": [
    {
     "data": {
      "text/plain": "array([[5.14085793e-01, 2.95571761e-01, 1.90342446e-01],\n       [4.25086348e-01, 2.66558492e-01, 3.08355161e-01],\n       [5.68681654e-01, 2.87285683e-01, 1.44032662e-01],\n       ...,\n       [9.39774768e-01, 5.76104164e-02, 2.61481553e-03],\n       [9.12083861e-01, 8.18366292e-02, 6.07951003e-03],\n       [8.64214297e-01, 1.34993035e-01, 7.92668045e-04]])"
     },
     "execution_count": 119,
     "metadata": {},
     "output_type": "execute_result"
    }
   ],
   "source": [
    "predictions = softmax.apply_fwd()\n",
    "\n",
    "predictions"
   ],
   "metadata": {
    "collapsed": false
   }
  },
  {
   "cell_type": "code",
   "execution_count": 120,
   "outputs": [
    {
     "data": {
      "image/svg+xml": "<?xml version=\"1.0\" encoding=\"UTF-8\" standalone=\"no\"?>\n<!DOCTYPE svg PUBLIC \"-//W3C//DTD SVG 1.1//EN\"\n \"http://www.w3.org/Graphics/SVG/1.1/DTD/svg11.dtd\">\n<!-- Generated by graphviz version 7.0.6 (20230106.0513)\n -->\n<!-- Title: fwd_pass Pages: 1 -->\n<svg width=\"1442pt\" height=\"249pt\"\n viewBox=\"0.00 0.00 1441.87 249.00\" xmlns=\"http://www.w3.org/2000/svg\" xmlns:xlink=\"http://www.w3.org/1999/xlink\">\n<g id=\"graph0\" class=\"graph\" transform=\"scale(1 1) rotate(0) translate(4 245)\">\n<title>fwd_pass</title>\n<polygon fill=\"white\" stroke=\"none\" points=\"-4,4 -4,-245 1437.87,-245 1437.87,4 -4,4\"/>\n<!-- 5664375808 -->\n<g id=\"node1\" class=\"node\">\n<title>5664375808</title>\n<ellipse fill=\"none\" stroke=\"black\" cx=\"42.25\" cy=\"-95\" rx=\"42.49\" ry=\"18\"/>\n<text text-anchor=\"middle\" x=\"42.25\" y=\"-91.3\" font-family=\"Times,serif\" font-size=\"14.00\">Multiply</text>\n</g>\n<!-- 5664388096 -->\n<g id=\"node2\" class=\"node\">\n<title>5664388096</title>\n<ellipse fill=\"none\" stroke=\"black\" cx=\"542.09\" cy=\"-95\" rx=\"27\" ry=\"18\"/>\n<text text-anchor=\"middle\" x=\"542.09\" y=\"-91.3\" font-family=\"Times,serif\" font-size=\"14.00\">Exp</text>\n</g>\n<!-- 5664375808&#45;&gt;5664388096 -->\n<g id=\"edge11\" class=\"edge\">\n<title>5664375808&#45;&gt;5664388096</title>\n<path fill=\"none\" stroke=\"red\" d=\"M82.03,-101.75C88.83,-102.69 95.85,-103.5 102.49,-104 277.37,-117.21 322.6,-121.66 497.09,-104 499.61,-103.74 502.2,-103.41 504.8,-103.02\"/>\n<polygon fill=\"red\" stroke=\"red\" points=\"505.36,-106.47 514.6,-101.29 504.15,-99.58 505.36,-106.47\"/>\n<text text-anchor=\"middle\" x=\"324.49\" y=\"-119.8\" font-family=\"Times,serif\" font-size=\"14.00\">d(e^Z2)</text>\n</g>\n<!-- 5664389008 -->\n<g id=\"node13\" class=\"node\">\n<title>5664389008</title>\n<ellipse fill=\"none\" stroke=\"black\" cx=\"241.49\" cy=\"-72\" rx=\"27\" ry=\"18\"/>\n<text text-anchor=\"middle\" x=\"241.49\" y=\"-68.3\" font-family=\"Times,serif\" font-size=\"14.00\">Pow</text>\n</g>\n<!-- 5664375808&#45;&gt;5664389008 -->\n<g id=\"edge15\" class=\"edge\">\n<title>5664375808&#45;&gt;5664389008</title>\n<path fill=\"none\" stroke=\"red\" d=\"M83.64,-90.29C118.72,-86.2 169.13,-80.32 203.26,-76.34\"/>\n<polygon fill=\"red\" stroke=\"red\" points=\"203.56,-79.83 213.09,-75.2 202.75,-72.88 203.56,-79.83\"/>\n<text text-anchor=\"middle\" x=\"149.49\" y=\"-91.8\" font-family=\"Times,serif\" font-size=\"14.00\">d(1 / sum(e^Z2))</text>\n</g>\n<!-- 5664383728 -->\n<g id=\"node3\" class=\"node\">\n<title>5664383728</title>\n<ellipse fill=\"none\" stroke=\"black\" cx=\"663.09\" cy=\"-95\" rx=\"27\" ry=\"18\"/>\n<text text-anchor=\"middle\" x=\"663.09\" y=\"-91.3\" font-family=\"Times,serif\" font-size=\"14.00\">Add</text>\n</g>\n<!-- 5664388096&#45;&gt;5664383728 -->\n<g id=\"edge10\" class=\"edge\">\n<title>5664388096&#45;&gt;5664383728</title>\n<path fill=\"none\" stroke=\"red\" d=\"M569.5,-95C585.6,-95 606.44,-95 624.27,-95\"/>\n<polygon fill=\"red\" stroke=\"red\" points=\"624.24,-98.5 634.24,-95 624.24,-91.5 624.24,-98.5\"/>\n<text text-anchor=\"middle\" x=\"602.59\" y=\"-98.8\" font-family=\"Times,serif\" font-size=\"14.00\">d(Z2)</text>\n</g>\n<!-- 5664380416 -->\n<g id=\"node4\" class=\"node\">\n<title>5664380416</title>\n<ellipse fill=\"none\" stroke=\"black\" cx=\"836.38\" cy=\"-130\" rx=\"40.09\" ry=\"18\"/>\n<text text-anchor=\"middle\" x=\"836.38\" y=\"-126.3\" font-family=\"Times,serif\" font-size=\"14.00\">MatMul</text>\n</g>\n<!-- 5664383728&#45;&gt;5664380416 -->\n<g id=\"edge8\" class=\"edge\">\n<title>5664383728&#45;&gt;5664380416</title>\n<path fill=\"none\" stroke=\"red\" d=\"M689.36,-100.16C715.34,-105.47 756.38,-113.86 788.35,-120.39\"/>\n<polygon fill=\"red\" stroke=\"red\" points=\"787.26,-123.74 797.76,-122.31 788.66,-116.88 787.26,-123.74\"/>\n<text text-anchor=\"middle\" x=\"743.09\" y=\"-121.8\" font-family=\"Times,serif\" font-size=\"14.00\">d(Z1 @ W2)</text>\n</g>\n<!-- 5664375184 -->\n<g id=\"node12\" class=\"node\">\n<title>5664375184</title>\n<ellipse fill=\"none\" stroke=\"black\" cx=\"836.38\" cy=\"-76\" rx=\"27\" ry=\"18\"/>\n<text text-anchor=\"middle\" x=\"836.38\" y=\"-72.3\" font-family=\"Times,serif\" font-size=\"14.00\">b2</text>\n</g>\n<!-- 5664383728&#45;&gt;5664375184 -->\n<g id=\"edge9\" class=\"edge\">\n<title>5664383728&#45;&gt;5664375184</title>\n<path fill=\"none\" stroke=\"red\" d=\"M688.63,-88.72C694.94,-87.31 701.73,-85.94 708.09,-85 737.98,-80.57 772.16,-78.31 797.57,-77.16\"/>\n<polygon fill=\"red\" stroke=\"red\" points=\"797.57,-80.66 807.41,-76.75 797.28,-73.67 797.57,-80.66\"/>\n<text text-anchor=\"middle\" x=\"743.09\" y=\"-88.8\" font-family=\"Times,serif\" font-size=\"14.00\">d(b2)</text>\n</g>\n<!-- 5664380704 -->\n<g id=\"node5\" class=\"node\">\n<title>5664380704</title>\n<ellipse fill=\"none\" stroke=\"black\" cx=\"976.98\" cy=\"-161\" rx=\"27.1\" ry=\"18\"/>\n<text text-anchor=\"middle\" x=\"976.98\" y=\"-157.3\" font-family=\"Times,serif\" font-size=\"14.00\">Relu</text>\n</g>\n<!-- 5664380416&#45;&gt;5664380704 -->\n<g id=\"edge6\" class=\"edge\">\n<title>5664380416&#45;&gt;5664380704</title>\n<path fill=\"none\" stroke=\"red\" d=\"M872.72,-137.9C893.19,-142.48 918.92,-148.24 939.58,-152.86\"/>\n<polygon fill=\"red\" stroke=\"red\" points=\"938.77,-156.26 949.29,-155.03 940.3,-149.43 938.77,-156.26\"/>\n<text text-anchor=\"middle\" x=\"913.18\" y=\"-154.8\" font-family=\"Times,serif\" font-size=\"14.00\">d(A1)</text>\n</g>\n<!-- 5664387088 -->\n<g id=\"node11\" class=\"node\">\n<title>5664387088</title>\n<ellipse fill=\"none\" stroke=\"black\" cx=\"976.98\" cy=\"-107\" rx=\"27\" ry=\"18\"/>\n<text text-anchor=\"middle\" x=\"976.98\" y=\"-103.3\" font-family=\"Times,serif\" font-size=\"14.00\">W2</text>\n</g>\n<!-- 5664380416&#45;&gt;5664387088 -->\n<g id=\"edge7\" class=\"edge\">\n<title>5664380416&#45;&gt;5664387088</title>\n<path fill=\"none\" stroke=\"red\" d=\"M871.47,-120.91C879.07,-119.09 887.12,-117.34 894.68,-116 908.99,-113.47 924.85,-111.52 938.74,-110.1\"/>\n<polygon fill=\"red\" stroke=\"red\" points=\"938.74,-113.62 948.35,-109.17 938.06,-106.65 938.74,-113.62\"/>\n<text text-anchor=\"middle\" x=\"913.18\" y=\"-119.8\" font-family=\"Times,serif\" font-size=\"14.00\">d(W2)</text>\n</g>\n<!-- 5664378928 -->\n<g id=\"node6\" class=\"node\">\n<title>5664378928</title>\n<ellipse fill=\"none\" stroke=\"black\" cx=\"1098.28\" cy=\"-161\" rx=\"27\" ry=\"18\"/>\n<text text-anchor=\"middle\" x=\"1098.28\" y=\"-157.3\" font-family=\"Times,serif\" font-size=\"14.00\">Add</text>\n</g>\n<!-- 5664380704&#45;&gt;5664378928 -->\n<g id=\"edge5\" class=\"edge\">\n<title>5664380704&#45;&gt;5664378928</title>\n<path fill=\"none\" stroke=\"red\" d=\"M1004.45,-161C1020.59,-161 1041.49,-161 1059.36,-161\"/>\n<polygon fill=\"red\" stroke=\"red\" points=\"1059.36,-164.5 1069.36,-161 1059.36,-157.5 1059.36,-164.5\"/>\n<text text-anchor=\"middle\" x=\"1037.78\" y=\"-164.8\" font-family=\"Times,serif\" font-size=\"14.00\">d(Z1)</text>\n</g>\n<!-- 5664374848 -->\n<g id=\"node7\" class=\"node\">\n<title>5664374848</title>\n<ellipse fill=\"none\" stroke=\"black\" cx=\"1266.57\" cy=\"-196\" rx=\"40.09\" ry=\"18\"/>\n<text text-anchor=\"middle\" x=\"1266.57\" y=\"-192.3\" font-family=\"Times,serif\" font-size=\"14.00\">MatMul</text>\n</g>\n<!-- 5664378928&#45;&gt;5664374848 -->\n<g id=\"edge3\" class=\"edge\">\n<title>5664378928&#45;&gt;5664374848</title>\n<path fill=\"none\" stroke=\"red\" d=\"M1124.53,-166.32C1149.35,-171.54 1187.82,-179.64 1218.32,-186.05\"/>\n<polygon fill=\"red\" stroke=\"red\" points=\"1217.58,-189.48 1228.09,-188.11 1219.03,-182.63 1217.58,-189.48\"/>\n<text text-anchor=\"middle\" x=\"1175.78\" y=\"-187.8\" font-family=\"Times,serif\" font-size=\"14.00\">d(X @ W1)</text>\n</g>\n<!-- 5664378592 -->\n<g id=\"node10\" class=\"node\">\n<title>5664378592</title>\n<ellipse fill=\"none\" stroke=\"black\" cx=\"1266.57\" cy=\"-142\" rx=\"27\" ry=\"18\"/>\n<text text-anchor=\"middle\" x=\"1266.57\" y=\"-138.3\" font-family=\"Times,serif\" font-size=\"14.00\">b1</text>\n</g>\n<!-- 5664378928&#45;&gt;5664378592 -->\n<g id=\"edge4\" class=\"edge\">\n<title>5664378928&#45;&gt;5664378592</title>\n<path fill=\"none\" stroke=\"red\" d=\"M1123.82,-154.74C1130.13,-153.32 1136.92,-151.95 1143.28,-151 1171.5,-146.78 1203.7,-144.51 1227.98,-143.31\"/>\n<polygon fill=\"red\" stroke=\"red\" points=\"1227.86,-146.82 1237.69,-142.87 1227.54,-139.82 1227.86,-146.82\"/>\n<text text-anchor=\"middle\" x=\"1175.78\" y=\"-154.8\" font-family=\"Times,serif\" font-size=\"14.00\">d(b1)</text>\n</g>\n<!-- 5664376528 -->\n<g id=\"node8\" class=\"node\">\n<title>5664376528</title>\n<ellipse fill=\"none\" stroke=\"black\" cx=\"1406.87\" cy=\"-223\" rx=\"27\" ry=\"18\"/>\n<text text-anchor=\"middle\" x=\"1406.87\" y=\"-219.3\" font-family=\"Times,serif\" font-size=\"14.00\">X</text>\n</g>\n<!-- 5664374848&#45;&gt;5664376528 -->\n<g id=\"edge1\" class=\"edge\">\n<title>5664374848&#45;&gt;5664376528</title>\n<path fill=\"none\" stroke=\"red\" d=\"M1303.91,-203.09C1324.11,-207.04 1349.18,-211.93 1369.4,-215.88\"/>\n<polygon fill=\"red\" stroke=\"red\" points=\"1368.71,-219.31 1379.19,-217.79 1370.05,-212.44 1368.71,-219.31\"/>\n</g>\n<!-- 5664387472 -->\n<g id=\"node9\" class=\"node\">\n<title>5664387472</title>\n<ellipse fill=\"none\" stroke=\"black\" cx=\"1406.87\" cy=\"-169\" rx=\"27\" ry=\"18\"/>\n<text text-anchor=\"middle\" x=\"1406.87\" y=\"-165.3\" font-family=\"Times,serif\" font-size=\"14.00\">W1</text>\n</g>\n<!-- 5664374848&#45;&gt;5664387472 -->\n<g id=\"edge2\" class=\"edge\">\n<title>5664374848&#45;&gt;5664387472</title>\n<path fill=\"none\" stroke=\"red\" d=\"M1303.91,-188.91C1324.11,-184.96 1349.18,-180.07 1369.4,-176.12\"/>\n<polygon fill=\"red\" stroke=\"red\" points=\"1370.05,-179.56 1379.19,-174.21 1368.71,-172.69 1370.05,-179.56\"/>\n<text text-anchor=\"middle\" x=\"1343.37\" y=\"-188.8\" font-family=\"Times,serif\" font-size=\"14.00\">d(W1)</text>\n</g>\n<!-- 5664383632 -->\n<g id=\"node14\" class=\"node\">\n<title>5664383632</title>\n<ellipse fill=\"none\" stroke=\"black\" cx=\"407.79\" cy=\"-72\" rx=\"27.1\" ry=\"18\"/>\n<text text-anchor=\"middle\" x=\"407.79\" y=\"-68.3\" font-family=\"Times,serif\" font-size=\"14.00\">Sum</text>\n</g>\n<!-- 5664389008&#45;&gt;5664383632 -->\n<g id=\"edge13\" class=\"edge\">\n<title>5664389008&#45;&gt;5664383632</title>\n<path fill=\"none\" stroke=\"red\" d=\"M268.89,-72C296.08,-72 338.69,-72 369.35,-72\"/>\n<polygon fill=\"red\" stroke=\"red\" points=\"368.94,-75.5 378.94,-72 368.94,-68.5 368.94,-75.5\"/>\n<text text-anchor=\"middle\" x=\"324.49\" y=\"-75.8\" font-family=\"Times,serif\" font-size=\"14.00\">d(sum(e^Z2))</text>\n</g>\n<!-- 5664388576 -->\n<g id=\"node15\" class=\"node\">\n<title>5664388576</title>\n<ellipse fill=\"none\" stroke=\"black\" cx=\"407.79\" cy=\"-18\" rx=\"27\" ry=\"18\"/>\n<text text-anchor=\"middle\" x=\"407.79\" y=\"-14.3\" font-family=\"Times,serif\" font-size=\"14.00\">&#45;1</text>\n</g>\n<!-- 5664389008&#45;&gt;5664388576 -->\n<g id=\"edge14\" class=\"edge\">\n<title>5664389008&#45;&gt;5664388576</title>\n<path fill=\"none\" stroke=\"red\" d=\"M266.38,-64.15C294.33,-54.96 340.8,-39.69 372.57,-29.25\"/>\n<polygon fill=\"red\" stroke=\"red\" points=\"373.29,-32.69 381.7,-26.25 371.11,-26.04 373.29,-32.69\"/>\n</g>\n<!-- 5664383632&#45;&gt;5664388096 -->\n<g id=\"edge12\" class=\"edge\">\n<title>5664383632&#45;&gt;5664388096</title>\n<path fill=\"none\" stroke=\"red\" d=\"M434.3,-76.43C454.25,-79.9 482.25,-84.77 504.57,-88.65\"/>\n<polygon fill=\"red\" stroke=\"red\" points=\"503.71,-92.06 514.17,-90.32 504.91,-85.16 503.71,-92.06\"/>\n<text text-anchor=\"middle\" x=\"475.09\" y=\"-90.8\" font-family=\"Times,serif\" font-size=\"14.00\">d(e^Z2)</text>\n</g>\n</g>\n</svg>\n",
      "text/plain": "<graphviz.graphs.Digraph at 0x1519f8760>"
     },
     "execution_count": 120,
     "metadata": {},
     "output_type": "execute_result"
    }
   ],
   "source": [
    "softmax.generate_graph(backward=True)"
   ],
   "metadata": {
    "collapsed": false
   }
  },
  {
   "cell_type": "code",
   "execution_count": 121,
   "outputs": [],
   "source": [
    "softmax.zero_grad()\n",
    "loss_grad = nll_grad(train_y, predictions)\n",
    "softmax.apply_bwd(loss_grad)\n",
    "softmax.generate_derivative_chains()"
   ],
   "metadata": {
    "collapsed": false
   }
  },
  {
   "cell_type": "code",
   "execution_count": 122,
   "outputs": [
    {
     "data": {
      "text/plain": "array([[ 1078.86623385,  1452.92238635, -2531.7886202 ],\n       [  685.34169939,  1438.06439063, -2123.40609002],\n       [   11.39607931,  3488.94754329, -3500.3436226 ],\n       [ 1990.1147882 ,   471.22083925, -2461.33562744],\n       [ -538.48614737,  1989.95610171, -1451.46995434],\n       [  823.86282115,  1728.75677685, -2552.619598  ],\n       [  876.8179049 ,  2091.18377317, -2968.00167807],\n       [ 1375.39946375,   693.7355912 , -2069.13505495],\n       [  705.656685  ,  2007.41199158, -2713.06867658],\n       [ 1247.97160254,  1539.37464607, -2787.34624861]])"
     },
     "execution_count": 122,
     "metadata": {},
     "output_type": "execute_result"
    }
   ],
   "source": [
    "w2_param.grad"
   ],
   "metadata": {
    "collapsed": false
   }
  },
  {
   "cell_type": "code",
   "execution_count": 123,
   "outputs": [
    {
     "data": {
      "text/plain": "<IPython.core.display.Latex object>",
      "text/latex": "$\\frac{\\partial}{\\partial W2} = \\frac{\\partial softmax(Z2)}{\\partial e^Z2}*\\frac{\\partial e^Z2}{\\partial Z2}*\\frac{\\partial Z2}{\\partial Z1 @ W2}*\\frac{\\partial Z1 @ W2}{\\partial W2} + \\\\\\frac{\\partial softmax(Z2)}{\\partial 1 / sum(e^Z2)}*\\frac{\\partial 1 / sum(e^Z2)}{\\partial sum(e^Z2)}*\\frac{\\partial sum(e^Z2)}{\\partial e^Z2}*\\frac{\\partial e^Z2}{\\partial Z2}*\\frac{\\partial Z2}{\\partial Z1 @ W2}*\\frac{\\partial Z1 @ W2}{\\partial W2}$"
     },
     "execution_count": 123,
     "metadata": {},
     "output_type": "execute_result"
    }
   ],
   "source": [
    "display_chain(w2_param.display_partial_derivative())"
   ],
   "metadata": {
    "collapsed": false
   }
  },
  {
   "cell_type": "code",
   "execution_count": 124,
   "outputs": [
    {
     "data": {
      "text/plain": "<IPython.core.display.Latex object>",
      "text/latex": "$\\frac{\\partial}{\\partial W1} = \\frac{\\partial softmax(Z2)}{\\partial e^Z2}*\\frac{\\partial e^Z2}{\\partial Z2}*\\frac{\\partial Z2}{\\partial Z1 @ W2}*\\frac{\\partial Z1 @ W2}{\\partial A1}*\\frac{\\partial A1}{\\partial Z1}*\\frac{\\partial Z1}{\\partial X @ W1}*\\frac{\\partial X @ W1}{\\partial W1} + \\\\\\frac{\\partial softmax(Z2)}{\\partial 1 / sum(e^Z2)}*\\frac{\\partial 1 / sum(e^Z2)}{\\partial sum(e^Z2)}*\\frac{\\partial sum(e^Z2)}{\\partial e^Z2}*\\frac{\\partial e^Z2}{\\partial Z2}*\\frac{\\partial Z2}{\\partial Z1 @ W2}*\\frac{\\partial Z1 @ W2}{\\partial A1}*\\frac{\\partial A1}{\\partial Z1}*\\frac{\\partial Z1}{\\partial X @ W1}*\\frac{\\partial X @ W1}{\\partial W1}$"
     },
     "execution_count": 124,
     "metadata": {},
     "output_type": "execute_result"
    }
   ],
   "source": [
    "display_chain(w1_param.display_partial_derivative())"
   ],
   "metadata": {
    "collapsed": false
   }
  },
  {
   "cell_type": "code",
   "execution_count": 124,
   "outputs": [],
   "source": [],
   "metadata": {
    "collapsed": false
   }
  }
 ],
 "metadata": {
  "kernelspec": {
   "display_name": "Python 3",
   "language": "python",
   "name": "python3"
  },
  "language_info": {
   "codemirror_mode": {
    "name": "ipython",
    "version": 2
   },
   "file_extension": ".py",
   "mimetype": "text/x-python",
   "name": "python",
   "nbconvert_exporter": "python",
   "pygments_lexer": "ipython2",
   "version": "2.7.6"
  }
 },
 "nbformat": 4,
 "nbformat_minor": 0
}
